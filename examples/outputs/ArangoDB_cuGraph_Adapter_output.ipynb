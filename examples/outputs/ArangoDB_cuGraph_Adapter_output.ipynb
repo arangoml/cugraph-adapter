{
  "cells": [
    {
      "cell_type": "markdown",
      "metadata": {
        "id": "q8KesL7xeG89"
      },
      "source": [
        "# ArangoDB cuGraph Adapter Getting Started Guide  "
      ]
    },
    {
      "cell_type": "markdown",
      "metadata": {
        "id": "U1d45V4OeG89"
      },
      "source": [
        "<a href=\"https://colab.research.google.com/github/arangoml/cugraph-adapter/blob/master/examples/ArangoDB_cuGraph_Adapter.ipynb\" target=\"_parent\"><img src=\"https://colab.research.google.com/assets/colab-badge.svg\" alt=\"Open In Colab\"/></a>"
      ]
    },
    {
      "cell_type": "markdown",
      "metadata": {
        "id": "Nx9aa3LAeG89"
      },
      "source": [
        "![arangodb](https://github.com/arangoml/cugraph-adapter/blob/master/examples/assets/logos/ArangoDB_logo.png?raw=1)\n",
        "<a href=\"https://github.com/rapidsai/cugraph\" rel=\"github.com/rapidsai/cugraph\"><img src=\"https://github.com/arangoml/cugraph-adapter/blob/master/examples/assets/logos/rapids_logo.png?raw=1\" width=30% height=30%></a>"
      ]
    },
    {
      "cell_type": "markdown",
      "metadata": {
        "id": "bpvZS-1aeG89"
      },
      "source": [
        "Export Graphs from [ArangoDB](https://www.arangodb.com/), a multi-model Graph Database, to [cuGraph](https://github.com/rapidsai/cugraph), a library of collective GPU-accelerated graph algorithms.\n",
        "\n",
        "\n",
        "⚠️ The `Run all` option will not work in this notebook. ⚠️"
      ]
    },
    {
      "cell_type": "markdown",
      "metadata": {
        "id": "1rmQxwWC1_VR"
      },
      "source": [
        "# Environment Sanity Check\n",
        "\n"
      ]
    },
    {
      "cell_type": "markdown",
      "metadata": {
        "id": "v9AlrewS2LhM"
      },
      "source": [
        "This notebook requires a Tesla T4, P4, or P100 GPU.\n",
        "1. Open the <u>Runtime</u> dropdown\n",
        "2. Click on <u>Change Runtime Type</u>\n",
        "3. Set <u>Hardware accelerator</u> to GPU\n",
        "4. Re-connect to runtime \n",
        "\n",
        "Check the output of `!nvidia-smi -L` to make sure you've been allocated a Tesla T4, P4, or P100. If not, you can rely on the _Disconnect and delete runtime_ option to repeat the process & try again (unfortunately this is the only option)."
      ]
    },
    {
      "cell_type": "code",
      "execution_count": 1,
      "metadata": {
        "id": "z22Ut7DU2BH2",
        "colab": {
          "base_uri": "https://localhost:8080/"
        },
        "outputId": "2ff94498-4028-4b62-fa10-47a7549ca900"
      },
      "outputs": [
        {
          "output_type": "stream",
          "name": "stdout",
          "text": [
            "GPU 0: Tesla T4 (UUID: GPU-d29fdd1e-0900-c42d-55b4-6b695acb0a1f)\n"
          ]
        }
      ],
      "source": [
        "!nvidia-smi -L"
      ]
    },
    {
      "cell_type": "markdown",
      "metadata": {
        "id": "KS9c-vE5eG89"
      },
      "source": [
        "# Setup\n",
        "Est Time: 20 minutes "
      ]
    },
    {
      "cell_type": "markdown",
      "metadata": {
        "id": "wCTZz91n2QPw"
      },
      "source": [
        "Itinerary:\n",
        "1. Update gcc in Colab\n",
        "2. Install Conda\n",
        "3. Install dependencies\n",
        "4. Copy RAPIDS `.so` files into current working directory, a neccessary workaround for RAPIDS+Colab integration."
      ]
    },
    {
      "cell_type": "code",
      "execution_count": 2,
      "metadata": {
        "id": "fUnFAFAheG89",
        "colab": {
          "base_uri": "https://localhost:8080/"
        },
        "outputId": "6bc59c65-0613-48f0-9d0b-bf52e86f2a35"
      },
      "outputs": [
        {
          "output_type": "stream",
          "name": "stdout",
          "text": [
            "Cloning into 'rapidsai-csp-utils'...\n",
            "remote: Enumerating objects: 300, done.\u001b[K\n",
            "remote: Counting objects: 100% (129/129), done.\u001b[K\n",
            "remote: Compressing objects: 100% (74/74), done.\u001b[K\n",
            "remote: Total 300 (delta 74), reused 99 (delta 55), pack-reused 171\u001b[K\n",
            "Receiving objects: 100% (300/300), 87.58 KiB | 425.00 KiB/s, done.\n",
            "Resolving deltas: 100% (136/136), done.\n",
            "***********************************************************************\n",
            "Woo! Your instance has the right kind of GPU, a Tesla T4!\n",
            "***********************************************************************\n",
            "\n"
          ]
        }
      ],
      "source": [
        "# This get the RAPIDS-Colab install files and test check your GPU.  Run this and the next cell only.\n",
        "# Please read the output of this cell.  If your Colab Instance is not RAPIDS compatible, it will warn you and give you remediation steps.\n",
        "!git clone https://github.com/rapidsai/rapidsai-csp-utils.git\n",
        "!python rapidsai-csp-utils/colab/env-check.py"
      ]
    },
    {
      "cell_type": "code",
      "execution_count": null,
      "metadata": {
        "id": "RpqvL4COeG8-",
        "colab": {
          "base_uri": "https://localhost:8080/"
        },
        "outputId": "b8cbb7c6-7bef-4aab-d1e9-1bab6f1b6762"
      },
      "outputs": [
        {
          "output_type": "stream",
          "name": "stdout",
          "text": [
            "Updating your Colab environment.  This will restart your kernel.  Don't Panic!\n",
            "Get:1 http://security.ubuntu.com/ubuntu bionic-security InRelease [88.7 kB]\n",
            "Get:2 https://cloud.r-project.org/bin/linux/ubuntu bionic-cran40/ InRelease [3,626 B]\n",
            "Hit:3 http://archive.ubuntu.com/ubuntu bionic InRelease\n",
            "Get:4 https://developer.download.nvidia.com/compute/cuda/repos/ubuntu1804/x86_64  InRelease [1,581 B]\n",
            "Get:5 http://archive.ubuntu.com/ubuntu bionic-updates InRelease [88.7 kB]\n",
            "Ign:6 https://developer.download.nvidia.com/compute/machine-learning/repos/ubuntu1804/x86_64  InRelease\n",
            "Hit:7 https://developer.download.nvidia.com/compute/machine-learning/repos/ubuntu1804/x86_64  Release\n",
            "Get:8 http://archive.ubuntu.com/ubuntu bionic-backports InRelease [74.6 kB]\n",
            "Get:9 https://developer.download.nvidia.com/compute/cuda/repos/ubuntu1804/x86_64  Packages [787 kB]\n",
            "Hit:10 http://ppa.launchpad.net/c2d4u.team/c2d4u4.0+/ubuntu bionic InRelease\n",
            "Get:12 http://security.ubuntu.com/ubuntu bionic-security/universe amd64 Packages [1,503 kB]\n",
            "Hit:13 http://ppa.launchpad.net/cran/libgit2/ubuntu bionic InRelease\n",
            "Get:14 http://archive.ubuntu.com/ubuntu bionic-updates/restricted amd64 Packages [983 kB]\n",
            "Get:15 http://security.ubuntu.com/ubuntu bionic-security/multiverse amd64 Packages [22.8 kB]\n",
            "Get:16 http://security.ubuntu.com/ubuntu bionic-security/main amd64 Packages [2,781 kB]\n",
            "Get:17 http://ppa.launchpad.net/deadsnakes/ppa/ubuntu bionic InRelease [15.9 kB]\n",
            "Get:18 http://archive.ubuntu.com/ubuntu bionic-updates/main amd64 Packages [3,215 kB]\n",
            "Get:19 http://security.ubuntu.com/ubuntu bionic-security/restricted amd64 Packages [949 kB]\n",
            "Get:20 http://archive.ubuntu.com/ubuntu bionic-updates/multiverse amd64 Packages [29.8 kB]\n",
            "Get:21 http://archive.ubuntu.com/ubuntu bionic-updates/universe amd64 Packages [2,278 kB]\n",
            "Get:22 http://ppa.launchpad.net/graphics-drivers/ppa/ubuntu bionic InRelease [21.3 kB]\n",
            "Get:23 http://ppa.launchpad.net/ubuntu-toolchain-r/test/ubuntu bionic InRelease [20.8 kB]\n",
            "Get:24 http://ppa.launchpad.net/deadsnakes/ppa/ubuntu bionic/main amd64 Packages [45.3 kB]\n",
            "Get:25 http://ppa.launchpad.net/graphics-drivers/ppa/ubuntu bionic/main amd64 Packages [44.3 kB]\n",
            "Get:26 http://ppa.launchpad.net/ubuntu-toolchain-r/test/ubuntu bionic/main amd64 Packages [50.4 kB]\n",
            "Fetched 13.0 MB in 3s (4,140 kB/s)\n",
            "Reading package lists... Done\n",
            "Added repo\n",
            "Hit:1 https://cloud.r-project.org/bin/linux/ubuntu bionic-cran40/ InRelease\n",
            "Hit:2 https://developer.download.nvidia.com/compute/cuda/repos/ubuntu1804/x86_64  InRelease\n",
            "Hit:3 http://archive.ubuntu.com/ubuntu bionic InRelease\n",
            "Hit:4 http://archive.ubuntu.com/ubuntu bionic-updates InRelease\n",
            "Ign:5 https://developer.download.nvidia.com/compute/machine-learning/repos/ubuntu1804/x86_64  InRelease\n",
            "Hit:6 https://developer.download.nvidia.com/compute/machine-learning/repos/ubuntu1804/x86_64  Release\n",
            "Hit:7 http://archive.ubuntu.com/ubuntu bionic-backports InRelease\n",
            "Hit:8 http://security.ubuntu.com/ubuntu bionic-security InRelease\n",
            "Hit:9 http://ppa.launchpad.net/c2d4u.team/c2d4u4.0+/ubuntu bionic InRelease\n",
            "Hit:11 http://ppa.launchpad.net/cran/libgit2/ubuntu bionic InRelease\n",
            "Hit:12 http://ppa.launchpad.net/deadsnakes/ppa/ubuntu bionic InRelease\n",
            "Hit:13 http://ppa.launchpad.net/graphics-drivers/ppa/ubuntu bionic InRelease\n",
            "Hit:14 http://ppa.launchpad.net/ubuntu-toolchain-r/test/ubuntu bionic InRelease\n",
            "Reading package lists... Done\n",
            "Installing libstdc++\n",
            "Reading package lists... Done\n",
            "Building dependency tree       \n",
            "Reading state information... Done\n",
            "Selected version '11.1.0-1ubuntu1~18.04.1' (Toolchain test builds:18.04/bionic [amd64]) for 'libstdc++6'\n",
            "The following package was automatically installed and is no longer required:\n",
            "  libnvidia-common-460\n",
            "Use 'sudo apt autoremove' to remove it.\n",
            "The following additional packages will be installed:\n",
            "  gcc-11-base libgcc-s1\n",
            "The following NEW packages will be installed:\n",
            "  gcc-11-base libgcc-s1\n",
            "The following packages will be upgraded:\n",
            "  libstdc++6\n",
            "1 upgraded, 2 newly installed, 0 to remove and 67 not upgraded.\n",
            "Need to get 641 kB of archives.\n",
            "After this operation, 981 kB of additional disk space will be used.\n",
            "Get:1 http://ppa.launchpad.net/ubuntu-toolchain-r/test/ubuntu bionic/main amd64 gcc-11-base amd64 11.1.0-1ubuntu1~18.04.1 [19.0 kB]\n",
            "Get:2 http://ppa.launchpad.net/ubuntu-toolchain-r/test/ubuntu bionic/main amd64 libgcc-s1 amd64 11.1.0-1ubuntu1~18.04.1 [41.8 kB]\n",
            "Get:3 http://ppa.launchpad.net/ubuntu-toolchain-r/test/ubuntu bionic/main amd64 libstdc++6 amd64 11.1.0-1ubuntu1~18.04.1 [580 kB]\n",
            "Fetched 641 kB in 2s (394 kB/s)\n",
            "debconf: unable to initialize frontend: Dialog\n",
            "debconf: (No usable dialog-like program is installed, so the dialog based frontend cannot be used. at /usr/share/perl5/Debconf/FrontEnd/Dialog.pm line 76, <> line 3.)\n",
            "debconf: falling back to frontend: Readline\n",
            "debconf: unable to initialize frontend: Readline\n",
            "debconf: (This frontend requires a controlling tty.)\n",
            "debconf: falling back to frontend: Teletype\n",
            "dpkg-preconfigure: unable to re-open stdin: \n",
            "Selecting previously unselected package gcc-11-base:amd64.\n",
            "(Reading database ... 155629 files and directories currently installed.)\n",
            "Preparing to unpack .../gcc-11-base_11.1.0-1ubuntu1~18.04.1_amd64.deb ...\n",
            "Unpacking gcc-11-base:amd64 (11.1.0-1ubuntu1~18.04.1) ...\n",
            "Setting up gcc-11-base:amd64 (11.1.0-1ubuntu1~18.04.1) ...\n",
            "Selecting previously unselected package libgcc-s1:amd64.\n",
            "(Reading database ... 155634 files and directories currently installed.)\n",
            "Preparing to unpack .../libgcc-s1_11.1.0-1ubuntu1~18.04.1_amd64.deb ...\n",
            "Unpacking libgcc-s1:amd64 (11.1.0-1ubuntu1~18.04.1) ...\n",
            "Replacing files in old package libgcc1:amd64 (1:8.4.0-1ubuntu1~18.04) ...\n",
            "Setting up libgcc-s1:amd64 (11.1.0-1ubuntu1~18.04.1) ...\n",
            "(Reading database ... 155636 files and directories currently installed.)\n",
            "Preparing to unpack .../libstdc++6_11.1.0-1ubuntu1~18.04.1_amd64.deb ...\n",
            "Unpacking libstdc++6:amd64 (11.1.0-1ubuntu1~18.04.1) over (8.4.0-1ubuntu1~18.04) ...\n",
            "Setting up libstdc++6:amd64 (11.1.0-1ubuntu1~18.04.1) ...\n",
            "Processing triggers for libc-bin (2.27-3ubuntu1.3) ...\n",
            "/sbin/ldconfig.real: /usr/local/lib/python3.7/dist-packages/ideep4py/lib/libmkldnn.so.0 is not a symbolic link\n",
            "\n",
            "restarting Colab...\n"
          ]
        }
      ],
      "source": [
        "# This will update the Colab environment and restart the kernel. \n",
        "!bash rapidsai-csp-utils/colab/update_gcc.sh\n",
        "import os\n",
        "os._exit(00)\n",
        "\n",
        "# NOTE: Don't run the next cell until you see this session crash."
      ]
    },
    {
      "cell_type": "code",
      "execution_count": 1,
      "metadata": {
        "id": "LHhOv_nH2lOL",
        "colab": {
          "base_uri": "https://localhost:8080/"
        },
        "outputId": "84870bc3-00df-435a-984b-7321550cf651"
      },
      "outputs": [
        {
          "output_type": "stream",
          "name": "stdout",
          "text": [
            "⏬ Downloading https://github.com/jaimergp/miniforge/releases/latest/download/Mambaforge-colab-Linux-x86_64.sh...\n",
            "📦 Installing...\n",
            "📌 Adjusting configuration...\n",
            "🩹 Patching environment...\n",
            "⏲ Done in 0:00:22\n",
            "🔁 Restarting kernel...\n"
          ]
        }
      ],
      "source": [
        "# This will install CondaColab.  This will restart your kernel one last time.\n",
        "!pip install -q condacolab\n",
        "import condacolab\n",
        "condacolab.install()\n",
        "# condacolab.install_miniconda()\n",
        "\n",
        "# NOTE: Don't run the next cell until you see this session crash."
      ]
    },
    {
      "cell_type": "code",
      "execution_count": 1,
      "metadata": {
        "id": "34Fyyc-42mMm",
        "colab": {
          "base_uri": "https://localhost:8080/"
        },
        "outputId": "0733ca7d-f9e9-4937-8562-cf9887f076d8"
      },
      "outputs": [
        {
          "output_type": "stream",
          "name": "stdout",
          "text": [
            "✨🍰✨ Everything looks OK!\n"
          ]
        }
      ],
      "source": [
        "# You can now run the rest of the cells as normal\n",
        "import condacolab\n",
        "condacolab.check()"
      ]
    },
    {
      "cell_type": "code",
      "execution_count": 2,
      "metadata": {
        "id": "U3yZUqK02nTR",
        "colab": {
          "base_uri": "https://localhost:8080/",
          "height": 330
        },
        "outputId": "e3f5bac5-5f26-40cc-be8a-30101433d4be"
      },
      "outputs": [
        {
          "output_type": "stream",
          "name": "stdout",
          "text": [
            "Found existing installation: cffi 1.14.5\n",
            "Uninstalling cffi-1.14.5:\n",
            "  Successfully uninstalled cffi-1.14.5\n",
            "Found existing installation: cryptography 3.4.5\n",
            "Uninstalling cryptography-3.4.5:\n",
            "  Successfully uninstalled cryptography-3.4.5\n",
            "Looking in indexes: https://pypi.org/simple, https://us-python.pkg.dev/colab-wheels/public/simple/\n",
            "Collecting cffi==1.15.0\n",
            "  Downloading cffi-1.15.0-cp37-cp37m-manylinux_2_12_x86_64.manylinux2010_x86_64.whl (427 kB)\n",
            "\u001b[K     |████████████████████████████████| 427 kB 5.3 MB/s \n",
            "\u001b[?25hRequirement already satisfied: pycparser in /usr/local/lib/python3.7/site-packages (from cffi==1.15.0) (2.20)\n",
            "Installing collected packages: cffi\n",
            "Successfully installed cffi-1.15.0\n"
          ]
        },
        {
          "output_type": "display_data",
          "data": {
            "application/vnd.colab-display-data+json": {
              "pip_warning": {
                "packages": [
                  "cffi"
                ]
              }
            }
          },
          "metadata": {}
        }
      ],
      "source": [
        "# Run CFFI Colab Pip Fix\n",
        "!pip uninstall --yes cffi\n",
        "!pip uninstall --yes cryptography\n",
        "!pip install cffi==1.15.0"
      ]
    },
    {
      "cell_type": "code",
      "execution_count": 3,
      "metadata": {
        "id": "Pi1_CjzE2o7i",
        "colab": {
          "base_uri": "https://localhost:8080/"
        },
        "outputId": "df585d10-cbff-47cb-9e37-21ff658bf722"
      },
      "outputs": [
        {
          "output_type": "stream",
          "name": "stdout",
          "text": [
            "Collecting package metadata (current_repodata.json): - \b\b\\ \b\b| \b\b/ \b\b- \b\b\\ \b\b| \b\b/ \b\b- \b\b\\ \b\b| \b\b/ \b\b- \b\b\\ \b\b| \b\b/ \b\b- \b\b\\ \b\b| \b\b/ \b\b- \b\b\\ \b\b| \b\b/ \b\b- \b\b\\ \b\b| \b\b/ \b\b- \b\b\\ \b\b| \b\b/ \b\b- \b\b\\ \b\b| \b\b/ \b\b- \b\b\\ \b\b| \b\b/ \b\b- \b\b\\ \b\b| \b\b/ \b\b- \b\b\\ \b\b| \b\b/ \b\b- \b\b\\ \b\b| \b\b/ \b\b- \b\b\\ \b\b| \b\b/ \b\b- \b\b\\ \b\b| \b\b/ \b\b- \b\b\\ \b\b| \b\b/ \b\b- \b\b\\ \b\b| \b\b/ \b\b- \b\b\\ \b\b| \b\b/ \b\b- \b\b\\ \b\b| \b\b/ \b\b- \b\b\\ \b\b| \b\b/ \b\b- \b\b\\ \b\b| \b\b/ \b\b- \b\b\\ \b\b| \b\b/ \b\b- \b\b\\ \b\b| \b\b/ \b\b- \b\b\\ \b\b| \b\b/ \b\b- \b\b\\ \b\b| \b\b/ \b\b- \b\b\\ \b\b| \b\b/ \b\b- \b\b\\ \b\b| \b\b/ \b\b- \b\b\\ \b\b| \b\b/ \b\b- \b\b\\ \b\b| \b\b/ \b\b- \b\b\\ \b\bdone\n",
            "Solving environment: / \b\b- \b\b\\ \b\b| \b\b/ \b\b- \b\b\\ \b\b| \b\b/ \b\b- \b\b\\ \b\b| \b\b/ \b\b- \b\b\\ \b\b| \b\b/ \b\b- \b\b\\ \b\b| \b\b/ \b\b- \b\b\\ \b\b| \b\b/ \b\b- \b\b\\ \b\b| \b\b/ \b\b- \b\b\\ \b\b| \b\b/ \b\b- \b\b\\ \b\b| \b\b/ \b\b- \b\b\\ \b\b| \b\b/ \b\b- \b\b\\ \b\b| \b\b/ \b\b- \b\b\\ \b\b| \b\b/ \b\b- \b\b\\ \b\b| \b\b/ \b\b- \b\b\\ \b\b| \b\b/ \b\b- \b\b\\ \b\b| \b\b/ \b\b- \b\b\\ \b\b| \b\b/ \b\b- \b\b\\ \b\b| \b\b/ \b\b- \b\b\\ \b\b| \b\b/ \b\b- \b\b\\ \b\b| \b\b/ \b\b- \b\b\\ \b\b| \b\b/ \b\b- \b\b\\ \b\b| \b\b/ \b\b- \b\b\\ \b\b| \b\b/ \b\b- \b\b\\ \b\b| \b\b/ \b\b- \b\b\\ \b\b| \b\b/ \b\b- \b\b\\ \b\b| \b\b/ \b\b- \b\b\\ \b\b| \b\b/ \b\b- \b\b\\ \b\b| \b\b/ \b\b- \b\b\\ \b\b| \b\b/ \b\b- \b\b\\ \b\b| \b\b/ \b\b- \b\b\\ \b\b| \b\b/ \b\b- \b\b\\ \b\b| \b\b/ \b\b- \b\b\\ \b\b| \b\b/ \b\b- \b\b\\ \b\b| \b\b/ \b\b- \b\b\\ \b\b| \b\b/ \b\b- \b\b\\ \b\b| \b\b/ \b\b- \b\b\\ \b\b| \b\b/ \b\b- \b\b\\ \b\b| \b\b/ \b\b- \b\b\\ \b\b| \b\b/ \b\b- \b\b\\ \b\b| \b\b/ \b\b- \b\b\\ \b\b| \b\b/ \b\b- \b\b\\ \b\b| \b\b/ \b\b- \b\b\\ \b\b| \b\b/ \b\b- \b\b\\ \b\b| \b\b/ \b\b- \b\b\\ \b\b| \b\b/ \b\b- \b\b\\ \b\b| \b\b/ \b\b- \b\b\\ \b\b| \b\b/ \b\b- \b\b\\ \b\b| \b\b/ \b\b- \b\b\\ \b\b| \b\b/ \b\b- \b\b\\ \b\b| \b\b/ \b\b- \b\b\\ \b\b| \b\b/ \b\b- \b\b\\ \b\b| \b\b/ \b\b- \b\b\\ \b\b| \b\b/ \b\b- \b\b\\ \b\b| \b\b/ \b\b- \b\b\\ \b\b| \b\b/ \b\b- \b\b\\ \b\b| \b\b/ WARNING conda.core.solve:_add_specs(611): pinned spec cudatoolkit=11.1 conflicts with explicit specs.  Overriding pinned spec.\n",
            "\b\b- \b\b\\ \b\b| \b\b/ \b\b- \b\b\\ \b\b| \b\b/ \b\b- \b\b\\ \b\b| \b\b/ \b\b- \b\b\\ \b\b| \b\b/ \b\b- \b\b\\ \b\b| \b\b/ \b\b- \b\b\\ \b\b| \b\b/ \b\b- \b\b\\ \b\b| \b\b/ \b\b- \b\b\\ \b\b| \b\b/ \b\b- \b\b\\ \b\b| \b\b/ \b\b- \b\b\\ \b\b| \b\b/ \b\b- \b\b\\ \b\b| \b\b/ \b\b- \b\b\\ \b\b| \b\b/ \b\b- \b\b\\ \b\b| \b\b/ \b\b- \b\b\\ \b\b| \b\b/ \b\b- \b\b\\ \b\b| \b\b/ \b\b- \b\b\\ \b\b| \b\b/ \b\b- \b\b\\ \b\b| \b\b/ \b\b- \b\b\\ \b\b| \b\b/ \b\b- \b\b\\ \b\b| \b\b/ \b\b- \b\b\\ \b\b| \b\b/ \b\b- \b\b\\ \b\b| \b\b/ \b\b- \b\b\\ \b\b| \b\b/ \b\b- \b\b\\ \b\b| \b\b/ \b\b- \b\b\\ \b\b| \b\b/ \b\b- \b\b\\ \b\b| \b\b/ \b\b- \b\b\\ \b\b| \b\b/ \b\b- \b\b\\ \b\b| \b\b/ \b\b- \b\b\\ \b\b| \b\b/ \b\b- \b\b\\ \b\b| \b\b/ \b\b- \b\b\\ \b\b| \b\b/ \b\b- \b\b\\ \b\b| \b\b/ \b\b- \b\b\\ \b\b| \b\b/ \b\b- \b\b\\ \b\b| \b\b/ \b\b- \b\b\\ \b\b| \b\b/ \b\b- \b\b\\ \b\b| \b\b/ \b\b- \b\b\\ \b\b| \b\b/ \b\b- \b\b\\ \b\b| \b\b/ \b\b- \b\b\\ \b\b| \b\b/ \b\b- \b\b\\ \b\b| \b\b/ \b\b- \b\b\\ \b\b| \b\b/ \b\b- \b\b\\ \b\b| \b\b/ \b\b- \b\b\\ \b\b| \b\b/ \b\b- \b\b\\ \b\b| \b\b/ \b\b- \b\b\\ \b\b| \b\b/ \b\b- \b\b\\ \b\b| \b\b/ \b\b- \b\b\\ \b\b| \b\b/ \b\b- \b\b\\ \b\b| \b\b/ \b\b- \b\b\\ \b\b| \b\b/ \b\b- \b\b\\ \b\b| \b\b/ \b\b- \b\b\\ \b\b| \b\b/ \b\b- \b\b\\ \b\b| \b\b/ \b\b- \b\b\\ \b\b| \b\b/ \b\b- \b\b\\ \b\b| \b\b/ \b\b- \b\b\\ \b\b| \b\b/ \b\b- \b\b\\ \b\b| \b\b/ \b\b- \b\b\\ \b\bfailed with initial frozen solve. Retrying with flexible solve.\n",
            "Solving environment: / \b\b- \b\b\\ \b\b| \b\b/ \b\b- \b\b\\ \b\b| \b\b/ \b\b- \b\b\\ \b\b| \b\b/ \b\b- \b\b\\ \b\b| \b\b/ \b\b- \b\b\\ \b\b| \b\b/ \b\b- \b\b\\ \b\b| \b\b/ \b\b- \b\b\\ \b\b| \b\b/ \b\b- \b\b\\ \b\b| \b\b/ \b\b- \b\b\\ \b\b| \b\b/ \b\b- \b\b\\ \b\b| \b\b/ \b\b- \b\b\\ \b\b| \b\b/ \b\b- \b\b\\ \b\b| \b\b/ \b\b- \b\b\\ \b\b| \b\b/ \b\b- \b\b\\ \b\b| \b\b/ \b\b- \b\b\\ \b\b| \b\b/ \b\b- \b\b\\ \b\b| \b\b/ \b\b- \b\b\\ \b\b| \b\b/ \b\b- \b\b\\ \b\b| \b\b/ \b\b- \b\b\\ \b\b| \b\b/ \b\b- \b\b\\ \b\b| \b\b/ \b\b- \b\b\\ \b\b| \b\b/ \b\b- \b\b\\ \b\b| \b\b/ \b\b- \b\b\\ \b\b| \b\b/ \b\b- \b\b\\ \b\b| \b\b/ \b\b- \b\b\\ \b\b| \b\b/ \b\b- \b\b\\ \b\b| \b\b/ \b\b- \b\b\\ \b\b| \b\b/ \b\b- \b\b\\ \b\b| \b\b/ \b\b- \b\b\\ \b\b| \b\b/ \b\b- \b\b\\ \b\b| \b\b/ \b\b- \b\b\\ \b\b| \b\b/ \b\b- \b\b\\ \b\b| \b\b/ \b\b- \b\b\\ \b\b| \b\b/ \b\b- \b\b\\ \b\b| \b\b/ \b\b- \b\b\\ \b\b| \b\b/ \b\b- \b\b\\ \b\b| \b\b/ \b\b- \b\b\\ \b\b| \b\b/ \b\b- \b\b\\ \b\b| \b\b/ \b\b- \b\b\\ \b\b| \b\b/ \b\b- \b\b\\ \b\b| \b\b/ \b\b- \b\b\\ \b\b| \b\b/ \b\b- \b\b\\ \b\b| \b\b/ \b\b- \b\b\\ \b\b| \b\b/ \b\b- \b\b\\ \b\b| \b\b/ \b\b- \b\b\\ \b\b| \b\b/ \b\b- \b\b\\ \b\b| \b\b/ \b\b- \b\b\\ \b\b| \b\b/ \b\b- \b\b\\ \b\b| \b\b/ \b\b- \b\b\\ \b\b| \b\b/ \b\b- \b\b\\ \b\b| \b\b/ \b\b- \b\b\\ \b\b| \b\b/ \b\b- \b\b\\ \b\b| \b\b/ \b\b- \b\b\\ \b\b| \b\b/ \b\b- \b\b\\ \b\b| WARNING conda.core.solve:_add_specs(611): pinned spec cudatoolkit=11.1 conflicts with explicit specs.  Overriding pinned spec.\n",
            "\b\b/ \b\b- \b\b\\ \b\b| \b\b/ \b\b- \b\b\\ \b\b| \b\b/ \b\b- \b\b\\ \b\b| \b\b/ \b\b- \b\b\\ \b\b| \b\b/ \b\b- \b\b\\ \b\b| \b\b/ \b\b- \b\b\\ \b\b| \b\b/ \b\b- \b\b\\ \b\b| \b\b/ \b\b- \b\b\\ \b\b| \b\b/ \b\b- \b\b\\ \b\b| \b\b/ \b\b- \b\b\\ \b\b| \b\b/ \b\b- \b\b\\ \b\b| \b\b/ \b\b- \b\b\\ \b\b| \b\b/ \b\b- \b\b\\ \b\b| \b\b/ \b\b- \b\b\\ \b\b| \b\b/ \b\b- \b\b\\ \b\b| \b\b/ \b\b- \b\b\\ \b\b| \b\b/ \b\b- \b\b\\ \b\b| \b\b/ \b\b- \b\b\\ \b\b| \b\b/ \b\b- \b\b\\ \b\b| \b\b/ \b\b- \b\b\\ \b\b| \b\b/ \b\b- \b\b\\ \b\b| \b\b/ \b\b- \b\b\\ \b\b| \b\b/ \b\b- \b\b\\ \b\b| \b\b/ \b\b- \b\b\\ \b\b| \b\b/ \b\b- \b\b\\ \b\b| \b\b/ \b\b- \b\b\\ \b\b| \b\b/ \b\b- \b\b\\ \b\b| \b\b/ \b\b- \b\b\\ \b\b| \b\b/ \b\b- \b\b\\ \b\b| \b\b/ \b\b- \b\b\\ \b\b| \b\b/ \b\b- \b\b\\ \b\b| \b\b/ \b\b- \b\b\\ \b\b| \b\b/ \b\b- \b\b\\ \b\b| \b\b/ \b\b- \b\b\\ \b\b| \b\b/ \b\b- \b\b\\ \b\b| \b\b/ \b\b- \b\b\\ \b\b| \b\b/ \b\b- \b\b\\ \b\b| \b\b/ \b\b- \b\b\\ \b\b| \b\b/ \b\b- \b\b\\ \b\b| \b\b/ \b\b- \b\b\\ \b\b| \b\b/ \b\b- \b\b\\ \b\b| \b\b/ \b\b- \b\b\\ \b\b| \b\b/ \b\b- \b\b\\ \b\b| \b\b/ \b\b- \b\b\\ \b\b| \b\b/ \b\b- \b\b\\ \b\b| \b\b/ \b\b- \b\b\\ \b\b| \b\b/ \b\b- \b\b\\ \b\b| \b\b/ \b\b- \b\b\\ \b\b| \b\b/ \b\b- \b\b\\ \b\b| \b\b/ \b\b- \b\b\\ \b\b| \b\b/ \b\b- \b\b\\ \b\b| \b\b/ \b\b- \b\b\\ \b\b| \b\b/ \b\b- \b\b\\ \b\b| \b\b/ \b\b- \b\b\\ \b\b| \b\b/ \b\b- \b\b\\ \b\b| \b\b/ \b\b- \b\b\\ \b\b| \b\b/ \b\b- \b\b\\ \b\b| \b\b/ \b\b- \b\b\\ \b\b| \b\b/ \b\b- \b\b\\ \b\b| \b\b/ \b\b- \b\b\\ \b\b| \b\b/ \b\b- \b\b\\ \b\b| \b\b/ \b\b- \b\b\\ \b\b| \b\b/ \b\b- \b\b\\ \b\b| \b\b/ \b\b- \b\b\\ \b\b| \b\b/ \b\b- \b\b\\ \b\b| \b\b/ \b\b- \b\b\\ \b\b| \b\b/ \b\b- \b\b\\ \b\b| \b\b/ \b\b- \b\b\\ \b\b| \b\b/ \b\b- \b\b\\ \b\b| \b\b/ \b\b- \b\b\\ \b\b| \b\b/ \b\b- \b\b\\ \b\b| \b\b/ \b\b- \b\b\\ \b\b| \b\b/ \b\b- \b\b\\ \b\b| \b\b/ \b\b- \b\b\\ \b\b| \b\b/ \b\b- \b\b\\ \b\b| \b\b/ \b\b- \b\b\\ \b\b| \b\b/ \b\b- \b\b\\ \b\b| \b\b/ \b\b- \b\b\\ \b\b| \b\b/ \b\b- \b\b\\ \b\b| \b\b/ \b\b- \b\b\\ \b\b| \b\b/ \b\b- \b\b\\ \b\b| \b\b/ \b\b- \b\b\\ \b\b| \b\b/ \b\b- \b\b\\ \b\b| \b\b/ \b\b- \b\b\\ \b\b| \b\b/ \b\b- \b\b\\ \b\b| \b\b/ \b\b- \b\b\\ \b\b| \b\b/ \b\b- \b\b\\ \b\b| \b\b/ \b\b- \b\b\\ \b\b| \b\b/ \b\b- \b\b\\ \b\b| \b\b/ \b\b- \b\b\\ \b\b| \b\b/ \b\b- \b\b\\ \b\b| \b\b/ \b\b- \b\b\\ \b\b| \b\b/ \b\b- \b\b\\ \b\b| \b\b/ \b\b- \b\b\\ \b\b| \b\b/ \b\b- \b\b\\ \b\b| \b\b/ \b\b- \b\b\\ \b\b| \b\b/ \b\b- \b\b\\ \b\b| \b\b/ \b\b- \b\bfailed with repodata from current_repodata.json, will retry with next repodata source.\n",
            "Collecting package metadata (repodata.json): | \b\b/ \b\b- \b\b\\ \b\b| \b\b/ \b\b- \b\b\\ \b\b| \b\b/ \b\b- \b\b\\ \b\b| \b\b/ \b\b- \b\b\\ \b\b| \b\b/ \b\b- \b\b\\ \b\b| \b\b/ \b\b- \b\b\\ \b\b| \b\b/ \b\b- \b\b\\ \b\b| \b\b/ \b\b- \b\b\\ \b\b| \b\b/ \b\b- \b\b\\ \b\b| \b\b/ \b\b- \b\b\\ \b\b| \b\b/ \b\b- \b\b\\ \b\b| \b\b/ \b\b- \b\b\\ \b\b| \b\b/ \b\b- \b\b\\ \b\b| \b\b/ \b\b- \b\b\\ \b\b| \b\b/ \b\b- \b\b\\ \b\b| \b\b/ \b\b- \b\b\\ \b\b| \b\b/ \b\b- \b\b\\ \b\b| \b\b/ \b\b- \b\b\\ \b\b| \b\b/ \b\b- \b\b\\ \b\b| \b\b/ \b\b- \b\b\\ \b\b| \b\b/ \b\b- \b\b\\ \b\b| \b\b/ \b\b- \b\b\\ \b\b| \b\b/ \b\b- \b\b\\ \b\b| \b\b/ \b\b- \b\b\\ \b\b| \b\b/ \b\b- \b\b\\ \b\b| \b\b/ \b\b- \b\b\\ \b\b| \b\b/ \b\b- \b\b\\ \b\b| \b\b/ \b\b- \b\b\\ \b\b| \b\b/ \b\b- \b\b\\ \b\b| \b\b/ \b\b- \b\b\\ \b\b| \b\b/ \b\b- \b\b\\ \b\b| \b\b/ \b\b- \b\b\\ \b\b| \b\b/ \b\b- \b\b\\ \b\b| \b\b/ \b\b- \b\b\\ \b\b| \b\b/ \b\b- \b\b\\ \b\b| \b\b/ \b\b- \b\b\\ \b\b| \b\b/ \b\b- \b\b\\ \b\b| \b\b/ \b\b- \b\b\\ \b\b| \b\b/ \b\b- \b\b\\ \b\b| \b\b/ \b\b- \b\b\\ \b\b| \b\b/ \b\b- \b\b\\ \b\b| \b\b/ \b\b- \b\b\\ \b\b| \b\b/ \b\b- \b\b\\ \b\b| \b\b/ \b\b- \b\b\\ \b\b| \b\b/ \b\b- \b\b\\ \b\b| \b\b/ \b\b- \b\b\\ \b\b| \b\b/ \b\b- \b\b\\ \b\b| \b\b/ \b\b- \b\b\\ \b\b| \b\b/ \b\b- \b\b\\ \b\b| \b\b/ \b\b- \b\b\\ \b\b| \b\b/ \b\b- \b\b\\ \b\b| \b\b/ \b\b- \b\b\\ \b\b| \b\b/ \b\b- \b\b\\ \b\b| \b\b/ \b\b- \b\b\\ \b\b| \b\b/ \b\b- \b\b\\ \b\b| \b\b/ \b\b- \b\b\\ \b\b| \b\b/ \b\b- \b\b\\ \b\b| \b\b/ \b\b- \b\b\\ \b\b| \b\b/ \b\b- \b\b\\ \b\b| \b\b/ \b\b- \b\b\\ \b\b| \b\b/ \b\b- \b\b\\ \b\b| \b\b/ \b\b- \b\b\\ \b\b| \b\b/ \b\b- \b\b\\ \b\b| \b\b/ \b\b- \b\b\\ \b\b| \b\b/ \b\b- \b\b\\ \b\b| \b\b/ \b\b- \b\b\\ \b\b| \b\b/ \b\b- \b\b\\ \b\b| \b\b/ \b\b- \b\b\\ \b\b| \b\b/ \b\b- \b\b\\ \b\b| \b\b/ \b\b- \b\b\\ \b\b| \b\b/ \b\b- \b\b\\ \b\b| \b\b/ \b\b- \b\b\\ \b\b| \b\b/ \b\b- \b\b\\ \b\b| \b\b/ \b\b- \b\b\\ \b\b| \b\b/ \b\b- \b\b\\ \b\b| \b\b/ \b\b- \b\b\\ \b\b| \b\b/ \b\b- \b\b\\ \b\b| \b\b/ \b\b- \b\b\\ \b\b| \b\b/ \b\b- \b\b\\ \b\b| \b\b/ \b\b- \b\b\\ \b\b| \b\b/ \b\b- \b\b\\ \b\b| \b\b/ \b\b- \b\b\\ \b\b| \b\b/ \b\b- \b\b\\ \b\b| \b\b/ \b\b- \b\b\\ \b\b| \b\b/ \b\b- \b\b\\ \b\b| \b\b/ \b\b- \b\b\\ \b\b| \b\b/ \b\b- \b\b\\ \b\b| \b\b/ \b\b- \b\b\\ \b\b| \b\b/ \b\b- \b\b\\ \b\b| \b\b/ \b\b- \b\b\\ \b\b| \b\b/ \b\b- \b\b\\ \b\b| \b\b/ \b\b- \b\b\\ \b\b| \b\b/ \b\b- \b\b\\ \b\b| \b\b/ \b\b- \b\b\\ \b\b| \b\b/ \b\b- \b\b\\ \b\b| \b\b/ \b\b- \b\b\\ \b\b| \b\b/ \b\b- \b\b\\ \b\bdone\n",
            "Solving environment: / \b\b- \b\b\\ \b\b| \b\b/ \b\b- \b\b\\ \b\b| \b\b/ \b\b- \b\b\\ \b\b| \b\b/ \b\b- \b\b\\ \b\b| \b\b/ \b\b- \b\b\\ \b\b| \b\b/ \b\b- \b\b\\ \b\b| \b\b/ \b\b- \b\b\\ \b\b| \b\b/ \b\b- \b\b\\ \b\b| \b\b/ \b\b- \b\b\\ \b\b| \b\b/ \b\b- \b\b\\ \b\b| \b\b/ \b\b- \b\b\\ \b\b| \b\b/ \b\b- \b\b\\ \b\b| \b\b/ \b\b- \b\b\\ \b\b| \b\b/ \b\b- \b\b\\ \b\b| \b\b/ \b\b- \b\b\\ \b\b| \b\b/ \b\b- \b\b\\ \b\b| \b\b/ \b\b- \b\b\\ \b\b| \b\b/ \b\b- \b\b\\ \b\b| \b\b/ \b\b- \b\b\\ \b\b| \b\b/ \b\b- \b\b\\ \b\b| \b\b/ \b\b- \b\b\\ \b\b| \b\b/ \b\b- \b\b\\ \b\b| \b\b/ \b\b- \b\b\\ \b\b| \b\b/ \b\b- \b\b\\ \b\b| \b\b/ \b\b- \b\b\\ \b\b| \b\b/ \b\b- \b\b\\ \b\b| \b\b/ \b\b- \b\b\\ \b\b| \b\b/ \b\b- \b\b\\ \b\b| \b\b/ \b\b- \b\b\\ \b\b| \b\b/ \b\b- \b\b\\ \b\b| \b\b/ \b\b- \b\b\\ \b\b| \b\b/ \b\b- \b\b\\ \b\b| \b\b/ \b\b- \b\b\\ \b\b| \b\b/ \b\b- \b\b\\ \b\b| \b\b/ \b\b- \b\b\\ \b\b| \b\b/ \b\b- \b\b\\ \b\b| \b\b/ \b\b- \b\b\\ \b\b| \b\b/ \b\b- \b\b\\ \b\b| \b\b/ \b\b- \b\b\\ \b\b| \b\b/ \b\b- \b\b\\ \b\b| \b\b/ \b\b- \b\b\\ \b\b| \b\b/ \b\b- \b\b\\ \b\b| \b\b/ \b\b- \b\b\\ \b\b| \b\b/ \b\b- \b\b\\ \b\b| \b\b/ \b\b- \b\b\\ \b\b| \b\b/ \b\b- \b\b\\ \b\b| \b\b/ \b\b- \b\b\\ \b\b| \b\b/ \b\b- \b\b\\ \b\b| \b\b/ \b\b- \b\b\\ \b\b| \b\b/ \b\b- \b\b\\ \b\b| \b\b/ \b\b- \b\b\\ \b\b| \b\b/ \b\b- \b\b\\ \b\b| \b\b/ \b\b- \b\b\\ \b\b| \b\b/ \b\b- \b\b\\ \b\b| \b\b/ \b\b- \b\b\\ \b\b| \b\b/ \b\b- \b\b\\ \b\b| \b\b/ \b\b- \b\b\\ \b\b| \b\b/ \b\b- \b\b\\ \b\b| \b\b/ \b\b- \b\b\\ \b\b| \b\b/ \b\b- \b\b\\ \b\b| \b\b/ \b\b- \b\b\\ \b\b| \b\b/ \b\b- \b\b\\ \b\b| \b\b/ \b\b- \b\b\\ \b\b| \b\b/ \b\b- \b\b\\ \b\b| \b\b/ \b\b- \b\b\\ \b\b| \b\b/ \b\b- \b\b\\ \b\b| \b\b/ \b\b- \b\b\\ \b\b| \b\b/ \b\b- \b\b\\ \b\b| \b\b/ \b\b- \b\b\\ \b\b| \b\b/ \b\b- \b\b\\ \b\b| \b\b/ \b\b- \b\b\\ \b\b| \b\b/ \b\b- \b\b\\ \b\b| \b\b/ \b\b- \b\b\\ \b\b| \b\b/ \b\b- \b\b\\ \b\b| \b\b/ \b\b- \b\b\\ \b\b| \b\b/ \b\b- \b\b\\ \b\b| \b\b/ \b\b- \b\b\\ \b\b| \b\b/ \b\b- \b\b\\ \b\b| \b\b/ \b\b- \b\b\\ \b\b| \b\b/ \b\b- \b\b\\ \b\b| \b\b/ \b\b- \b\b\\ \b\b| \b\b/ \b\b- \b\b\\ \b\b| \b\b/ \b\b- \b\b\\ \b\b| \b\b/ \b\b- \b\b\\ \b\b| \b\b/ \b\b- \b\b\\ \b\b| \b\b/ \b\b- \b\b\\ \b\b| \b\b/ \b\b- \b\b\\ \b\b| \b\b/ \b\b- \b\b\\ \b\b| \b\b/ \b\b- \b\b\\ \b\b| \b\b/ \b\b- \b\b\\ \b\b| \b\b/ \b\b- \b\b\\ \b\b| \b\b/ \b\b- \b\b\\ \b\b| \b\b/ \b\b- \b\b\\ \b\b| \b\b/ \b\b- \b\b\\ \b\b| \b\b/ \b\b- \b\b\\ \b\b| \b\b/ \b\b- \b\b\\ \b\b| \b\b/ \b\b- \b\b\\ \b\b| \b\b/ \b\b- \b\b\\ \b\b| \b\b/ \b\b- \b\b\\ \b\b| \b\b/ \b\b- \b\b\\ \b\b| \b\b/ \b\b- \b\b\\ \b\b| \b\b/ \b\b- \b\b\\ \b\b| \b\b/ \b\b- \b\b\\ \b\b| \b\b/ \b\b- \b\b\\ \b\b| \b\b/ \b\b- \b\b\\ \b\b| \b\b/ \b\b- \b\b\\ \b\b| \b\b/ \b\b- \b\b\\ \b\b| \b\b/ \b\b- \b\b\\ \b\b| \b\b/ \b\b- \b\b\\ \b\b| \b\b/ \b\b- \b\b\\ \b\b| \b\b/ \b\b- \b\b\\ \b\b| \b\b/ \b\b- \b\b\\ \b\b| \b\b/ \b\b- \b\b\\ \b\b| \b\b/ \b\b- \b\b\\ \b\b| \b\b/ \b\b- \b\b\\ \b\b| \b\b/ \b\b- \b\b\\ \b\b| \b\b/ \b\b- \b\b\\ \b\b| \b\b/ \b\b- \b\b\\ \b\b| \b\b/ \b\b- \b\b\\ \b\b| \b\b/ \b\b- \b\b\\ \b\b| \b\b/ \b\b- \b\b\\ \b\b| \b\b/ \b\b- \b\b\\ \b\b| \b\b/ \b\b- \b\b\\ \b\b| \b\b/ \b\b- \b\b\\ \b\b| \b\b/ \b\b- \b\b\\ \b\b| \b\b/ \b\b- \b\b\\ \b\b| \b\b/ \b\b- \b\b\\ \b\b| \b\b/ \b\b- \b\b\\ \b\b| \b\b/ \b\b- \b\b\\ \b\b| \b\b/ \b\b- \b\b\\ \b\b| \b\b/ \b\b- \b\b\\ \b\b| \b\b/ \b\b- \b\b\\ \b\b| \b\b/ \b\b- \b\b\\ \b\b| \b\b/ \b\b- \b\b\\ \b\b| \b\b/ \b\b- \b\b\\ \b\b| \b\b/ \b\b- \b\b\\ \b\b| \b\b/ \b\b- \b\b\\ \b\b| \b\b/ \b\b- \b\b\\ \b\b| \b\b/ \b\b- \b\b\\ \b\b| \b\b/ \b\b- \b\b\\ \b\b| \b\b/ \b\b- \b\b\\ \b\b| \b\b/ \b\b- \b\b\\ \b\b| \b\b/ \b\b- \b\b\\ \b\b| \b\b/ \b\b- \b\b\\ \b\b| \b\b/ \b\b- \b\b\\ \b\b| \b\b/ \b\b- \b\b\\ \b\b| \b\b/ \b\b- \b\b\\ \b\b| \b\b/ \b\b- \b\b\\ \b\b| \b\b/ \b\b- \b\b\\ \b\b| \b\b/ \b\b- \b\b\\ \b\b| \b\b/ \b\b- \b\b\\ \b\b| \b\b/ \b\b- \b\b\\ \b\b| \b\b/ \b\b- \b\b\\ \b\b| \b\b/ \b\b- \b\b\\ \b\b| \b\b/ \b\b- \b\b\\ \b\b| \b\b/ \b\b- \b\b\\ \b\b| \b\b/ \b\b- \b\b\\ \b\b| \b\b/ \b\b- \b\b\\ \b\b| \b\b/ \b\b- \b\b\\ \b\b| \b\b/ \b\b- \b\b\\ \b\b| \b\b/ \b\b- \b\b\\ \b\b| \b\b/ \b\b- \b\b\\ \b\b| \b\b/ \b\b- \b\b\\ \b\b| \b\b/ \b\b- \b\b\\ \b\b| \b\b/ \b\b- \b\b\\ \b\b| \b\b/ \b\b- \b\b\\ \b\b| \b\b/ \b\b- \b\b\\ \b\b| \b\b/ \b\b- \b\b\\ \b\b| \b\b/ \b\b- \b\b\\ \b\b| \b\b/ \b\b- \b\b\\ \b\b| \b\b/ \b\b- \b\b\\ \b\b| \b\b/ \b\b- \b\b\\ \b\b| \b\b/ \b\b- \b\b\\ \b\b| \b\b/ \b\b- \b\b\\ \b\b| \b\b/ \b\b- \b\b\\ \b\b| \b\b/ \b\b- \b\b\\ \b\b| \b\b/ \b\b- \b\b\\ \b\b| \b\b/ \b\b- \b\b\\ \b\b| \b\b/ \b\b- \b\b\\ \b\b| \b\b/ \b\b- \b\b\\ \b\b| \b\b/ \b\b- \b\b\\ \b\b| \b\b/ \b\b- \b\b\\ \b\b| \b\b/ \b\b- \b\b\\ \b\b| \b\b/ \b\b- \b\b\\ \b\b| \b\b/ \b\b- \b\b\\ \b\b| \b\b/ \b\b- \b\b\\ \b\b| \b\b/ \b\b- \b\b\\ \b\b| \b\b/ \b\b- \b\b\\ \b\b| \b\b/ \b\b- \b\b\\ \b\b| \b\b/ \b\b- \b\b\\ \b\b| \b\b/ \b\b- \b\b\\ \b\b| \b\b/ \b\b- \b\b\\ \b\b| \b\b/ \b\b- \b\b\\ \b\b| \b\b/ \b\b- \b\b\\ \b\b| \b\b/ \b\b- \b\b\\ \b\b| \b\b/ \b\b- \b\b\\ \b\b| \b\b/ \b\b- \b\b\\ \b\b| \b\b/ \b\b- \b\b\\ \b\b| \b\b/ \b\b- \b\b\\ \b\b| \b\b/ \b\b- \b\b\\ \b\b| \b\b/ \b\b- \b\b\\ \b\b| \b\b/ \b\b- \b\b\\ \b\b| \b\b/ \b\b- \b\b\\ \b\b| \b\b/ \b\b- \b\b\\ \b\b| \b\b/ \b\b- \b\b\\ \b\b| \b\b/ \b\b- \b\b\\ \b\b| \b\b/ \b\b- \b\b\\ \b\b| \b\b/ \b\b- \b\b\\ \b\b| \b\b/ \b\b- \b\b\\ \b\b| \b\b/ \b\b- \b\b\\ \b\b| \b\b/ \b\b- \b\b\\ \b\b| \b\b/ \b\b- \b\b\\ \b\b| \b\b/ \b\b- \b\b\\ \b\b| \b\b/ \b\b- \b\b\\ \b\b| \b\b/ \b\b- \b\b\\ \b\b| \b\b/ \b\b- \b\b\\ \b\b| \b\b/ \b\b- \b\b\\ \b\b| \b\b/ \b\b- \b\b\\ \b\b| \b\b/ \b\b- \b\b\\ \b\b| \b\b/ \b\b- \b\b\\ \b\b| \b\b/ \b\b- \b\b\\ \b\b| \b\b/ \b\b- \b\b\\ \b\b| \b\b/ \b\b- \b\b\\ \b\b| \b\b/ \b\b- \b\b\\ \b\b| \b\b/ \b\b- \b\b\\ \b\b| \b\b/ \b\b- \b\b\\ \b\b| \b\b/ \b\b- \b\b\\ \b\b| \b\b/ \b\b- \b\b\\ \b\b| \b\b/ \b\b- \b\b\\ \b\b| \b\b/ \b\b- \b\b\\ \b\b| \b\b/ \b\b- \b\b\\ \b\b| \b\b/ \b\b- \b\b\\ \b\b| \b\b/ \b\b- \b\b\\ \b\b| \b\b/ \b\b- \b\b\\ \b\b| \b\b/ \b\b- \b\b\\ \b\b| \b\b/ \b\b- \b\b\\ \b\b| \b\b/ \b\b- \b\b\\ \b\b| \b\b/ \b\b- \b\b\\ \b\b| \b\b/ \b\b- \b\b\\ \b\b| \b\b/ \b\b- \b\b\\ \b\b| \b\b/ \b\b- \b\b\\ \b\b| \b\b/ \b\b- \b\b\\ \b\b| \b\b/ \b\b- \b\b\\ \b\b| \b\b/ \b\b- \b\b\\ \b\b| \b\b/ \b\b- \b\b\\ \b\b| \b\b/ \b\b- \b\b\\ \b\b| \b\b/ \b\b- \b\b\\ \b\b| \b\b/ \b\b- \b\b\\ \b\b| \b\b/ \b\b- \b\b\\ \b\b| \b\b/ \b\b- \b\b\\ \b\b| \b\b/ \b\b- \b\b\\ \b\b| \b\b/ \b\b- \b\b\\ \b\b| \b\b/ \b\b- \b\b\\ \b\b| \b\b/ \b\b- \b\b\\ \b\b| \b\b/ \b\b- \b\b\\ \b\b| \b\b/ \b\b- \b\b\\ \b\b| \b\b/ \b\b- \b\b\\ \b\b| \b\b/ \b\b- \b\b\\ \b\b| \b\b/ \b\b- \b\b\\ \b\b| \b\b/ \b\b- \b\b\\ \b\b| \b\b/ \b\b- \b\b\\ \b\b| \b\b/ \b\b- \b\b\\ \b\b| \b\b/ \b\b- \b\b\\ \b\b| \b\b/ \b\b- \b\b\\ \b\b| \b\b/ \b\b- \b\b\\ \b\b| \b\b/ \b\b- \b\b\\ \b\b| \b\b/ \b\b- \b\b\\ \b\b| \b\b/ \b\b- \b\b\\ \b\b| \b\b/ \b\b- \b\b\\ \b\b| \b\b/ \b\b- \b\b\\ \b\b| \b\b/ \b\b- WARNING conda.core.solve:_add_specs(611): pinned spec cudatoolkit=11.1 conflicts with explicit specs.  Overriding pinned spec.\n",
            "\b\b\\ \b\b| \b\b/ \b\b- \b\b\\ \b\b| \b\b/ \b\b- \b\b\\ \b\b| \b\b/ \b\b- \b\b\\ \b\b| \b\b/ \b\b- \b\b\\ \b\b| \b\b/ \b\b- \b\b\\ \b\b| \b\b/ \b\b- \b\b\\ \b\b| \b\b/ \b\b- \b\b\\ \b\b| \b\b/ \b\b- \b\b\\ \b\b| \b\b/ \b\b- \b\b\\ \b\b| \b\b/ \b\b- \b\b\\ \b\b| \b\b/ \b\b- \b\b\\ \b\b| \b\b/ \b\b- \b\b\\ \b\b| \b\b/ \b\b- \b\b\\ \b\b| \b\b/ \b\b- \b\b\\ \b\b| \b\b/ \b\b- \b\b\\ \b\b| \b\b/ \b\b- \b\b\\ \b\b| \b\b/ \b\b- \b\b\\ \b\b| \b\b/ \b\b- \b\b\\ \b\b| \b\b/ \b\b- \b\b\\ \b\b| \b\b/ \b\b- \b\b\\ \b\b| \b\b/ \b\b- \b\b\\ \b\b| \b\b/ \b\b- \b\b\\ \b\b| \b\b/ \b\b- \b\b\\ \b\b| \b\b/ \b\b- \b\b\\ \b\b| \b\b/ \b\b- \b\b\\ \b\b| \b\b/ \b\b- \b\b\\ \b\b| \b\b/ \b\bdone\n",
            "\n",
            "## Package Plan ##\n",
            "\n",
            "  environment location: /usr/local\n",
            "\n",
            "  added / updated specs:\n",
            "    - cudatoolkit=11.2\n",
            "    - cugraph=21.12\n",
            "\n",
            "\n",
            "The following packages will be downloaded:\n",
            "\n",
            "    package                    |            build\n",
            "    ---------------------------|-----------------\n",
            "    abseil-cpp-20210324.2      |       h9c3ff4c_0        1010 KB  conda-forge\n",
            "    arrow-cpp-5.0.0            |py37hc2523e2_2_cuda        23.3 MB  conda-forge\n",
            "    arrow-cpp-proc-3.0.0       |             cuda          24 KB  conda-forge\n",
            "    aws-c-cal-0.5.10           |       h3622835_0          37 KB  conda-forge\n",
            "    aws-c-common-0.5.11        |       h7f98852_0         165 KB  conda-forge\n",
            "    aws-c-event-stream-0.2.7   |       hd2d8ebb_9          47 KB  conda-forge\n",
            "    aws-c-io-0.10.2            |       he6d800f_1         121 KB  conda-forge\n",
            "    aws-checksums-0.1.11       |       hc0e0e8b_6          50 KB  conda-forge\n",
            "    aws-sdk-cpp-1.8.186        |       h9ad65fb_2         4.6 MB  conda-forge\n",
            "    bokeh-2.4.3                |   py37h89c1867_0        13.7 MB  conda-forge\n",
            "    ca-certificates-2022.5.18.1|       ha878542_0         144 KB  conda-forge\n",
            "    cachetools-5.0.0           |     pyhd8ed1ab_0          12 KB  conda-forge\n",
            "    certifi-2022.5.18.1        |   py37h89c1867_0         150 KB  conda-forge\n",
            "    click-8.1.3                |   py37h89c1867_0         145 KB  conda-forge\n",
            "    cloudpickle-2.1.0          |     pyhd8ed1ab_0          25 KB  conda-forge\n",
            "    conda-4.12.0               |   py37h89c1867_0         1.0 MB  conda-forge\n",
            "    cudatoolkit-11.2.72        |       h2bc3f7f_0       933.4 MB  nvidia\n",
            "    cudf-21.12.02              |cuda_11_py37_g06540b9b37_0        12.6 MB  rapidsai\n",
            "    cugraph-21.12.00           |cuda11_py37_g3a43e9d0_0         7.2 MB  rapidsai\n",
            "    cupy-9.6.0                 |   py37h07c33ac_0        51.5 MB  conda-forge\n",
            "    cytoolz-0.11.2             |   py37h540881e_2         382 KB  conda-forge\n",
            "    dask-2021.11.2             |     pyhd8ed1ab_0           5 KB  conda-forge\n",
            "    dask-core-2021.11.2        |     pyhd8ed1ab_0         783 KB  conda-forge\n",
            "    dask-cuda-21.12.00         |           py37_0         123 KB  rapidsai\n",
            "    dask-cudf-21.12.02         |cuda_11_py37_g06540b9b37_0         112 KB  rapidsai\n",
            "    distributed-2021.11.2      |   py37h89c1867_0         1.1 MB  conda-forge\n",
            "    dlpack-0.5                 |       h9c3ff4c_0          12 KB  conda-forge\n",
            "    faiss-proc-1.0.0           |             cuda          24 KB  rapidsai\n",
            "    fastavro-1.4.12            |   py37h540881e_0         448 KB  conda-forge\n",
            "    fastrlock-0.8              |   py37hd23a5d3_2          31 KB  conda-forge\n",
            "    freetype-2.10.4            |       h0708190_1         890 KB  conda-forge\n",
            "    fsspec-2022.5.0            |     pyhd8ed1ab_0          96 KB  conda-forge\n",
            "    gflags-2.2.2               |    he1b5a44_1004         114 KB  conda-forge\n",
            "    glog-0.5.0                 |       h48cff8f_0         104 KB  conda-forge\n",
            "    grpc-cpp-1.39.0            |       hf1f433d_2         3.6 MB  conda-forge\n",
            "    heapdict-1.0.1             |             py_0           7 KB  conda-forge\n",
            "    importlib-metadata-4.11.4  |   py37h89c1867_0          33 KB  conda-forge\n",
            "    jinja2-3.1.2               |     pyhd8ed1ab_0          99 KB  conda-forge\n",
            "    jpeg-9e                    |       h166bdaf_1         268 KB  conda-forge\n",
            "    lcms2-2.12                 |       hddcbb42_0         443 KB  conda-forge\n",
            "    libarchive-3.5.2           |       hccf745f_1         1.6 MB  conda-forge\n",
            "    libblas-3.9.0              |14_linux64_openblas          12 KB  conda-forge\n",
            "    libbrotlicommon-1.0.9      |       h166bdaf_7          65 KB  conda-forge\n",
            "    libbrotlidec-1.0.9         |       h166bdaf_7          33 KB  conda-forge\n",
            "    libbrotlienc-1.0.9         |       h166bdaf_7         287 KB  conda-forge\n",
            "    libcblas-3.9.0             |14_linux64_openblas          12 KB  conda-forge\n",
            "    libcudf-21.12.02           |cuda11_g06540b9b37_0       288.2 MB  rapidsai\n",
            "    libcugraph-21.12.00        |cuda11_g3a43e9d0_0       259.4 MB  rapidsai\n",
            "    libcurl-7.76.1             |       hc4aaa36_1         328 KB  conda-forge\n",
            "    libcusolver-11.3.5.50      |       hcab339c_0        89.2 MB  nvidia\n",
            "    libevent-2.1.10            |       h9b69904_4         1.1 MB  conda-forge\n",
            "    libfaiss-1.7.0             |cuda112h5bea7ad_8_cuda        98.5 MB  conda-forge\n",
            "    libgcc-ng-12.1.0           |      h8d9b700_16         940 KB  conda-forge\n",
            "    libgfortran-ng-12.1.0      |      h69a702a_16          23 KB  conda-forge\n",
            "    libgfortran5-12.1.0        |      hdcd56e2_16         1.8 MB  conda-forge\n",
            "    libgomp-12.1.0             |      h8d9b700_16         459 KB  conda-forge\n",
            "    libhwloc-2.3.0             |       h5e5b7d1_1         2.7 MB  conda-forge\n",
            "    liblapack-3.9.0            |14_linux64_openblas          12 KB  conda-forge\n",
            "    libopenblas-0.3.20         |pthreads_h78a6416_0        10.1 MB  conda-forge\n",
            "    libpng-1.6.37              |       h21135ba_2         306 KB  conda-forge\n",
            "    libprotobuf-3.16.0         |       h780b84a_0         2.5 MB  conda-forge\n",
            "    librmm-21.12.00            |cuda11_g957ad04_0         688 KB  rapidsai\n",
            "    libstdcxx-ng-12.1.0        |      ha89aaad_16         4.3 MB  conda-forge\n",
            "    libthrift-0.14.2           |       he6d91bd_1         4.5 MB  conda-forge\n",
            "    libtiff-4.2.0              |       hf544144_3         590 KB  conda-forge\n",
            "    libutf8proc-2.7.0          |       h7f98852_0          98 KB  conda-forge\n",
            "    libwebp-base-1.2.2         |       h7f98852_1         824 KB  conda-forge\n",
            "    libxml2-2.9.12             |       h72842e0_0         772 KB  conda-forge\n",
            "    llvmlite-0.38.0            |   py37he1b5a44_0        28.2 MB  numba\n",
            "    locket-1.0.0               |     pyhd8ed1ab_0           8 KB  conda-forge\n",
            "    markupsafe-2.1.1           |   py37h540881e_1          22 KB  conda-forge\n",
            "    msgpack-python-1.0.3       |   py37h7cecad7_1          90 KB  conda-forge\n",
            "    nccl-2.12.12.1             |       h0800d71_0       135.3 MB  conda-forge\n",
            "    numba-0.55.1               |np1.11py3.7hc13618b_g76720bf88_0         3.7 MB  numba\n",
            "    numpy-1.21.6               |   py37h976b520_0         6.1 MB  conda-forge\n",
            "    nvtx-0.2.3                 |   py37h5e8e339_1          55 KB  conda-forge\n",
            "    olefile-0.46               |     pyh9f0ad1d_1          32 KB  conda-forge\n",
            "    openjpeg-2.4.0             |       hb52868f_1         444 KB  conda-forge\n",
            "    openssl-1.1.1o             |       h166bdaf_0         2.1 MB  conda-forge\n",
            "    orc-1.6.9                  |       h58a87f1_0         746 KB  conda-forge\n",
            "    packaging-21.3             |     pyhd8ed1ab_0          36 KB  conda-forge\n",
            "    pandas-1.3.5               |   py37he8f5f7f_0        12.7 MB  conda-forge\n",
            "    parquet-cpp-1.5.1          |                2           3 KB  conda-forge\n",
            "    partd-1.2.0                |     pyhd8ed1ab_0          18 KB  conda-forge\n",
            "    pillow-8.2.0               |   py37h4600e1f_1         684 KB  conda-forge\n",
            "    protobuf-3.16.0            |   py37hcd2ae1e_0         342 KB  conda-forge\n",
            "    psutil-5.9.1               |   py37h540881e_0         344 KB  conda-forge\n",
            "    ptxcompiler-0.2.0          |   py37hcfeb250_0         5.6 MB  rapidsai\n",
            "    pyarrow-5.0.0              |py37hf0016df_2_cuda         2.9 MB  conda-forge\n",
            "    pynvml-11.4.1              |     pyhd8ed1ab_0          40 KB  conda-forge\n",
            "    pyparsing-3.0.9            |     pyhd8ed1ab_0          79 KB  conda-forge\n",
            "    python-dateutil-2.8.2      |     pyhd8ed1ab_0         240 KB  conda-forge\n",
            "    python_abi-3.7             |          2_cp37m           4 KB  conda-forge\n",
            "    pytz-2022.1                |     pyhd8ed1ab_0         242 KB  conda-forge\n",
            "    pyyaml-6.0                 |   py37h540881e_4         178 KB  conda-forge\n",
            "    re2-2021.08.01             |       h9c3ff4c_0         220 KB  conda-forge\n",
            "    rmm-21.12.00               |cuda11_py37_g957ad04_0_has_cma         943 KB  rapidsai\n",
            "    s2n-1.0.10                 |       h9b69904_0         442 KB  conda-forge\n",
            "    snappy-1.1.9               |       hbd366e4_1          35 KB  conda-forge\n",
            "    sortedcontainers-2.4.0     |     pyhd8ed1ab_0          26 KB  conda-forge\n",
            "    spdlog-1.8.5               |       h4bd325d_1         352 KB  conda-forge\n",
            "    tblib-1.7.0                |     pyhd8ed1ab_0          15 KB  conda-forge\n",
            "    toolz-0.11.2               |     pyhd8ed1ab_0          48 KB  conda-forge\n",
            "    tornado-6.1                |   py37h540881e_3         646 KB  conda-forge\n",
            "    typing_extensions-4.2.0    |     pyha770c72_1          27 KB  conda-forge\n",
            "    ucx-1.11.2+gef2bbcf        |       cuda11.2_0        11.9 MB  rapidsai\n",
            "    ucx-proc-1.0.0             |              gpu           9 KB  rapidsai\n",
            "    ucx-py-0.23.0              |  py37_gef2bbcf_0         353 KB  rapidsai\n",
            "    zict-2.2.0                 |     pyhd8ed1ab_0          20 KB  conda-forge\n",
            "    zipp-3.8.0                 |     pyhd8ed1ab_0          12 KB  conda-forge\n",
            "    zstd-1.5.0                 |       ha95c52a_0         490 KB  conda-forge\n",
            "    ------------------------------------------------------------\n",
            "                                           Total:        1.99 GB\n",
            "\n",
            "The following NEW packages will be INSTALLED:\n",
            "\n",
            "  abseil-cpp         conda-forge/linux-64::abseil-cpp-20210324.2-h9c3ff4c_0\n",
            "  arrow-cpp          conda-forge/linux-64::arrow-cpp-5.0.0-py37hc2523e2_2_cuda\n",
            "  arrow-cpp-proc     conda-forge/linux-64::arrow-cpp-proc-3.0.0-cuda\n",
            "  aws-c-cal          conda-forge/linux-64::aws-c-cal-0.5.10-h3622835_0\n",
            "  aws-c-common       conda-forge/linux-64::aws-c-common-0.5.11-h7f98852_0\n",
            "  aws-c-event-stream conda-forge/linux-64::aws-c-event-stream-0.2.7-hd2d8ebb_9\n",
            "  aws-c-io           conda-forge/linux-64::aws-c-io-0.10.2-he6d800f_1\n",
            "  aws-checksums      conda-forge/linux-64::aws-checksums-0.1.11-hc0e0e8b_6\n",
            "  aws-sdk-cpp        conda-forge/linux-64::aws-sdk-cpp-1.8.186-h9ad65fb_2\n",
            "  bokeh              conda-forge/linux-64::bokeh-2.4.3-py37h89c1867_0\n",
            "  cachetools         conda-forge/noarch::cachetools-5.0.0-pyhd8ed1ab_0\n",
            "  click              conda-forge/linux-64::click-8.1.3-py37h89c1867_0\n",
            "  cloudpickle        conda-forge/noarch::cloudpickle-2.1.0-pyhd8ed1ab_0\n",
            "  cudatoolkit        nvidia/linux-64::cudatoolkit-11.2.72-h2bc3f7f_0\n",
            "  cudf               rapidsai/linux-64::cudf-21.12.02-cuda_11_py37_g06540b9b37_0\n",
            "  cugraph            rapidsai/linux-64::cugraph-21.12.00-cuda11_py37_g3a43e9d0_0\n",
            "  cupy               conda-forge/linux-64::cupy-9.6.0-py37h07c33ac_0\n",
            "  cytoolz            conda-forge/linux-64::cytoolz-0.11.2-py37h540881e_2\n",
            "  dask               conda-forge/noarch::dask-2021.11.2-pyhd8ed1ab_0\n",
            "  dask-core          conda-forge/noarch::dask-core-2021.11.2-pyhd8ed1ab_0\n",
            "  dask-cuda          rapidsai/linux-64::dask-cuda-21.12.00-py37_0\n",
            "  dask-cudf          rapidsai/linux-64::dask-cudf-21.12.02-cuda_11_py37_g06540b9b37_0\n",
            "  distributed        conda-forge/linux-64::distributed-2021.11.2-py37h89c1867_0\n",
            "  dlpack             conda-forge/linux-64::dlpack-0.5-h9c3ff4c_0\n",
            "  faiss-proc         rapidsai/linux-64::faiss-proc-1.0.0-cuda\n",
            "  fastavro           conda-forge/linux-64::fastavro-1.4.12-py37h540881e_0\n",
            "  fastrlock          conda-forge/linux-64::fastrlock-0.8-py37hd23a5d3_2\n",
            "  freetype           conda-forge/linux-64::freetype-2.10.4-h0708190_1\n",
            "  fsspec             conda-forge/noarch::fsspec-2022.5.0-pyhd8ed1ab_0\n",
            "  gflags             conda-forge/linux-64::gflags-2.2.2-he1b5a44_1004\n",
            "  glog               conda-forge/linux-64::glog-0.5.0-h48cff8f_0\n",
            "  grpc-cpp           conda-forge/linux-64::grpc-cpp-1.39.0-hf1f433d_2\n",
            "  heapdict           conda-forge/noarch::heapdict-1.0.1-py_0\n",
            "  importlib-metadata conda-forge/linux-64::importlib-metadata-4.11.4-py37h89c1867_0\n",
            "  jinja2             conda-forge/noarch::jinja2-3.1.2-pyhd8ed1ab_0\n",
            "  jpeg               conda-forge/linux-64::jpeg-9e-h166bdaf_1\n",
            "  lcms2              conda-forge/linux-64::lcms2-2.12-hddcbb42_0\n",
            "  libblas            conda-forge/linux-64::libblas-3.9.0-14_linux64_openblas\n",
            "  libbrotlicommon    conda-forge/linux-64::libbrotlicommon-1.0.9-h166bdaf_7\n",
            "  libbrotlidec       conda-forge/linux-64::libbrotlidec-1.0.9-h166bdaf_7\n",
            "  libbrotlienc       conda-forge/linux-64::libbrotlienc-1.0.9-h166bdaf_7\n",
            "  libcblas           conda-forge/linux-64::libcblas-3.9.0-14_linux64_openblas\n",
            "  libcudf            rapidsai/linux-64::libcudf-21.12.02-cuda11_g06540b9b37_0\n",
            "  libcugraph         rapidsai/linux-64::libcugraph-21.12.00-cuda11_g3a43e9d0_0\n",
            "  libcusolver        nvidia/linux-64::libcusolver-11.3.5.50-hcab339c_0\n",
            "  libevent           conda-forge/linux-64::libevent-2.1.10-h9b69904_4\n",
            "  libfaiss           conda-forge/linux-64::libfaiss-1.7.0-cuda112h5bea7ad_8_cuda\n",
            "  libgfortran-ng     conda-forge/linux-64::libgfortran-ng-12.1.0-h69a702a_16\n",
            "  libgfortran5       conda-forge/linux-64::libgfortran5-12.1.0-hdcd56e2_16\n",
            "  libhwloc           conda-forge/linux-64::libhwloc-2.3.0-h5e5b7d1_1\n",
            "  liblapack          conda-forge/linux-64::liblapack-3.9.0-14_linux64_openblas\n",
            "  libopenblas        conda-forge/linux-64::libopenblas-0.3.20-pthreads_h78a6416_0\n",
            "  libpng             conda-forge/linux-64::libpng-1.6.37-h21135ba_2\n",
            "  libprotobuf        conda-forge/linux-64::libprotobuf-3.16.0-h780b84a_0\n",
            "  librmm             rapidsai/linux-64::librmm-21.12.00-cuda11_g957ad04_0\n",
            "  libthrift          conda-forge/linux-64::libthrift-0.14.2-he6d91bd_1\n",
            "  libtiff            conda-forge/linux-64::libtiff-4.2.0-hf544144_3\n",
            "  libutf8proc        conda-forge/linux-64::libutf8proc-2.7.0-h7f98852_0\n",
            "  libwebp-base       conda-forge/linux-64::libwebp-base-1.2.2-h7f98852_1\n",
            "  llvmlite           numba/linux-64::llvmlite-0.38.0-py37he1b5a44_0\n",
            "  locket             conda-forge/noarch::locket-1.0.0-pyhd8ed1ab_0\n",
            "  markupsafe         conda-forge/linux-64::markupsafe-2.1.1-py37h540881e_1\n",
            "  msgpack-python     conda-forge/linux-64::msgpack-python-1.0.3-py37h7cecad7_1\n",
            "  nccl               conda-forge/linux-64::nccl-2.12.12.1-h0800d71_0\n",
            "  numba              numba/linux-64::numba-0.55.1-np1.11py3.7hc13618b_g76720bf88_0\n",
            "  numpy              conda-forge/linux-64::numpy-1.21.6-py37h976b520_0\n",
            "  nvtx               conda-forge/linux-64::nvtx-0.2.3-py37h5e8e339_1\n",
            "  olefile            conda-forge/noarch::olefile-0.46-pyh9f0ad1d_1\n",
            "  openjpeg           conda-forge/linux-64::openjpeg-2.4.0-hb52868f_1\n",
            "  orc                conda-forge/linux-64::orc-1.6.9-h58a87f1_0\n",
            "  packaging          conda-forge/noarch::packaging-21.3-pyhd8ed1ab_0\n",
            "  pandas             conda-forge/linux-64::pandas-1.3.5-py37he8f5f7f_0\n",
            "  parquet-cpp        conda-forge/noarch::parquet-cpp-1.5.1-2\n",
            "  partd              conda-forge/noarch::partd-1.2.0-pyhd8ed1ab_0\n",
            "  pillow             conda-forge/linux-64::pillow-8.2.0-py37h4600e1f_1\n",
            "  protobuf           conda-forge/linux-64::protobuf-3.16.0-py37hcd2ae1e_0\n",
            "  psutil             conda-forge/linux-64::psutil-5.9.1-py37h540881e_0\n",
            "  ptxcompiler        rapidsai/linux-64::ptxcompiler-0.2.0-py37hcfeb250_0\n",
            "  pyarrow            conda-forge/linux-64::pyarrow-5.0.0-py37hf0016df_2_cuda\n",
            "  pynvml             conda-forge/noarch::pynvml-11.4.1-pyhd8ed1ab_0\n",
            "  pyparsing          conda-forge/noarch::pyparsing-3.0.9-pyhd8ed1ab_0\n",
            "  python-dateutil    conda-forge/noarch::python-dateutil-2.8.2-pyhd8ed1ab_0\n",
            "  pytz               conda-forge/noarch::pytz-2022.1-pyhd8ed1ab_0\n",
            "  pyyaml             conda-forge/linux-64::pyyaml-6.0-py37h540881e_4\n",
            "  re2                conda-forge/linux-64::re2-2021.08.01-h9c3ff4c_0\n",
            "  rmm                rapidsai/linux-64::rmm-21.12.00-cuda11_py37_g957ad04_0_has_cma\n",
            "  s2n                conda-forge/linux-64::s2n-1.0.10-h9b69904_0\n",
            "  snappy             conda-forge/linux-64::snappy-1.1.9-hbd366e4_1\n",
            "  sortedcontainers   conda-forge/noarch::sortedcontainers-2.4.0-pyhd8ed1ab_0\n",
            "  spdlog             conda-forge/linux-64::spdlog-1.8.5-h4bd325d_1\n",
            "  tblib              conda-forge/noarch::tblib-1.7.0-pyhd8ed1ab_0\n",
            "  toolz              conda-forge/noarch::toolz-0.11.2-pyhd8ed1ab_0\n",
            "  tornado            conda-forge/linux-64::tornado-6.1-py37h540881e_3\n",
            "  typing_extensions  conda-forge/noarch::typing_extensions-4.2.0-pyha770c72_1\n",
            "  ucx                rapidsai/linux-64::ucx-1.11.2+gef2bbcf-cuda11.2_0\n",
            "  ucx-proc           rapidsai/linux-64::ucx-proc-1.0.0-gpu\n",
            "  ucx-py             rapidsai/linux-64::ucx-py-0.23.0-py37_gef2bbcf_0\n",
            "  zict               conda-forge/noarch::zict-2.2.0-pyhd8ed1ab_0\n",
            "  zipp               conda-forge/noarch::zipp-3.8.0-pyhd8ed1ab_0\n",
            "\n",
            "The following packages will be UPDATED:\n",
            "\n",
            "  ca-certificates                      2020.12.5-ha878542_0 --> 2022.5.18.1-ha878542_0\n",
            "  certifi                          2020.12.5-py37h89c1867_1 --> 2022.5.18.1-py37h89c1867_0\n",
            "  conda                                4.9.2-py37h89c1867_0 --> 4.12.0-py37h89c1867_0\n",
            "  libarchive                               3.5.1-h3f442fb_1 --> 3.5.2-hccf745f_1\n",
            "  libcurl                                 7.75.0-hc4aaa36_0 --> 7.76.1-hc4aaa36_1\n",
            "  libgcc-ng                               9.3.0-h2828fa1_18 --> 12.1.0-h8d9b700_16\n",
            "  libgomp                                 9.3.0-h2828fa1_18 --> 12.1.0-h8d9b700_16\n",
            "  libstdcxx-ng                            9.3.0-h6de172a_18 --> 12.1.0-ha89aaad_16\n",
            "  libxml2                                 2.9.10-h72842e0_3 --> 2.9.12-h72842e0_0\n",
            "  openssl                                 1.1.1j-h7f98852_0 --> 1.1.1o-h166bdaf_0\n",
            "  python_abi                                    3.7-1_cp37m --> 3.7-2_cp37m\n",
            "  zstd                                     1.4.9-ha95c52a_0 --> 1.5.0-ha95c52a_0\n",
            "\n",
            "\n",
            "\n",
            "Downloading and Extracting Packages\n",
            "fsspec-2022.5.0      | 96 KB     | : 100% 1.0/1 [00:00<00:00,  6.71it/s]               \n",
            "ucx-1.11.2+gef2bbcf  | 11.9 MB   | : 100% 1.0/1 [00:02<00:00,  2.16s/it] \n",
            "freetype-2.10.4      | 890 KB    | : 100% 1.0/1 [00:00<00:00,  5.08it/s]\n",
            "libfaiss-1.7.0       | 98.5 MB   | : 100% 1.0/1 [00:17<00:00, 17.82s/it]               \n",
            "jinja2-3.1.2         | 99 KB     | : 100% 1.0/1 [00:00<00:00, 13.98it/s]\n",
            "cupy-9.6.0           | 51.5 MB   | : 100% 1.0/1 [00:07<00:00,  7.43s/it]\n",
            "libbrotlidec-1.0.9   | 33 KB     | : 100% 1.0/1 [00:00<00:00, 16.49it/s]\n",
            "cudf-21.12.02        | 12.6 MB   | : 100% 1.0/1 [00:02<00:00,  2.60s/it]               \n",
            "libarchive-3.5.2     | 1.6 MB    | : 100% 1.0/1 [00:00<00:00,  3.01it/s]\n",
            "certifi-2022.5.18.1  | 150 KB    | : 100% 1.0/1 [00:00<00:00, 13.78it/s]\n",
            "zict-2.2.0           | 20 KB     | : 100% 1.0/1 [00:00<00:00, 14.46it/s]\n",
            "pynvml-11.4.1        | 40 KB     | : 100% 1.0/1 [00:00<00:00, 15.17it/s]\n",
            "libevent-2.1.10      | 1.1 MB    | : 100% 1.0/1 [00:00<00:00,  2.94it/s]\n",
            "libcugraph-21.12.00  | 259.4 MB  | : 100% 1.0/1 [00:35<00:00, 35.45s/it]               \n",
            "python-dateutil-2.8. | 240 KB    | : 100% 1.0/1 [00:00<00:00,  9.84it/s]\n",
            "ucx-py-0.23.0        | 353 KB    | : 100% 1.0/1 [00:00<00:00,  1.92it/s]\n",
            "liblapack-3.9.0      | 12 KB     | : 100% 1.0/1 [00:00<00:00, 20.98it/s]\n",
            "pyyaml-6.0           | 178 KB    | : 100% 1.0/1 [00:00<00:00, 12.54it/s]\n",
            "ca-certificates-2022 | 144 KB    | : 100% 1.0/1 [00:00<00:00, 15.93it/s]\n",
            "dask-core-2021.11.2  | 783 KB    | : 100% 1.0/1 [00:00<00:00,  4.76it/s]\n",
            "zipp-3.8.0           | 12 KB     | : 100% 1.0/1 [00:00<00:00,  9.98it/s]\n",
            "orc-1.6.9            | 746 KB    | : 100% 1.0/1 [00:00<00:00,  5.86it/s]\n",
            "re2-2021.08.01       | 220 KB    | : 100% 1.0/1 [00:00<00:00, 13.54it/s]\n",
            "cachetools-5.0.0     | 12 KB     | : 100% 1.0/1 [00:00<00:00, 20.23it/s]\n",
            "libbrotlienc-1.0.9   | 287 KB    | : 100% 1.0/1 [00:00<00:00, 10.36it/s]\n",
            "zstd-1.5.0           | 490 KB    | : 100% 1.0/1 [00:00<00:00,  8.34it/s]\n",
            "libblas-3.9.0        | 12 KB     | : 100% 1.0/1 [00:00<00:00, 19.31it/s]\n",
            "arrow-cpp-proc-3.0.0 | 24 KB     | : 100% 1.0/1 [00:00<00:00, 20.36it/s]\n",
            "libopenblas-0.3.20   | 10.1 MB   | : 100% 1.0/1 [00:01<00:00,  1.94s/it]\n",
            "olefile-0.46         | 32 KB     | : 100% 1.0/1 [00:00<00:00, 15.29it/s]\n",
            "libgfortran5-12.1.0  | 1.8 MB    | : 100% 1.0/1 [00:00<00:00,  2.86it/s]\n",
            "openjpeg-2.4.0       | 444 KB    | : 100% 1.0/1 [00:00<00:00,  9.33it/s]\n",
            "dask-cudf-21.12.02   | 112 KB    | : 100% 1.0/1 [00:00<00:00,  4.26it/s]                \n",
            "libcudf-21.12.02     | 288.2 MB  | : 100% 1.0/1 [00:39<00:00, 39.40s/it]               \n",
            "libgfortran-ng-12.1. | 23 KB     | : 100% 1.0/1 [00:00<00:00, 13.68it/s]\n",
            "libprotobuf-3.16.0   | 2.5 MB    | : 100% 1.0/1 [00:00<00:00,  2.08it/s]\n",
            "pyparsing-3.0.9      | 79 KB     | : 100% 1.0/1 [00:00<00:00, 10.10it/s]\n",
            "markupsafe-2.1.1     | 22 KB     | : 100% 1.0/1 [00:00<00:00, 20.13it/s]\n",
            "sortedcontainers-2.4 | 26 KB     | : 100% 1.0/1 [00:00<00:00, 18.60it/s]\n",
            "click-8.1.3          | 145 KB    | : 100% 1.0/1 [00:00<00:00, 14.36it/s]\n",
            "libthrift-0.14.2     | 4.5 MB    | : 100% 1.0/1 [00:00<00:00,  1.28it/s]\n",
            "grpc-cpp-1.39.0      | 3.6 MB    | : 100% 1.0/1 [00:00<00:00,  1.54it/s]\n",
            "msgpack-python-1.0.3 | 90 KB     | : 100% 1.0/1 [00:00<00:00, 16.05it/s]\n",
            "glog-0.5.0           | 104 KB    | : 100% 1.0/1 [00:00<00:00, 15.15it/s]\n",
            "libtiff-4.2.0        | 590 KB    | : 100% 1.0/1 [00:00<00:00,  6.76it/s]\n",
            "partd-1.2.0          | 18 KB     | : 100% 1.0/1 [00:00<00:00, 21.28it/s]\n",
            "llvmlite-0.38.0      | 28.2 MB   | : 100% 1.0/1 [00:05<00:00,  5.70s/it]\n",
            "importlib-metadata-4 | 33 KB     | : 100% 1.0/1 [00:00<00:00, 20.60it/s]\n",
            "tornado-6.1          | 646 KB    | : 100% 1.0/1 [00:00<00:00,  5.44it/s]\n",
            "cudatoolkit-11.2.72  | 933.4 MB  | : 100% 1.0/1 [02:02<00:00, 122.79s/it]\n",
            "libutf8proc-2.7.0    | 98 KB     | : 100% 1.0/1 [00:00<00:00, 14.76it/s]\n",
            "toolz-0.11.2         | 48 KB     | : 100% 1.0/1 [00:00<00:00, 19.31it/s]\n",
            "numba-0.55.1         | 3.7 MB    | : 100% 1.0/1 [00:01<00:00,  1.29s/it]\n",
            "gflags-2.2.2         | 114 KB    | : 100% 1.0/1 [00:00<00:00, 18.04it/s]\n",
            "cloudpickle-2.1.0    | 25 KB     | : 100% 1.0/1 [00:00<00:00, 19.99it/s]\n",
            "numpy-1.21.6         | 6.1 MB    | : 100% 1.0/1 [00:01<00:00,  1.17s/it]\n",
            "rmm-21.12.00         | 943 KB    | : 100% 1.0/1 [00:00<00:00,  1.71it/s]\n",
            "aws-c-common-0.5.11  | 165 KB    | : 100% 1.0/1 [00:00<00:00,  8.74it/s]\n",
            "pandas-1.3.5         | 12.7 MB   | : 100% 1.0/1 [00:02<00:00,  2.63s/it]               \n",
            "packaging-21.3       | 36 KB     | : 100% 1.0/1 [00:00<00:00, 18.81it/s]\n",
            "aws-sdk-cpp-1.8.186  | 4.6 MB    | : 100% 1.0/1 [00:01<00:00,  1.32s/it]\n",
            "snappy-1.1.9         | 35 KB     | : 100% 1.0/1 [00:00<00:00, 17.57it/s]\n",
            "aws-c-io-0.10.2      | 121 KB    | : 100% 1.0/1 [00:00<00:00, 10.31it/s]\n",
            "protobuf-3.16.0      | 342 KB    | : 100% 1.0/1 [00:00<00:00,  8.02it/s]\n",
            "libhwloc-2.3.0       | 2.7 MB    | : 100% 1.0/1 [00:00<00:00,  2.29it/s]\n",
            "tblib-1.7.0          | 15 KB     | : 100% 1.0/1 [00:00<00:00, 18.22it/s]\n",
            "typing_extensions-4. | 27 KB     | : 100% 1.0/1 [00:00<00:00, 18.95it/s]\n",
            "cugraph-21.12.00     | 7.2 MB    | : 100% 1.0/1 [00:01<00:00,  1.52s/it]               \n",
            "librmm-21.12.00      | 688 KB    | : 100% 1.0/1 [00:00<00:00,  2.24it/s]\n",
            "locket-1.0.0         | 8 KB      | : 100% 1.0/1 [00:00<00:00, 21.04it/s]\n",
            "pillow-8.2.0         | 684 KB    | : 100% 1.0/1 [00:00<00:00,  6.52it/s]\n",
            "bokeh-2.4.3          | 13.7 MB   | : 100% 1.0/1 [00:02<00:00,  2.98s/it]\n",
            "lcms2-2.12           | 443 KB    | : 100% 1.0/1 [00:00<00:00,  5.73it/s]              \n",
            "dlpack-0.5           | 12 KB     | : 100% 1.0/1 [00:00<00:00, 21.71it/s]\n",
            "python_abi-3.7       | 4 KB      | : 100% 1.0/1 [00:00<00:00, 21.08it/s]\n",
            "fastavro-1.4.12      | 448 KB    | : 100% 1.0/1 [00:00<00:00,  7.96it/s]\n",
            "pytz-2022.1          | 242 KB    | : 100% 1.0/1 [00:00<00:00,  6.53it/s]\n",
            "distributed-2021.11. | 1.1 MB    | : 100% 1.0/1 [00:00<00:00,  3.74it/s]\n",
            "ptxcompiler-0.2.0    | 5.6 MB    | : 100% 1.0/1 [00:00<00:00,  1.12it/s]\n",
            "conda-4.12.0         | 1.0 MB    | : 100% 1.0/1 [00:00<00:00,  4.01it/s]\n",
            "libgomp-12.1.0       | 459 KB    | : 100% 1.0/1 [00:00<00:00, 10.45it/s]\n",
            "openssl-1.1.1o       | 2.1 MB    | : 100% 1.0/1 [00:00<00:00,  3.00it/s]\n",
            "libgcc-ng-12.1.0     | 940 KB    | : 100% 1.0/1 [00:00<00:00,  6.20it/s]\n",
            "libcusolver-11.3.5.5 | 89.2 MB   | : 100% 1.0/1 [00:16<00:00, 16.39s/it]\n",
            "parquet-cpp-1.5.1    | 3 KB      | : 100% 1.0/1 [00:00<00:00, 16.64it/s]\n",
            "libcurl-7.76.1       | 328 KB    | : 100% 1.0/1 [00:00<00:00, 11.61it/s]\n",
            "fastrlock-0.8        | 31 KB     | : 100% 1.0/1 [00:00<00:00, 17.31it/s]\n",
            "pyarrow-5.0.0        | 2.9 MB    | : 100% 1.0/1 [00:00<00:00,  2.05it/s]\n",
            "ucx-proc-1.0.0       | 9 KB      | : 100% 1.0/1 [00:00<00:00,  3.77it/s]\n",
            "libpng-1.6.37        | 306 KB    | : 100% 1.0/1 [00:00<00:00, 11.06it/s]\n",
            "abseil-cpp-20210324. | 1010 KB   | : 100% 1.0/1 [00:00<00:00,  3.53it/s]\n",
            "arrow-cpp-5.0.0      | 23.3 MB   | : 100% 1.0/1 [00:03<00:00,  3.82s/it]               \n",
            "nccl-2.12.12.1       | 135.3 MB  | : 100% 1.0/1 [00:17<00:00, 17.44s/it]               \n",
            "jpeg-9e              | 268 KB    | : 100% 1.0/1 [00:00<00:00,  9.37it/s]\n",
            "dask-cuda-21.12.00   | 123 KB    | : 100% 1.0/1 [00:00<00:00,  2.36it/s]\n",
            "libwebp-base-1.2.2   | 824 KB    | : 100% 1.0/1 [00:00<00:00,  5.56it/s]\n",
            "cytoolz-0.11.2       | 382 KB    | : 100% 1.0/1 [00:00<00:00,  9.94it/s]\n",
            "spdlog-1.8.5         | 352 KB    | : 100% 1.0/1 [00:00<00:00,  9.59it/s]\n",
            "aws-checksums-0.1.11 | 50 KB     | : 100% 1.0/1 [00:00<00:00, 11.64it/s]\n",
            "faiss-proc-1.0.0     | 24 KB     | : 100% 1.0/1 [00:00<00:00,  5.70it/s]               \n",
            "s2n-1.0.10           | 442 KB    | : 100% 1.0/1 [00:00<00:00,  8.58it/s]\n",
            "aws-c-cal-0.5.10     | 37 KB     | : 100% 1.0/1 [00:00<00:00, 11.54it/s]\n",
            "libcblas-3.9.0       | 12 KB     | : 100% 1.0/1 [00:00<00:00, 20.75it/s]\n",
            "dask-2021.11.2       | 5 KB      | : 100% 1.0/1 [00:00<00:00, 24.91it/s]\n",
            "nvtx-0.2.3           | 55 KB     | : 100% 1.0/1 [00:00<00:00, 16.18it/s]\n",
            "heapdict-1.0.1       | 7 KB      | : 100% 1.0/1 [00:00<00:00, 23.14it/s]\n",
            "aws-c-event-stream-0 | 47 KB     | : 100% 1.0/1 [00:00<00:00, 12.49it/s]\n",
            "libbrotlicommon-1.0. | 65 KB     | : 100% 1.0/1 [00:00<00:00, 18.43it/s]\n",
            "psutil-5.9.1         | 344 KB    | : 100% 1.0/1 [00:00<00:00,  9.11it/s]\n",
            "libstdcxx-ng-12.1.0  | 4.3 MB    | : 100% 1.0/1 [00:00<00:00,  1.45it/s]\n",
            "libxml2-2.9.12       | 772 KB    | : 100% 1.0/1 [00:00<00:00,  6.57it/s]\n",
            "Preparing transaction: \\ \b\b| \b\b/ \b\b- \b\b\\ \b\b| \b\b/ \b\b- \b\bdone\n",
            "Verifying transaction: | \b\b/ \b\b- \b\b\\ \b\b| \b\b/ \b\b- \b\b\\ \b\b| \b\b/ \b\b- \b\b\\ \b\b| \b\b/ \b\b- \b\b\\ \b\b| \b\b/ \b\b- \b\b\\ \b\b| \b\b/ \b\b- \b\b\\ \b\b| \b\b/ \b\b- \b\b\\ \b\b| \b\b/ \b\b- \b\b\\ \b\b| \b\b/ \b\b- \b\b\\ \b\b| \b\b/ \b\b- \b\b\\ \b\b| \b\b/ \b\b- \b\b\\ \b\b| \b\b/ \b\b- \b\b\\ \b\b| \b\b/ \b\b- \b\b\\ \b\b| \b\b/ \b\b- \b\b\\ \b\b| \b\b/ \b\b- \b\b\\ \b\b| \b\b/ \b\b- \b\b\\ \b\b| \b\b/ \b\b- \b\b\\ \b\b| \b\b/ \b\b- \b\b\\ \b\b| \b\b/ \b\b- \b\b\\ \b\b| \b\b/ \b\b- \b\b\\ \b\b| \b\b/ \b\b- \b\b\\ \b\b| \b\b/ \b\b- \b\b\\ \b\b| \b\b/ \b\b- \b\b\\ \b\b| \b\b/ \b\b- \b\b\\ \b\b| \b\b/ \b\b- \b\b\\ \b\b| \b\b/ \b\b- \b\b\\ \b\b| \b\b/ \b\b- \b\b\\ \b\b| \b\b/ \b\b- \b\b\\ \b\b| \b\b/ \b\b- \b\b\\ \b\b| \b\b/ \b\b- \b\b\\ \b\b| \b\b/ \b\b- \b\b\\ \b\b| \b\b/ \b\b- \b\b\\ \b\b| \b\b/ \b\b- \b\b\\ \b\b| \b\b/ \b\b- \b\b\\ \b\b| \b\b/ \b\b- \b\b\\ \b\b| \b\b/ \b\b- \b\b\\ \b\b| \b\b/ \b\b- \b\b\\ \b\b| \b\b/ \b\b- \b\b\\ \b\b| \b\b/ \b\b- \b\b\\ \b\bdone\n",
            "Executing transaction: / \b\b- \b\b\\ \b\b| \b\b/ \b\b- \b\b\\ \b\b| \b\b/ \b\b- \b\b\\ \b\b| \b\b/ \b\b- \b\b\\ \b\b| \b\b/ By downloading and using the CUDA Toolkit conda packages, you accept the terms and conditions of the CUDA End User License Agreement (EULA): https://docs.nvidia.com/cuda/eula/index.html\n",
            "\n",
            "\b\b- \b\b\\ \b\b| \b\b/ \b\b- \b\b\\ \b\b| \b\b/ \b\b- \b\b\\ \b\b| \b\b/ \b\b- \b\b\\ \b\b| \b\b/ \b\b- \b\b\\ \b\b| \b\b/ \b\b- \b\b\\ \b\b| \b\b/ \b\b- \b\bdone\n"
          ]
        }
      ],
      "source": [
        "# Est time: 15 minutes\n",
        "# Install CUDA 11.2, along with a specific version of cuGraph\n",
        "!conda install -c rapidsai -c nvidia -c numba -c conda-forge cugraph=21.12 cudatoolkit=11.2"
      ]
    },
    {
      "cell_type": "code",
      "execution_count": 4,
      "metadata": {
        "id": "8rAMRUSf23Sj",
        "colab": {
          "base_uri": "https://localhost:8080/"
        },
        "outputId": "a09849b9-e33c-4c07-eeda-c436fb016356"
      },
      "outputs": [
        {
          "output_type": "stream",
          "name": "stdout",
          "text": [
            "Copying /usr/local/lib/libcudf.so to /usr/lib/libcudf.so\n",
            "Copying /usr/local/lib/libnccl.so to /usr/lib/libnccl.so\n",
            "Copying /usr/local/lib/libcugraph.so to /usr/lib/libcugraph.so\n"
          ]
        }
      ],
      "source": [
        "# Update Colab's libraries\n",
        "import sys, os, shutil\n",
        "sys.path.append('/usr/local/lib/python3.7/site-packages/')\n",
        "os.environ['NUMBAPRO_NVVM'] = '/usr/local/cuda/nvvm/lib64/libnvvm.so'\n",
        "os.environ['NUMBAPRO_LIBDEVICE'] = '/usr/local/cuda/nvvm/libdevice/'\n",
        "os.environ[\"CONDA_PREFIX\"] = \"/usr/local\"\n",
        "for so in ['cudf', 'rmm', 'nccl', 'cuml', 'cugraph', 'xgboost', 'cuspatial', 'cupy', 'geos','geos_c']:\n",
        "  fn = 'lib'+so+'.so'\n",
        "  source_fn = '/usr/local/lib/'+fn\n",
        "  dest_fn = '/usr/lib/'+fn\n",
        "  if os.path.exists(source_fn):\n",
        "    print(f'Copying {source_fn} to {dest_fn}')\n",
        "    shutil.copyfile(source_fn, dest_fn)"
      ]
    },
    {
      "cell_type": "code",
      "execution_count": 5,
      "metadata": {
        "id": "32t5ZOx-27bD",
        "colab": {
          "base_uri": "https://localhost:8080/"
        },
        "outputId": "6ff8eb1f-e1a0-4ec8-a370-49b674e35318"
      },
      "outputs": [
        {
          "output_type": "stream",
          "name": "stdout",
          "text": [
            "Looking in indexes: https://pypi.org/simple, https://us-python.pkg.dev/colab-wheels/public/simple/\n",
            "Collecting git+https://github.com/arangoml/cugraph-adapter.git\n",
            "  Cloning https://github.com/arangoml/cugraph-adapter.git to /tmp/pip-req-build-dbgjaw6a\n",
            "  Running command git clone -q https://github.com/arangoml/cugraph-adapter.git /tmp/pip-req-build-dbgjaw6a\n",
            "  Installing build dependencies ... \u001b[?25l\u001b[?25hdone\n",
            "  Getting requirements to build wheel ... \u001b[?25l\u001b[?25hdone\n",
            "    Preparing wheel metadata ... \u001b[?25l\u001b[?25hdone\n",
            "Collecting python-arango>=7.3.3\n",
            "  Downloading python_arango-7.3.4-py3-none-any.whl (96 kB)\n",
            "\u001b[K     |████████████████████████████████| 96 kB 3.6 MB/s \n",
            "\u001b[?25hRequirement already satisfied: setuptools>=42 in /usr/local/lib/python3.7/site-packages (from adbcug-adapter==0.0.0) (49.6.0.post20210108)\n",
            "Requirement already satisfied: requests in /usr/local/lib/python3.7/site-packages (from python-arango>=7.3.3->adbcug-adapter==0.0.0) (2.25.1)\n",
            "Collecting requests-toolbelt\n",
            "  Downloading requests_toolbelt-0.9.1-py2.py3-none-any.whl (54 kB)\n",
            "\u001b[K     |████████████████████████████████| 54 kB 3.4 MB/s \n",
            "\u001b[?25hRequirement already satisfied: urllib3>=1.26.0 in /usr/local/lib/python3.7/site-packages (from python-arango>=7.3.3->adbcug-adapter==0.0.0) (1.26.3)\n",
            "Collecting PyJWT\n",
            "  Downloading PyJWT-2.4.0-py3-none-any.whl (18 kB)\n",
            "Requirement already satisfied: idna<3,>=2.5 in /usr/local/lib/python3.7/site-packages (from requests->python-arango>=7.3.3->adbcug-adapter==0.0.0) (2.10)\n",
            "Requirement already satisfied: certifi>=2017.4.17 in /usr/local/lib/python3.7/site-packages (from requests->python-arango>=7.3.3->adbcug-adapter==0.0.0) (2022.5.18.1)\n",
            "Requirement already satisfied: chardet<5,>=3.0.2 in /usr/local/lib/python3.7/site-packages (from requests->python-arango>=7.3.3->adbcug-adapter==0.0.0) (4.0.0)\n",
            "Building wheels for collected packages: adbcug-adapter\n",
            "  Building wheel for adbcug-adapter (PEP 517) ... \u001b[?25l\u001b[?25hdone\n",
            "  Created wheel for adbcug-adapter: filename=adbcug_adapter-0.0.0-py3-none-any.whl size=14729 sha256=9884e00579e895405c5a7da05ae8deec0901e960167fc3e200ff671dec022ba0\n",
            "  Stored in directory: /tmp/pip-ephem-wheel-cache-hu7_7fjh/wheels/52/dc/c4/db6ac51929a3e6096ed33e081d29641551cb18a728bbbab0b1\n",
            "Successfully built adbcug-adapter\n",
            "Installing collected packages: requests-toolbelt, PyJWT, python-arango, adbcug-adapter\n",
            "Successfully installed PyJWT-2.4.0 adbcug-adapter-0.0.0 python-arango-7.3.4 requests-toolbelt-0.9.1\n",
            "Looking in indexes: https://pypi.org/simple, https://us-python.pkg.dev/colab-wheels/public/simple/\n",
            "Collecting adb-cloud-connector\n",
            "  Downloading adb_cloud_connector-1.0.0-py3-none-any.whl (7.6 kB)\n",
            "Requirement already satisfied: requests in /usr/local/lib/python3.7/site-packages (from adb-cloud-connector) (2.25.1)\n",
            "Requirement already satisfied: setuptools>=42 in /usr/local/lib/python3.7/site-packages (from adb-cloud-connector) (49.6.0.post20210108)\n",
            "Collecting setuptools-scm[toml]>=3.4\n",
            "  Downloading setuptools_scm-6.4.2-py3-none-any.whl (37 kB)\n",
            "Requirement already satisfied: packaging>=20.0 in /usr/local/lib/python3.7/site-packages (from setuptools-scm[toml]>=3.4->adb-cloud-connector) (21.3)\n",
            "Collecting tomli>=1.0.0\n",
            "  Downloading tomli-2.0.1-py3-none-any.whl (12 kB)\n",
            "Requirement already satisfied: pyparsing!=3.0.5,>=2.0.2 in /usr/local/lib/python3.7/site-packages (from packaging>=20.0->setuptools-scm[toml]>=3.4->adb-cloud-connector) (3.0.9)\n",
            "Requirement already satisfied: idna<3,>=2.5 in /usr/local/lib/python3.7/site-packages (from requests->adb-cloud-connector) (2.10)\n",
            "Requirement already satisfied: urllib3<1.27,>=1.21.1 in /usr/local/lib/python3.7/site-packages (from requests->adb-cloud-connector) (1.26.3)\n",
            "Requirement already satisfied: certifi>=2017.4.17 in /usr/local/lib/python3.7/site-packages (from requests->adb-cloud-connector) (2022.5.18.1)\n",
            "Requirement already satisfied: chardet<5,>=3.0.2 in /usr/local/lib/python3.7/site-packages (from requests->adb-cloud-connector) (4.0.0)\n",
            "Installing collected packages: tomli, setuptools-scm, adb-cloud-connector\n",
            "Successfully installed adb-cloud-connector-1.0.0 setuptools-scm-6.4.2 tomli-2.0.1\n",
            "Cloning into 'cugraph-adapter'...\n",
            "remote: Enumerating objects: 346, done.\u001b[K\n",
            "remote: Counting objects: 100% (169/169), done.\u001b[K\n",
            "remote: Compressing objects: 100% (90/90), done.\u001b[K\n",
            "remote: Total 346 (delta 97), reused 107 (delta 72), pack-reused 177\u001b[K\n",
            "Receiving objects: 100% (346/346), 4.86 MiB | 19.82 MiB/s, done.\n",
            "Resolving deltas: 100% (165/165), done.\n"
          ]
        }
      ],
      "source": [
        "# Finally! Last step\n",
        "!pip install git+https://github.com/arangoml/cugraph-adapter.git\n",
        "!pip install adb-cloud-connector\n",
        "!git clone -b master --single-branch https://github.com/arangoml/cugraph-adapter.git\n",
        "\n",
        "# Unfortunately the following does not work in colab (hence the steps above):\n",
        "# !conda install -c arangodb adbcug_adapter"
      ]
    },
    {
      "cell_type": "code",
      "source": [
        "# All imports\n",
        "\n",
        "import cudf\n",
        "import cugraph\n",
        "\n",
        "from adbcug_adapter import ADBCUG_Adapter, ADBCUG_Controller\n",
        "from adbcug_adapter.typings import CUGId, Json\n",
        "\n",
        "from arango import ArangoClient\n",
        "from adb_cloud_connector import get_temp_credentials\n",
        "\n",
        "import json\n",
        "import logging\n",
        "import io, requests\n",
        "from typing import List"
      ],
      "metadata": {
        "id": "J3eGVQLRhulA"
      },
      "execution_count": 42,
      "outputs": []
    },
    {
      "cell_type": "markdown",
      "metadata": {
        "id": "lRmEM5eaQxJ5"
      },
      "source": [
        "# Understanding cuGraph & cuDF\n",
        "\n",
        "(referenced from [docs.rapids.ai](https://docs.rapids.ai/))"
      ]
    },
    {
      "cell_type": "markdown",
      "source": [
        "RAPIDS cuGraph is a library of graph algorithms that seamlessly integrates into the RAPIDS data science ecosystem and allows the data scientist to easily call graph algorithms using data stored in GPU DataFrames, NetworkX Graphs, or even CuPy or SciPy sparse Matrices.\n",
        "\n",
        "\n",
        "Here is an example of creating a simple weighted graph:"
      ],
      "metadata": {
        "id": "42wigq2hYu1w"
      }
    },
    {
      "cell_type": "code",
      "source": [
        "cug_graph = cugraph.Graph()\n",
        "\n",
        "df = cudf.DataFrame(\n",
        "  [('a', 'b', 5), ('a', 'c', 1), ('a', 'd', 4), ('b', 'c', 3), ('c', 'd', 2)],\n",
        "  columns=['src', 'dst', 'weight']\n",
        ")\n",
        "\n",
        "cug_graph.from_cudf_edgelist(\n",
        "    df,\n",
        "    source='src',\n",
        "    destination='dst',\n",
        "    edge_attr='weight'\n",
        ")\n",
        "\n",
        "print('\\n--------------------')\n",
        "print(cug_graph.nodes())\n",
        "print('\\n--------------------')\n",
        "print(cug_graph.edges())"
      ],
      "metadata": {
        "id": "6TlQ9oerV_kj",
        "colab": {
          "base_uri": "https://localhost:8080/"
        },
        "outputId": "25b1636a-a175-4a84-ed55-2f04745953f4"
      },
      "execution_count": 8,
      "outputs": [
        {
          "output_type": "stream",
          "name": "stdout",
          "text": [
            "\n",
            "--------------------\n",
            "0    c\n",
            "1    b\n",
            "2    d\n",
            "3    a\n",
            "Name: 0, dtype: object\n",
            "\n",
            "--------------------\n",
            "  src dst\n",
            "0   c   d\n",
            "1   a   b\n",
            "2   a   c\n",
            "3   a   d\n",
            "4   b   c\n"
          ]
        }
      ]
    },
    {
      "cell_type": "markdown",
      "metadata": {
        "id": "MZvrkW4v35mq"
      },
      "source": [
        "RAPIDS cuDF is a GPU DataFrame library for loading, joining, aggregating, filtering, and otherwise manipulating data. It provides a pandas-like API that will be familiar to data engineers & data scientists, so they can use it to easily accelerate their workflows without going into the details of CUDA programming.\n",
        "\n",
        "For example, the following snippet downloads a CSV, then uses the GPU to parse it into rows and columns and run calculations:"
      ]
    },
    {
      "cell_type": "code",
      "execution_count": 36,
      "metadata": {
        "id": "zMpjZ7vDTATD",
        "colab": {
          "base_uri": "https://localhost:8080/"
        },
        "outputId": "041a3c13-6bed-409c-dc47-40e35d8bbaa8"
      },
      "outputs": [
        {
          "output_type": "stream",
          "name": "stdout",
          "text": [
            "size\n",
            "6    15.622920\n",
            "1    21.729202\n",
            "4    14.594901\n",
            "3    15.215685\n",
            "2    16.571919\n",
            "5    14.149549\n",
            "Name: tip_percentage, dtype: float64\n"
          ]
        }
      ],
      "source": [
        "# Load a dataset into a GPU memory resident DataFrame and perform a basic calculation.\n",
        "# Everything from CSV parsing to calculating tip percentage and computing a grouped average is done on the GPU.\n",
        "\n",
        "# download CSV file from GitHub\n",
        "url=\"https://github.com/plotly/datasets/raw/master/tips.csv\"\n",
        "content = requests.get(url).content.decode('utf-8')\n",
        "\n",
        "# read CSV from memory\n",
        "tips_df = cudf.read_csv(io.StringIO(content))\n",
        "tips_df['tip_percentage'] = tips_df['tip']/tips_df['total_bill']*100\n",
        "\n",
        "# display average tip by dining party size\n",
        "print(tips_df.groupby('size').tip_percentage.mean())"
      ]
    },
    {
      "cell_type": "markdown",
      "metadata": {
        "id": "JEjYyQi-4i6c"
      },
      "source": [
        "The following snippet loads data into a cuGraph graph and computes PageRank:"
      ]
    },
    {
      "cell_type": "code",
      "execution_count": 38,
      "metadata": {
        "id": "MQ3TfRSg4m_H",
        "colab": {
          "base_uri": "https://localhost:8080/"
        },
        "outputId": "f5d25c17-0fd6-49b9-fded-ba6baf154664"
      },
      "outputs": [
        {
          "output_type": "stream",
          "name": "stdout",
          "text": [
            "     src  dst\n",
            "0      0    0\n",
            "1     16    1\n",
            "2     10    1\n",
            "3     21    3\n",
            "4     23    3\n",
            "..   ...  ...\n",
            "240   29    5\n",
            "241   27    2\n",
            "242   22    2\n",
            "243   17    1\n",
            "244   18    3\n",
            "\n",
            "[245 rows x 2 columns]\n",
            "vertex 8 PageRank is 0.011164907\n",
            "vertex 9 PageRank is 0.01570843\n",
            "vertex 23 PageRank is 0.02324468\n",
            "vertex 28 PageRank is 0.015321213\n",
            "vertex 34 PageRank is 0.01548651\n",
            "vertex 26 PageRank is 0.011081555\n",
            "vertex 27 PageRank is 0.015224752\n",
            "vertex 29 PageRank is 0.011332559\n",
            "vertex 30 PageRank is 0.015167612\n",
            "vertex 32 PageRank is 0.019350136\n",
            "vertex 31 PageRank is 0.015141399\n",
            "vertex 38 PageRank is 0.011083909\n",
            "vertex 48 PageRank is 0.01612841\n",
            "vertex 35 PageRank is 0.011332559\n",
            "vertex 40 PageRank is 0.011083909\n",
            "vertex 0 PageRank is 0.022727273\n",
            "vertex 16 PageRank is 0.018839726\n",
            "vertex 13 PageRank is 0.014973748\n",
            "vertex 15 PageRank is 0.014973748\n",
            "vertex 10 PageRank is 0.01852377\n",
            "vertex 12 PageRank is 0.011164907\n",
            "vertex 17 PageRank is 0.018839726\n",
            "vertex 20 PageRank is 0.01903359\n",
            "vertex 18 PageRank is 0.018839726\n",
            "vertex 14 PageRank is 0.014976102\n",
            "vertex 11 PageRank is 0.014973748\n",
            "vertex 22 PageRank is 0.015167612\n",
            "vertex 24 PageRank is 0.015167612\n",
            "vertex 19 PageRank is 0.018839726\n",
            "vertex 25 PageRank is 0.015141399\n",
            "vertex 21 PageRank is 0.011083909\n",
            "vertex 7 PageRank is 0.02211456\n",
            "vertex 3 PageRank is 0.10754477\n",
            "vertex 5 PageRank is 0.08115049\n",
            "vertex 39 PageRank is 0.008108472\n",
            "vertex 41 PageRank is 0.0074665803\n",
            "vertex 43 PageRank is 0.0074665803\n",
            "vertex 44 PageRank is 0.0073012826\n",
            "vertex 45 PageRank is 0.0072179297\n",
            "vertex 50 PageRank is 0.008657529\n",
            "vertex 1 PageRank is 0.072727576\n",
            "vertex 2 PageRank is 0.09158195\n",
            "vertex 4 PageRank is 0.072772115\n",
            "vertex 6 PageRank is 0.024771335\n"
          ]
        }
      ],
      "source": [
        "# read data into a cuDF DataFrame using read_csv\n",
        "gdf = cudf.read_csv(io.StringIO(content), names=[\"src\", \"dst\"], dtype=[\"int32\", \"int32\"])\n",
        "\n",
        "# We now have data as edge pairs\n",
        "# create a Graph using the source (src) and destination (dst) vertex pairs\n",
        "G = cugraph.Graph()\n",
        "G.from_cudf_edgelist(gdf, source='src', destination='dst')\n",
        "\n",
        "# Let's now get the PageRank score of each vertex by calling cugraph.pagerank\n",
        "df_page = cugraph.pagerank(G)\n",
        "\n",
        "# Let's look at the PageRank Score (only do this on small graphs)\n",
        "for i in range(len(df_page)):\n",
        "\tprint(\"vertex \" + str(df_page['vertex'].iloc[i]) +\n",
        "\t\t\" PageRank is \" + str(df_page['pagerank'].iloc[i]))"
      ]
    },
    {
      "cell_type": "markdown",
      "metadata": {
        "id": "Oc__NAd1eG8-"
      },
      "source": [
        "# Create a Temporary ArangoDB Cloud Instance"
      ]
    },
    {
      "cell_type": "code",
      "execution_count": 12,
      "metadata": {
        "id": "2ekGwnJDeG8-",
        "colab": {
          "base_uri": "https://localhost:8080/"
        },
        "outputId": "258d7bb4-8391-4c29-827e-f0b680e3a557"
      },
      "outputs": [
        {
          "output_type": "stream",
          "name": "stdout",
          "text": [
            "Log: requesting new credentials...\n",
            "Succcess: new credentials acquired\n",
            "{\n",
            "  \"dbName\": \"TUT4mnzcrc61phw4we9wpp7tg\",\n",
            "  \"username\": \"TUTka66dmg6q2eb3vgyb1ywo\",\n",
            "  \"password\": \"TUTxoj1trkqv5pzhfwjn8h2mh\",\n",
            "  \"hostname\": \"tutorials.arangodb.cloud\",\n",
            "  \"port\": 8529,\n",
            "  \"url\": \"https://tutorials.arangodb.cloud:8529\"\n",
            "}\n"
          ]
        }
      ],
      "source": [
        "# Request temporary instance from the managed ArangoDB Cloud Service.\n",
        "con = get_temp_credentials()\n",
        "print(json.dumps(con, indent=2))\n",
        "\n",
        "# Connect to the instance via the python-arango driver\n",
        "db = ArangoClient(hosts=con[\"url\"]).db(con[\"dbName\"], con[\"username\"], con[\"password\"], verify=True)"
      ]
    },
    {
      "cell_type": "markdown",
      "metadata": {
        "id": "e4QfL37neG8_"
      },
      "source": [
        "Feel free to use the above URL to check out the UI!"
      ]
    },
    {
      "cell_type": "markdown",
      "metadata": {
        "id": "7y81WHO8eG8_"
      },
      "source": [
        "# Import Sample Data"
      ]
    },
    {
      "cell_type": "markdown",
      "metadata": {
        "id": "BM0iRYPDeG8_"
      },
      "source": [
        "For demo purposes, we will be using the [ArangoDB Fraud Detection example graph](https://colab.research.google.com/github/joerg84/Graph_Powered_ML_Workshop/blob/master/Fraud_Detection.ipynb), and the [ArangoDB IMDB Dataset](https://github.com/arangodb/example-datasets/tree/master/Graphs/IMDB)."
      ]
    },
    {
      "cell_type": "code",
      "execution_count": 13,
      "metadata": {
        "id": "7bgGJ3QkeG8_",
        "colab": {
          "base_uri": "https://localhost:8080/"
        },
        "outputId": "3c85a1c4-5103-47d4-edbd-e9a99a06fecc"
      },
      "outputs": [
        {
          "output_type": "stream",
          "name": "stdout",
          "text": [
            "\u001b[0m2022-05-25T16:40:19Z [12055] INFO [05c30] {restore} Connected to ArangoDB 'http+ssl://tutorials.arangodb.cloud:8529'\n",
            "\u001b[0m\u001b[0m2022-05-25T16:40:19Z [12055] INFO [abeb4] {restore} Database name in source dump is 'fraud-detection'\n",
            "\u001b[0m\u001b[0m2022-05-25T16:40:19Z [12055] INFO [9b414] {restore} # Re-creating document collection '_analyzers'...\n",
            "\u001b[0m\u001b[0m2022-05-25T16:40:19Z [12055] INFO [9b414] {restore} # Re-creating document collection '_appbundles'...\n",
            "\u001b[0m\u001b[0m2022-05-25T16:40:24Z [12055] INFO [9b414] {restore} # Re-creating document collection '_apps'...\n",
            "\u001b[0m\u001b[0m2022-05-25T16:40:24Z [12055] INFO [9b414] {restore} # Re-creating document collection '_aqlfunctions'...\n",
            "\u001b[0m\u001b[0m2022-05-25T16:40:24Z [12055] INFO [9b414] {restore} # Re-creating document collection '_graphs'...\n",
            "\u001b[0m\u001b[0m2022-05-25T16:40:24Z [12055] INFO [9b414] {restore} # Re-creating document collection '_modules'...\n",
            "\u001b[0m\u001b[0m2022-05-25T16:40:26Z [12055] INFO [9b414] {restore} # Re-creating document collection 'account'...\n",
            "\u001b[0m\u001b[0m2022-05-25T16:40:27Z [12055] INFO [9b414] {restore} # Re-creating document collection 'bank'...\n",
            "\u001b[0m\u001b[0m2022-05-25T16:40:27Z [12055] INFO [9b414] {restore} # Re-creating document collection 'branch'...\n",
            "\u001b[0m\u001b[0m2022-05-25T16:40:27Z [12055] INFO [9b414] {restore} # Re-creating document collection 'Class'...\n",
            "\u001b[0m\u001b[0m2022-05-25T16:40:27Z [12055] INFO [9b414] {restore} # Re-creating document collection 'customer'...\n",
            "\u001b[0m\u001b[0m2022-05-25T16:40:28Z [12055] INFO [9b414] {restore} # Re-creating edge collection 'accountHolder'...\n",
            "\u001b[0m\u001b[0m2022-05-25T16:40:28Z [12055] INFO [9b414] {restore} # Re-creating edge collection 'Relationship'...\n",
            "\u001b[0m\u001b[0m2022-05-25T16:40:28Z [12055] INFO [9b414] {restore} # Re-creating edge collection 'transaction'...\n",
            "\u001b[0m\u001b[0m2022-05-25T16:40:28Z [12055] INFO [94913] {restore} # Loading data into document collection '_analyzers', data size: 20 byte(s)\n",
            "\u001b[0m\u001b[0m2022-05-25T16:40:28Z [12055] INFO [6ae09] {restore} # Successfully restored document collection '_analyzers'\n",
            "\u001b[0m\u001b[0m2022-05-25T16:40:28Z [12055] INFO [f723c] {restore} # Creating views...\n",
            "\u001b[0m\u001b[0m2022-05-25T16:40:28Z [12055] INFO [6d69f] {restore} # Dispatched 14 job(s), using 2 worker(s)\n",
            "\u001b[0m\u001b[0m2022-05-25T16:40:28Z [12055] INFO [d88c6] {restore} # Creating indexes for collection '_apps'...\n",
            "\u001b[0m\u001b[0m2022-05-25T16:40:28Z [12055] INFO [94913] {restore} # Loading data into document collection '_appbundles', data size: 20 byte(s)\n",
            "\u001b[0m\u001b[0m2022-05-25T16:40:28Z [12055] INFO [6ae09] {restore} # Successfully restored document collection '_appbundles'\n",
            "\u001b[0m\u001b[0m2022-05-25T16:40:28Z [12055] INFO [94913] {restore} # Loading data into document collection '_aqlfunctions', data size: 20 byte(s)\n",
            "\u001b[0m\u001b[0m2022-05-25T16:40:28Z [12055] INFO [6ae09] {restore} # Successfully restored document collection '_aqlfunctions'\n",
            "\u001b[0m\u001b[0m2022-05-25T16:40:28Z [12055] INFO [94913] {restore} # Loading data into document collection '_graphs', data size: 292 byte(s)\n",
            "\u001b[0m\u001b[0m2022-05-25T16:40:28Z [12055] INFO [6ae09] {restore} # Successfully restored document collection '_graphs'\n",
            "\u001b[0m\u001b[0m2022-05-25T16:40:28Z [12055] INFO [94913] {restore} # Loading data into document collection '_modules', data size: 20 byte(s)\n",
            "\u001b[0m\u001b[0m2022-05-25T16:40:28Z [12055] INFO [6ae09] {restore} # Successfully restored document collection '_modules'\n",
            "\u001b[0m\u001b[0m2022-05-25T16:40:28Z [12055] INFO [d88c6] {restore} # Creating indexes for collection 'account'...\n",
            "\u001b[0m\u001b[0m2022-05-25T16:40:28Z [12055] INFO [94913] {restore} # Loading data into document collection '_apps', data size: 20 byte(s)\n",
            "\u001b[0m\u001b[0m2022-05-25T16:40:28Z [12055] INFO [6ae09] {restore} # Successfully restored document collection '_apps'\n",
            "\u001b[0m\u001b[0m2022-05-25T16:40:28Z [12055] INFO [94913] {restore} # Loading data into document collection 'bank', data size: 183 byte(s)\n",
            "\u001b[0m\u001b[0m2022-05-25T16:40:28Z [12055] INFO [94913] {restore} # Loading data into document collection 'account', data size: 1696 byte(s)\n",
            "\u001b[0m\u001b[0m2022-05-25T16:40:28Z [12055] INFO [6ae09] {restore} # Successfully restored document collection 'bank'\n",
            "\u001b[0m\u001b[0m2022-05-25T16:40:28Z [12055] INFO [94913] {restore} # Loading data into document collection 'branch', data size: 465 byte(s)\n",
            "\u001b[0m\u001b[0m2022-05-25T16:40:29Z [12055] INFO [6ae09] {restore} # Successfully restored document collection 'account'\n",
            "\u001b[0m\u001b[0m2022-05-25T16:40:29Z [12055] INFO [94913] {restore} # Loading data into document collection 'Class', data size: 196 byte(s)\n",
            "\u001b[0m\u001b[0m2022-05-25T16:40:29Z [12055] INFO [6ae09] {restore} # Successfully restored document collection 'branch'\n",
            "\u001b[0m\u001b[0m2022-05-25T16:40:29Z [12055] INFO [d88c6] {restore} # Creating indexes for collection 'customer'...\n",
            "\u001b[0m\u001b[0m2022-05-25T16:40:29Z [12055] INFO [6ae09] {restore} # Successfully restored document collection 'Class'\n",
            "\u001b[0m\u001b[0m2022-05-25T16:40:29Z [12055] INFO [94913] {restore} # Loading data into edge collection 'accountHolder', data size: 1076 byte(s)\n",
            "\u001b[0m\u001b[0m2022-05-25T16:40:29Z [12055] INFO [94913] {restore} # Loading data into document collection 'customer', data size: 794 byte(s)\n",
            "\u001b[0m\u001b[0m2022-05-25T16:40:29Z [12055] INFO [6ae09] {restore} # Successfully restored edge collection 'accountHolder'\n",
            "\u001b[0m\u001b[0m2022-05-25T16:40:29Z [12055] INFO [94913] {restore} # Loading data into edge collection 'Relationship', data size: 275 byte(s)\n",
            "\u001b[0m\u001b[0m2022-05-25T16:40:29Z [12055] INFO [6ae09] {restore} # Successfully restored document collection 'customer'\n",
            "\u001b[0m\u001b[0m2022-05-25T16:40:29Z [12055] INFO [94913] {restore} # Loading data into edge collection 'transaction', data size: 2292 byte(s)\n",
            "\u001b[0m\u001b[0m2022-05-25T16:40:29Z [12055] INFO [6ae09] {restore} # Successfully restored edge collection 'Relationship'\n",
            "\u001b[0m\u001b[0m2022-05-25T16:40:29Z [12055] INFO [6ae09] {restore} # Successfully restored edge collection 'transaction'\n",
            "\u001b[0m\u001b[0m2022-05-25T16:40:29Z [12055] INFO [a66e1] {restore} Processed 14 collection(s) in 10.379528 s, read 50480 byte(s) from datafiles, sent 9 data batch(es) of 50471 byte(s) total size\n",
            "\u001b[0m\u001b[0m2022-05-25T16:40:29Z [12063] INFO [05c30] {restore} Connected to ArangoDB 'http+ssl://tutorials.arangodb.cloud:8529'\n",
            "\u001b[0m\u001b[0m2022-05-25T16:40:30Z [12063] INFO [abeb4] {restore} Database name in source dump is 'TUTdit9ohpgz1ntnbetsjstwi'\n",
            "\u001b[0m\u001b[0m2022-05-25T16:40:30Z [12063] INFO [9b414] {restore} # Re-creating document collection 'Movies'...\n",
            "\u001b[0m\u001b[0m2022-05-25T16:40:30Z [12063] INFO [9b414] {restore} # Re-creating document collection 'Users'...\n",
            "\u001b[0m\u001b[0m2022-05-25T16:40:30Z [12063] INFO [9b414] {restore} # Re-creating edge collection 'Ratings'...\n",
            "\u001b[0m\u001b[0m2022-05-25T16:40:31Z [12063] INFO [6d69f] {restore} # Dispatched 3 job(s), using 2 worker(s)\n",
            "\u001b[0m\u001b[0m2022-05-25T16:40:31Z [12063] INFO [94913] {restore} # Loading data into document collection 'Movies', data size: 68107 byte(s)\n",
            "\u001b[0m\u001b[0m2022-05-25T16:40:31Z [12063] INFO [94913] {restore} # Loading data into document collection 'Users', data size: 16717 byte(s)\n",
            "\u001b[0m\u001b[0m2022-05-25T16:40:31Z [12063] INFO [6ae09] {restore} # Successfully restored document collection 'Users'\n",
            "\u001b[0m\u001b[0m2022-05-25T16:40:31Z [12063] INFO [94913] {restore} # Loading data into edge collection 'Ratings', data size: 1407601 byte(s)\n",
            "\u001b[0m\u001b[0m2022-05-25T16:40:31Z [12063] INFO [6ae09] {restore} # Successfully restored document collection 'Movies'\n",
            "\u001b[0m\u001b[0m2022-05-25T16:40:36Z [12063] INFO [75e65] {restore} # Current restore progress: restored 2 of 3 collection(s), read 9270558 byte(s) from datafiles, sent 3 data batch(es) of 881948 byte(s) total size, queued jobs: 0, workers: 2\n",
            "\u001b[0m\u001b[0m2022-05-25T16:40:39Z [12063] INFO [69a73] {restore} # Still loading data into edge collection 'Ratings', 10660073 byte(s) restored\n",
            "\u001b[0m\u001b[0m2022-05-25T16:40:39Z [12063] INFO [6ae09] {restore} # Successfully restored edge collection 'Ratings'\n",
            "\u001b[0m\u001b[0m2022-05-25T16:40:40Z [12063] INFO [a66e1] {restore} Processed 3 collection(s) in 10.417004 s, read 11542023 byte(s) from datafiles, sent 4 data batch(es) of 11542020 byte(s) total size\n",
            "\u001b[0m"
          ]
        }
      ],
      "source": [
        "!chmod -R 755 cugraph-adapter/\n",
        "!./cugraph-adapter/tests/assets/arangorestore -c none --server.endpoint http+ssl://{con[\"hostname\"]}:{con[\"port\"]} --server.username {con[\"username\"]} --server.database {con[\"dbName\"]} --server.password {con[\"password\"]} --replication-factor 3  --input-directory \"cugraph-adapter/examples/data/fraud_dump\" --include-system-collections true\n",
        "!./cugraph-adapter/tests/assets/arangorestore -c none --server.endpoint http+ssl://{con[\"hostname\"]}:{con[\"port\"]} --server.username {con[\"username\"]} --server.database {con[\"dbName\"]} --server.password {con[\"password\"]} --replication-factor 3  --input-directory \"cugraph-adapter/examples/data/imdb_dump\" --include-system-collections true"
      ]
    },
    {
      "cell_type": "markdown",
      "metadata": {
        "id": "QfE_tKxneG9A"
      },
      "source": [
        "# Instantiate the Adapter"
      ]
    },
    {
      "cell_type": "markdown",
      "metadata": {
        "id": "kGfhzPT9eG9A"
      },
      "source": [
        "Connect the ArangoDB-cuGraph Adapter to our database client:"
      ]
    },
    {
      "cell_type": "code",
      "execution_count": 14,
      "metadata": {
        "id": "oG496kBeeG9A",
        "colab": {
          "base_uri": "https://localhost:8080/"
        },
        "outputId": "c747878b-f121-405a-ede4-57227c233de2"
      },
      "outputs": [
        {
          "output_type": "stream",
          "name": "stderr",
          "text": [
            "[2022/05/25 16:40:48 +0000] [2488] [INFO] - adbcug_adapter: Instantiated ADBCUG_Adapter with database 'TUT4mnzcrc61phw4we9wpp7tg'\n"
          ]
        }
      ],
      "source": [
        "adbcug_adapter = ADBCUG_Adapter(db)"
      ]
    },
    {
      "cell_type": "markdown",
      "metadata": {
        "id": "uByvwf9feG9A"
      },
      "source": [
        "# <u>ArangoDB to cuGraph</u>\n",
        "\n"
      ]
    },
    {
      "cell_type": "markdown",
      "metadata": {
        "id": "ZrEDmtqCVD0W"
      },
      "source": [
        "#### Via ArangoDB Graph Name"
      ]
    },
    {
      "cell_type": "markdown",
      "metadata": {
        "id": "oIJE69k8XERE"
      },
      "source": [
        "Data source\n",
        "* ArangoDB Fraud-Detection Graph\n",
        "\n",
        "Package methods used\n",
        "* [`adbcug_adapter.adapter.arangodb_graph_to_cugraph()`](https://github.com/arangoml/cugraph-adapter/blob/master/adbcug_adapter/adapter.py)\n",
        "\n",
        "Important notes\n",
        "* The graph `name` must point to an existing ArangoDB graph\n",
        "* cuGraph does not support node or edge attributes (apart from edge weight)\n",
        "* If an ArangoDB edge has an attribute named `weight`, its value will be transferred over to the cuGraph graph. Otherwise, the cuGraph edge weight will default to `0`."
      ]
    },
    {
      "cell_type": "code",
      "execution_count": 63,
      "metadata": {
        "id": "zZ-Hu3lLVHgd",
        "colab": {
          "base_uri": "https://localhost:8080/"
        },
        "outputId": "e7e72df0-8928-4be5-d002-ed41d5fe168b"
      },
      "outputs": [
        {
          "output_type": "stream",
          "name": "stderr",
          "text": [
            "[2022/05/25 17:05:57 +0000] [2488] [DEBUG] - adbcug_adapter: Starting arangodb_to_cugraph(fraud-detection, ...):\n",
            "[2022/05/25 17:05:57 +0000] [2488] [DEBUG] - adbcug_adapter: Preparing 'account' vertices\n",
            "[2022/05/25 17:05:57 +0000] [2488] [DEBUG] - adbcug_adapter: Preparing 'customer' vertices\n",
            "[2022/05/25 17:05:57 +0000] [2488] [DEBUG] - adbcug_adapter: Preparing 'accountHolder' edges\n",
            "[2022/05/25 17:05:57 +0000] [2488] [DEBUG] - adbcug_adapter: Preparing 'transaction' edges\n",
            "[2022/05/25 17:05:57 +0000] [2488] [DEBUG] - adbcug_adapter: Inserting 116 edges\n",
            "[2022/05/25 17:05:57 +0000] [2488] [INFO] - adbcug_adapter: Created cuGraph 'fraud-detection' Graph\n"
          ]
        },
        {
          "output_type": "stream",
          "name": "stdout",
          "text": [
            "\n",
            "--------------------\n",
            "0      account/10000001\n",
            "1      account/10000002\n",
            "2      account/10000003\n",
            "3      account/10000004\n",
            "4      account/10000005\n",
            "            ...        \n",
            "66    customer/10000013\n",
            "67    customer/10000014\n",
            "68    customer/10000015\n",
            "69    customer/10000016\n",
            "70       customer/10810\n",
            "Length: 71, dtype: object\n",
            "\n",
            "--------------------\n",
            "                  src                dst\n",
            "0    account/10000022  customer/10000006\n",
            "1    account/10000001  customer/10000008\n",
            "2    account/10000034  customer/10000012\n",
            "3    account/10000032  customer/10000011\n",
            "4    account/10000027  customer/10000002\n",
            "..                ...                ...\n",
            "111  account/10000006   account/10000003\n",
            "112  account/10000022   account/10000021\n",
            "113  account/10000032   account/10000035\n",
            "114  account/10000040   account/10000043\n",
            "115  account/10000016   account/10000015\n",
            "\n",
            "[116 rows x 2 columns]\n"
          ]
        }
      ],
      "source": [
        "# Define graph name\n",
        "graph_name = \"fraud-detection\"\n",
        "\n",
        "# Create cuGraph graph from ArangoDB graph name\n",
        "cug_graph = adbcug_adapter.arangodb_graph_to_cugraph(graph_name)\n",
        "\n",
        "# You can also provide valid Python-Arango AQL query options to the command above, like such:\n",
        "# cug_graph = adbcug_adapter.arangodb_graph_to_cugraph(graph_name, ttl=1000, stream=True)\n",
        "# See more here: https://docs.python-arango.com/en/main/specs.html#arango.aql.AQL.execute\n",
        "\n",
        "# Show graph data\n",
        "print('\\n--------------------')\n",
        "print(cug_graph.nodes())\n",
        "print('\\n--------------------')\n",
        "print(cug_graph.edges())"
      ]
    },
    {
      "cell_type": "markdown",
      "metadata": {
        "id": "RQ4CknYfUEuz"
      },
      "source": [
        "#### Via ArangoDB Collection Names"
      ]
    },
    {
      "cell_type": "markdown",
      "metadata": {
        "id": "wVCEdRB8YdLW"
      },
      "source": [
        "Data source\n",
        "* ArangoDB Fraud-Detection Collections\n",
        "\n",
        "Package methods used\n",
        "* [`adbcug_adapter.adapter.arangodb_collections_to_cugraph()`](https://github.com/arangoml/cugraph-adapter/blob/master/adbcug_adapter/adapter.py)\n",
        "\n",
        "Important notes\n",
        "* The `vertex_collections` & `edge_collections` parameters must point to existing ArangoDB collections within your ArangoDB instance.\n",
        "* cuGraph does not support node or edge attributes (apart from edge weight)\n",
        "* If an ArangoDB edge has an attribute named `weight`, its value will be transferred over to the cuGraph graph. Otherwise, the cuGraph edge weight will default to `0`."
      ]
    },
    {
      "cell_type": "code",
      "execution_count": 17,
      "metadata": {
        "id": "i4XOpdRLUNlJ",
        "colab": {
          "base_uri": "https://localhost:8080/"
        },
        "outputId": "e6a3c4ea-664e-4d1a-dacd-c8d45aa120fd"
      },
      "outputs": [
        {
          "output_type": "stream",
          "name": "stderr",
          "text": [
            "[2022/05/25 16:43:45 +0000] [2488] [INFO] - adbcug_adapter: Created cuGraph 'fraud-detection' Graph\n"
          ]
        },
        {
          "output_type": "stream",
          "name": "stdout",
          "text": [
            "\n",
            "--------------------\n",
            "0         Class/account\n",
            "1            Class/bank\n",
            "2          Class/branch\n",
            "3        Class/customer\n",
            "4      account/10000001\n",
            "            ...        \n",
            "70    customer/10000013\n",
            "71    customer/10000014\n",
            "72    customer/10000015\n",
            "73    customer/10000016\n",
            "74       customer/10810\n",
            "Length: 75, dtype: object\n",
            "\n",
            "--------------------\n",
            "                  src                dst\n",
            "0    account/10000022  customer/10000006\n",
            "1    account/10000001  customer/10000008\n",
            "2    account/10000034  customer/10000012\n",
            "3    account/10000032  customer/10000011\n",
            "4    account/10000027  customer/10000002\n",
            "..                ...                ...\n",
            "115  account/10000016   account/10000015\n",
            "116     Class/account      Class/account\n",
            "117     Class/account     Class/customer\n",
            "118    Class/customer       Class/branch\n",
            "119      Class/branch         Class/bank\n",
            "\n",
            "[120 rows x 2 columns]\n"
          ]
        }
      ],
      "source": [
        "# Define collection\n",
        "vertex_collections = {\"account\", \"bank\", \"branch\", \"Class\", \"customer\"}\n",
        "edge_collections = {\"accountHolder\", \"Relationship\", \"transaction\"}\n",
        "\n",
        "# Create NetworkX graph from ArangoDB collections\n",
        "cug_graph = adbcug_adapter.arangodb_collections_to_cugraph(\"fraud-detection\", vertex_collections, edge_collections)\n",
        "\n",
        "# You can also provide valid Python-Arango AQL query options to the command above, like such:\n",
        "# cug_graph = adbcug_adapter.arangodb_collections_to_cugraph, ttl=1000, stream=True)\n",
        "# See more here: https://docs.python-arango.com/en/main/specs.html#arango.aql.AQL.execute\n",
        "\n",
        "# Show graph data\n",
        "print('\\n--------------------')\n",
        "print(cug_graph.nodes())\n",
        "print('\\n--------------------')\n",
        "print(cug_graph.edges())"
      ]
    },
    {
      "cell_type": "markdown",
      "metadata": {
        "id": "tWU1YW9AViTA"
      },
      "source": [
        "#### Via ArangoDB Graph Name with a custom ADBCUG_Controller & verbose logging"
      ]
    },
    {
      "cell_type": "markdown",
      "metadata": {
        "id": "sjtWpTDbZpLq"
      },
      "source": [
        "Data source\n",
        "* ArangoDB Fraud-Detection Collections\n",
        "\n",
        "Package methods used\n",
        "* [`adbcug_adapter.adapter.arangodb_graph_to_cugraph()`](https://github.com/arangoml/cugraph-adapter/blob/master/adbcug_adapter/adapter.py)\n",
        "* [`adbcug_adapter.controller._prepare_arangodb_vertex()`](https://github.com/arangoml/cugraph-adapter/blob/master/adbcug_adapter/controller.py)\n",
        "\n",
        "Important notes\n",
        "* We are creating a custom `ADBCUG_Controller` to specify *how* to convert our ArangoDB vertex IDs into cuGraph node IDs. View the default `ADBCUG_Controller` [here](https://github.com/arangoml/cugraph-adapter/blob/master/adbcug_adapter/controller.py).\n",
        "* Using a custom ADBCUG Controller for `ArangoDB --> cuGraph` is optional. However, a custom ADBCUG Controller for `cuGraph --> ArangoDB` functionality is almost always needed, at the exception of Homogeneous graphs, and graphs where the node IDs are already formatted to the ArangoDB vertex ID standard (i.e `collection/_key`)"
      ]
    },
    {
      "cell_type": "code",
      "execution_count": 19,
      "metadata": {
        "id": "QqGgOe51Vr85",
        "colab": {
          "base_uri": "https://localhost:8080/"
        },
        "outputId": "d245f424-8608-4197-908a-57728d4e77f0"
      },
      "outputs": [
        {
          "output_type": "stream",
          "name": "stderr",
          "text": [
            "[2022/05/25 16:44:10 +0000] [2488] [INFO] - adbcug_adapter: Instantiated ADBCUG_Adapter with database 'TUT4mnzcrc61phw4we9wpp7tg'\n",
            "[2022/05/25 16:44:10 +0000] [2488] [DEBUG] - adbcug_adapter: Starting arangodb_to_cugraph(fraud-detection, ...):\n",
            "[2022/05/25 16:44:10 +0000] [2488] [DEBUG] - adbcug_adapter: Preparing 'account' vertices\n",
            "[2022/05/25 16:44:10 +0000] [2488] [DEBUG] - adbcug_adapter: Preparing 'customer' vertices\n",
            "[2022/05/25 16:44:10 +0000] [2488] [DEBUG] - adbcug_adapter: Preparing 'accountHolder' edges\n",
            "[2022/05/25 16:44:10 +0000] [2488] [DEBUG] - adbcug_adapter: Preparing 'transaction' edges\n",
            "[2022/05/25 16:44:10 +0000] [2488] [DEBUG] - adbcug_adapter: Inserting 116 edges\n",
            "[2022/05/25 16:44:10 +0000] [2488] [INFO] - adbcug_adapter: Created cuGraph 'fraud-detection' Graph\n"
          ]
        },
        {
          "output_type": "stream",
          "name": "stdout",
          "text": [
            "\n",
            "--------------------\n",
            "0      new_account/10000001\n",
            "1      new_account/10000002\n",
            "2      new_account/10000003\n",
            "3      new_account/10000004\n",
            "4      new_account/10000005\n",
            "              ...          \n",
            "66    new_customer/10000013\n",
            "67    new_customer/10000014\n",
            "68    new_customer/10000015\n",
            "69    new_customer/10000016\n",
            "70       new_customer/10810\n",
            "Length: 71, dtype: object\n",
            "\n",
            "--------------------\n",
            "                      src                    dst\n",
            "0    new_account/10000022  new_customer/10000006\n",
            "1    new_account/10000001  new_customer/10000008\n",
            "2    new_account/10000034  new_customer/10000012\n",
            "3    new_account/10000032  new_customer/10000011\n",
            "4    new_account/10000027  new_customer/10000002\n",
            "..                    ...                    ...\n",
            "111  new_account/10000006   new_account/10000003\n",
            "112  new_account/10000022   new_account/10000021\n",
            "113  new_account/10000032   new_account/10000035\n",
            "114  new_account/10000040   new_account/10000043\n",
            "115  new_account/10000016   new_account/10000015\n",
            "\n",
            "[116 rows x 2 columns]\n"
          ]
        }
      ],
      "source": [
        "# Define metagraph\n",
        "graph_name = \"fraud-detection\"\n",
        "\n",
        "class Custom_ADBCUG_Controller(ADBCUG_Controller):\n",
        "    \"\"\"ArangoDB-cuGraph controller.\n",
        "\n",
        "    Responsible for controlling how nodes & edges are handled when\n",
        "    transitioning from ArangoDB to cuGraph.\n",
        "\n",
        "    You can derive your own custom ADBCUG_Controller.\n",
        "    \"\"\"\n",
        "\n",
        "    def _prepare_arangodb_vertex(self, adb_vertex: Json, col: str) -> None:\n",
        "        \"\"\"Prepare an ArangoDB vertex before it gets inserted into the cuGraph\n",
        "        graph.\n",
        "\n",
        "        Given an ArangoDB vertex, you can modify it before it gets inserted\n",
        "        into the cuGraph graph, and/or derive a custom node id for cuGraph\n",
        "        to use by updating the \"_id\" attribute of the vertex (otherwise the\n",
        "        vertex's current \"_id\" value will be used)\n",
        "\n",
        "        :param adb_vertex: The ArangoDB vertex object to (optionally) modify.\n",
        "        :type adb_vertex: adbcug_adapter.typings.Json\n",
        "        :param col: The ArangoDB collection the vertex belongs to.\n",
        "        :type col: str\n",
        "        \"\"\"\n",
        "        # Custom behaviour: Add a \"_new\" prefix to every vertex ID\n",
        "        adb_vertex[\"_id\"] = \"new_\" + adb_vertex[\"_id\"]\n",
        "\n",
        "# Instantiate a new adapter with the custom controller\n",
        "custom_adbcug_adapter = ADBCUG_Adapter(db, controller=Custom_ADBCUG_Controller())\n",
        "\n",
        "# You can also change the adapter's logging level for access to \n",
        "# silent, regular, or verbose logging (logging.WARNING, logging.INFO, logging.DEBUG)\n",
        "custom_adbcug_adapter.set_logging(logging.DEBUG) # verbose logging\n",
        "\n",
        "# Create cuGraph Graph an ArangoDB graph using the custom adapter\n",
        "cug_graph = custom_adbcug_adapter.arangodb_graph_to_cugraph(\"fraud-detection\")\n",
        "\n",
        "# Show graph data\n",
        "print('\\n--------------------')\n",
        "print(cug_graph.nodes())\n",
        "print('\\n--------------------')\n",
        "print(cug_graph.edges())"
      ]
    },
    {
      "cell_type": "markdown",
      "source": [
        "# <u>cuGraph to ArangoDB</u>"
      ],
      "metadata": {
        "id": "XnUEQgPU3_eQ"
      }
    },
    {
      "cell_type": "markdown",
      "source": [
        "#### Karate Graph"
      ],
      "metadata": {
        "id": "OX6ksyYJwFiG"
      }
    },
    {
      "cell_type": "markdown",
      "source": [
        "Data source\n",
        "* [cuGraph 22.06 Datasets](https://github.com/rapidsai/cugraph/blob/branch-22.06/datasets/karate.csv)\n",
        "\n",
        "Package methods used\n",
        "* [`adbcug_adapter.adapter.cugraph_to_arangodb()`](https://github.com/arangoml/cugraph-adapter/blob/master/adbcug_adapter/adapter.py)\n",
        "\n",
        "Important notes\n",
        "* A custom `ADBCUG Controller` is **not** required here. This is because the karate graph only has 1 vertex collection (`karateka`), and 1 edge collection (`knows`). See the edge definitions below "
      ],
      "metadata": {
        "id": "ONgfFnXhwFiO"
      }
    },
    {
      "cell_type": "code",
      "source": [
        "# Fetch Karate Club data\n",
        "!wget https://raw.githubusercontent.com/rapidsai/cugraph/branch-22.06/datasets/karate.csv\n",
        "dataframe = cudf.read_csv(\"karate-data.csv\", delimiter='\\t', names=['src', 'dst'], dtype=['int32', 'int32'] )\n",
        "\n",
        "# Create the cuGraph graph\n",
        "cug_graph = cugraph.Graph()\n",
        "cug_graph.from_cudf_edgelist(dataframe, source='src', destination='dst')\n",
        "\n",
        "# Specify ArangoDB edge definitions\n",
        "edge_definitions = [\n",
        "    {\n",
        "        \"edge_collection\": \"knows\",\n",
        "        \"from_vertex_collections\": [\"karateka\"],\n",
        "        \"to_vertex_collections\": [\"karateka\"],\n",
        "    }\n",
        "]\n",
        "\n",
        "# Create ArangoDB graph from cuGraph\n",
        "name = \"KarateClubGraph\"\n",
        "db.delete_graph(name, drop_collections=True, ignore_missing=True)\n",
        "adb_graph = adbcug_adapter.cugraph_to_arangodb(name, cug_graph, edge_definitions)\n",
        "\n",
        "print('\\n--------------------')\n",
        "print(\"URL: \" + con[\"url\"])\n",
        "print(\"Username: \" + con[\"username\"])\n",
        "print(\"Password: \" + con[\"password\"])\n",
        "print(\"Database: \" + con[\"dbName\"])\n",
        "print('--------------------\\n')\n",
        "print(f\"View the created graph here: {con['url']}/_db/{con['dbName']}/_admin/aardvark/index.html#graph/{name}\")"
      ],
      "metadata": {
        "colab": {
          "base_uri": "https://localhost:8080/"
        },
        "id": "Jn9vgpeFwFiO",
        "outputId": "3b19b7a4-7822-4f53-9028-c82e32b457bf"
      },
      "execution_count": 60,
      "outputs": [
        {
          "output_type": "stream",
          "name": "stdout",
          "text": [
            "--2022-05-25 17:05:34--  https://raw.githubusercontent.com/rapidsai/cugraph/branch-22.06/datasets/karate.csv\n",
            "Resolving raw.githubusercontent.com (raw.githubusercontent.com)... 185.199.108.133, 185.199.109.133, 185.199.110.133, ...\n",
            "Connecting to raw.githubusercontent.com (raw.githubusercontent.com)|185.199.108.133|:443... connected.\n",
            "HTTP request sent, awaiting response... 200 OK\n",
            "Length: 1434 (1.4K) [text/plain]\n",
            "Saving to: ‘karate.csv.4’\n",
            "\n",
            "\rkarate.csv.4          0%[                    ]       0  --.-KB/s               \rkarate.csv.4        100%[===================>]   1.40K  --.-KB/s    in 0s      \n",
            "\n",
            "2022-05-25 17:05:34 (23.8 MB/s) - ‘karate.csv.4’ saved [1434/1434]\n",
            "\n"
          ]
        },
        {
          "output_type": "stream",
          "name": "stderr",
          "text": [
            "[2022/05/25 17:05:34 +0000] [2488] [DEBUG] - adbcug_adapter: Starting cugraph_to_arangodb('KarateClubGraph', ...):\n",
            "[2022/05/25 17:05:34 +0000] [2488] [DEBUG] - adbcug_adapter: Is graph 'KarateClubGraph' homogeneous? True\n",
            "[2022/05/25 17:05:34 +0000] [2488] [DEBUG] - adbcug_adapter: Preparing 34 cugraph nodes\n",
            "[2022/05/25 17:05:34 +0000] [2488] [DEBUG] - adbcug_adapter: Preparing 78 cugraph edges\n",
            "[2022/05/25 17:05:34 +0000] [2488] [DEBUG] - adbcug_adapter: Inserting last 34 documents into 'karateka'\n",
            "[2022/05/25 17:05:34 +0000] [2488] [DEBUG] - adbcug_adapter: Inserting last 78 documents into 'knows'\n",
            "[2022/05/25 17:05:34 +0000] [2488] [INFO] - adbcug_adapter: Created ArangoDB 'KarateClubGraph' Graph\n"
          ]
        },
        {
          "output_type": "stream",
          "name": "stdout",
          "text": [
            "\n",
            "--------------------\n",
            "URL: https://tutorials.arangodb.cloud:8529\n",
            "Username: TUTka66dmg6q2eb3vgyb1ywo\n",
            "Password: TUTxoj1trkqv5pzhfwjn8h2mh\n",
            "Database: TUT4mnzcrc61phw4we9wpp7tg\n",
            "--------------------\n",
            "\n",
            "View the created graph here: https://tutorials.arangodb.cloud:8529/_db/TUT4mnzcrc61phw4we9wpp7tg/_admin/aardvark/index.html#graph/KarateClubGraph\n"
          ]
        }
      ]
    },
    {
      "cell_type": "markdown",
      "source": [
        "#### Divisibility Graph"
      ],
      "metadata": {
        "id": "KLUw5iarn7eh"
      }
    },
    {
      "cell_type": "markdown",
      "source": [
        "Data source\n",
        "* No source\n",
        "\n",
        "Package methods used\n",
        "* [`adbcug_adapter.adapter.cugraph_to_arangodb()`](https://github.com/arangoml/cugraph-adapter/blob/master/adbcug_adapter/adapter.py)\n",
        "\n",
        "Important notes\n",
        "* Even if this graph has more than 1 vertex collection, a custom `ADBCUG Controller` is still **not** required here. This is because the cuGraph Node IDs are already formatted to ArangoDB standard, so the default ADBCUG Controller will take care of node identification (see [`_identify_cugraph_node()`](https://github.com/arangoml/cugraph-adapter/blob/master/adbcug_adapter/controller.py))"
      ],
      "metadata": {
        "id": "b3I3uHQtoFbt"
      }
    },
    {
      "cell_type": "code",
      "source": [
        "# Create the cuGraph graph\n",
        "cug_graph = cugraph.MultiGraph(directed=True)\n",
        "cug_graph.from_cudf_edgelist(\n",
        "    cudf.DataFrame(\n",
        "        [\n",
        "            (f\"numbers_j/{j}\", f\"numbers_i/{i}\", j / i)\n",
        "            for i in range(1, 101)\n",
        "            for j in range(1, 101)\n",
        "            if j % i == 0\n",
        "        ],\n",
        "        columns=[\"src\", \"dst\", \"weight\"],\n",
        "    ),\n",
        "    source=\"src\",\n",
        "    destination=\"dst\",\n",
        "    edge_attr=\"weight\",\n",
        "    renumber=False,\n",
        ")\n",
        "\n",
        "# Specify ArangoDB edge definitions\n",
        "edge_definitions = [\n",
        "    {\n",
        "        \"edge_collection\": \"is_divisible_by\",\n",
        "        \"from_vertex_collections\": [\"numbers_j\"],\n",
        "        \"to_vertex_collections\": [\"numbers_i\"],\n",
        "    }\n",
        "]\n",
        "\n",
        "# Create ArangoDB graph from cuGraph\n",
        "name = \"DivisibilityGraph\"\n",
        "db.delete_graph(name, drop_collections=True, ignore_missing=True)\n",
        "adb_graph = adbcug_adapter.cugraph_to_arangodb(name, cug_graph, edge_definitions, keyify_nodes=True)\n",
        "\n",
        "\n",
        "print('\\n--------------------')\n",
        "print(\"URL: \" + con[\"url\"])\n",
        "print(\"Username: \" + con[\"username\"])\n",
        "print(\"Password: \" + con[\"password\"])\n",
        "print(\"Database: \" + con[\"dbName\"])\n",
        "print('--------------------\\n')\n",
        "print(f\"View the created graph here: {con['url']}/_db/{con['dbName']}/_admin/aardvark/index.html#graph/{name}\")"
      ],
      "metadata": {
        "colab": {
          "base_uri": "https://localhost:8080/"
        },
        "id": "Pdx2r_AtoSWF",
        "outputId": "ee0c48ed-b507-48d0-b2cc-d0b0ca2d293c"
      },
      "execution_count": 61,
      "outputs": [
        {
          "output_type": "stream",
          "name": "stderr",
          "text": [
            "[2022/05/25 17:05:44 +0000] [2488] [DEBUG] - adbcug_adapter: Starting cugraph_to_arangodb('DivisibilityGraph', ...):\n",
            "[2022/05/25 17:05:45 +0000] [2488] [DEBUG] - adbcug_adapter: Is graph 'DivisibilityGraph' homogeneous? False\n",
            "[2022/05/25 17:05:45 +0000] [2488] [DEBUG] - adbcug_adapter: Preparing 200 cugraph nodes\n",
            "[2022/05/25 17:05:45 +0000] [2488] [DEBUG] - adbcug_adapter: Preparing 482 cugraph edges\n",
            "[2022/05/25 17:05:45 +0000] [2488] [DEBUG] - adbcug_adapter: Inserting last 100 documents into 'numbers_i'\n",
            "[2022/05/25 17:05:45 +0000] [2488] [DEBUG] - adbcug_adapter: Inserting last 100 documents into 'numbers_j'\n",
            "[2022/05/25 17:05:45 +0000] [2488] [DEBUG] - adbcug_adapter: Inserting last 482 documents into 'is_divisible_by'\n",
            "[2022/05/25 17:05:45 +0000] [2488] [INFO] - adbcug_adapter: Created ArangoDB 'DivisibilityGraph' Graph\n"
          ]
        },
        {
          "output_type": "stream",
          "name": "stdout",
          "text": [
            "\n",
            "--------------------\n",
            "URL: https://tutorials.arangodb.cloud:8529\n",
            "Username: TUTka66dmg6q2eb3vgyb1ywo\n",
            "Password: TUTxoj1trkqv5pzhfwjn8h2mh\n",
            "Database: TUT4mnzcrc61phw4we9wpp7tg\n",
            "--------------------\n",
            "\n",
            "View the created graph here: https://tutorials.arangodb.cloud:8529/_db/TUT4mnzcrc61phw4we9wpp7tg/_admin/aardvark/index.html#graph/DivisibilityGraph\n"
          ]
        }
      ]
    },
    {
      "cell_type": "markdown",
      "source": [
        "#### School Graph with a custom ADBCUG_Controller"
      ],
      "metadata": {
        "id": "nuVoCZQv6oyi"
      }
    },
    {
      "cell_type": "markdown",
      "source": [
        "Data source\n",
        "* No source, the graph data is arbitrary\n",
        "\n",
        "Package methods used\n",
        "* [`adbcug_adapter.adapter.cugraph_to_arangodb()`](https://github.com/arangoml/cugraph-adapter/blob/master/adbcug_adapter/adapter.py)\n",
        "\n",
        "Important notes\n",
        "* Here we demonstrate the functionality of having a custom `ADBCUG_Controller`, that overrides the [default ADBCUG_Controller](https://github.com/arangoml/cugraph-adapter/blob/master/adbcug_adapter/controller.py).\n",
        "* Recall that a custom ADBCUG Controller for `cuGraph --> ArangoDB` functionality is almost always needed, at the exception of Homogeneous graphs, and graphs where the node IDs are already formatted to the ArangoDB vertex ID standard (i.e `collection/_key`)"
      ],
      "metadata": {
        "id": "zPv3BgWt6wEd"
      }
    },
    {
      "cell_type": "code",
      "source": [
        "# Load some arbitary data\n",
        "df = cudf.DataFrame(\n",
        "  [\n",
        "   ('student:101', 'lecture:101'), \n",
        "   ('student:102', 'lecture:102'), \n",
        "   ('student:103', 'lecture:103'), \n",
        "   ('student:103', 'student:101'), \n",
        "   ('student:103', 'student:102'),\n",
        "   ('teacher:101', 'lecture:101'),\n",
        "   ('teacher:102', 'lecture:102'),\n",
        "   ('teacher:103', 'lecture:103'),\n",
        "   ('teacher:101', 'teacher:102'),\n",
        "   ('teacher:102', 'teacher:103')\n",
        "  ],\n",
        "  columns=['src', 'dst']\n",
        ")\n",
        "\n",
        "# Create the cuGraph graph\n",
        "cug_graph = cugraph.MultiGraph(directed=True)\n",
        "cug_graph.from_cudf_edgelist(df, source='src', destination='dst')\n",
        "\n",
        "# Specify ArangoDB edge definitions\n",
        "edge_definitions = [\n",
        "    {\n",
        "        \"edge_collection\": \"attends\",\n",
        "        \"from_vertex_collections\": [\"student\"],\n",
        "        \"to_vertex_collections\": [\"lecture\"],\n",
        "    },\n",
        "    {\n",
        "        \"edge_collection\": \"classmate\",\n",
        "        \"from_vertex_collections\": [\"student\"],\n",
        "        \"to_vertex_collections\": [\"student\"],\n",
        "    },\n",
        "    {\n",
        "        \"edge_collection\": \"teaches\",\n",
        "        \"from_vertex_collections\": [\"teacher\"],\n",
        "        \"to_vertex_collections\": [\"lecture\"],\n",
        "    },\n",
        "    {\n",
        "        \"edge_collection\": \"colleague\",\n",
        "        \"from_vertex_collections\": [\"teacher\"],\n",
        "        \"to_vertex_collections\": [\"teacher\"],\n",
        "    }\n",
        "]\n",
        "\n",
        "\n",
        "# Given our graph is heterogeneous, and has a non-ArangoDB way of\n",
        "# formatting its Node IDs, we must derive a custom ABCCUG Controller\n",
        "# to handle this behavior.\n",
        "class Custom_ADBCUG_Controller(ADBCUG_Controller):\n",
        "  \"\"\"ArangoDB-cuGraph controller.\n",
        "\n",
        "  Responsible for controlling how nodes & edges are handled when\n",
        "  transitioning from ArangoDB to cuGraph.\n",
        "\n",
        "  You can derive your own custom ADBCUG_Controller.\n",
        "  \"\"\"\n",
        "\n",
        "  def _identify_cugraph_node(self, cug_node_id: CUGId, adb_v_cols: List[str]) -> str:\n",
        "    \"\"\"Given a cuGraph node, and a list of ArangoDB vertex collections defined,\n",
        "    identify which ArangoDB vertex collection it should belong to.\n",
        "\n",
        "    NOTE: You must override this function if len(**adb_v_cols**) > 1\n",
        "    OR **cug_node_id* does NOT comply to ArangoDB standards\n",
        "    (i.e \"{collection}/{key}\").\n",
        "\n",
        "    :param cug_node_id: The cuGraph ID of the vertex.\n",
        "    :type cug_node_id: adbcug_adapter.typings.CUGId\n",
        "    :param adb_v_cols: All ArangoDB vertex collections specified\n",
        "        by the **edge_definitions** parameter of cugraph_to_arangodb()\n",
        "    :type adb_v_cols: List[str]\n",
        "    :return: The ArangoDB collection name\n",
        "    :rtype: str\n",
        "    \"\"\"\n",
        "    return str(cug_node_id).split(\":\")[0] # Identify node based on ':' split\n",
        "\n",
        "  def _identify_cugraph_edge(\n",
        "      self,\n",
        "      from_cug_node: Json,\n",
        "      to_cug_node: Json,\n",
        "      adb_e_cols: List[str],\n",
        "  ) -> str:\n",
        "    \"\"\"Given a pair of connected cuGraph nodes, and a list of ArangoDB\n",
        "    edge collections defined, identify which ArangoDB edge collection it\n",
        "    should belong to.\n",
        "\n",
        "    NOTE: You must override this function if len(**adb_e_cols**) > 1.\n",
        "\n",
        "    NOTE #2: The pair of associated cuGraph nodes can be accessed\n",
        "    by the **from_cug_node** & **to_cug_node** parameters, and are guaranteed\n",
        "    to have the following attributes: `{\"cug_id\", \"adb_id\", \"adb_col\", \"adb_key\"}`\n",
        "\n",
        "    :param from_cug_node: The cuGraph node representing the edge source.\n",
        "    :type from_cug_node: adbcug_adapter.typings.Json\n",
        "    :param to_cug_node: The cuGraph node representing the edge destination.\n",
        "    :type to_cug_node: adbcug_adapter.typings.Json\n",
        "    :param adb_e_cols: All ArangoDB edge collections specified\n",
        "        by the **edge_definitions** parameter of\n",
        "        ADBCUG_Adapter.cugraph_to_arangodb()\n",
        "    :type adb_e_cols: List[str]\n",
        "    :return: The ArangoDB collection name\n",
        "    :rtype: str\n",
        "    \"\"\"\n",
        "    from_col = from_cug_node[\"adb_col\"] # From node collection\n",
        "    to_col = to_cug_node[\"adb_col\"] # To node collection\n",
        "\n",
        "    if from_col == \"student\" and to_col == \"lecture\":\n",
        "      return \"attends\"\n",
        "    elif from_col == to_col == \"student\":\n",
        "      return \"classmate\"\n",
        "    elif from_col == \"teacher\" and to_col == \"lecture\":\n",
        "      return \"teaches\"\n",
        "    elif from_col == to_col == \"teacher\":\n",
        "      return \"colleague\"\n",
        "    else:\n",
        "      raise ValueError(f\"Unknown edge relationship between {from_cug_node} and {to_cug_node}\")\n",
        "\n",
        "  def _keyify_cugraph_node(self, cug_node_id: CUGId, col: str) -> str:\n",
        "    \"\"\"Given a cuGraph node, derive its valid ArangoDB key.\n",
        "\n",
        "    NOTE: You can override this function if you want to create custom ArangoDB _key\n",
        "    values from your cuGraph nodes. To enable the use of this method, enable the\n",
        "    **keyify_nodes** parameter in ADBCUG_Adapter.cugraph_to_arangodb().\n",
        "\n",
        "    :param cug_node_id: The cuGraph node id.\n",
        "    :type cug_node_id: adbcug_adapter.typings.CUGId\n",
        "    :param col: The ArangoDB collection the vertex belongs to.\n",
        "    :type col: str\n",
        "    :return: A valid ArangoDB _key value.\n",
        "    :rtype: str\n",
        "    \"\"\"\n",
        "    return str(cug_node_id).split(\":\")[1] # Keyify node based on ':' split\n",
        "\n",
        "\n",
        "# Instantiate the adapter\n",
        "custom_adbcug_adapter = ADBCUG_Adapter(db, Custom_ADBCUG_Controller())\n",
        "custom_adbcug_adapter.set_logging(logging.DEBUG) # Update logging to verbose\n",
        "\n",
        "# Create the ArangoDB graph\n",
        "name = \"SchoolGraph\"\n",
        "db.delete_graph(name, drop_collections=True, ignore_missing=True)\n",
        "adb_g = custom_adbcug_adapter.cugraph_to_arangodb(name, cug_graph, edge_definitions, keyify_nodes=True)\n",
        "\n",
        "print('\\n--------------------')\n",
        "print(\"URL: \" + con[\"url\"])\n",
        "print(\"Username: \" + con[\"username\"])\n",
        "print(\"Password: \" + con[\"password\"])\n",
        "print(\"Database: \" + con[\"dbName\"])\n",
        "print('--------------------\\n')\n",
        "print(f\"View the created graph here: {con['url']}/_db/{con['dbName']}/_admin/aardvark/index.html#graph/{name}\")\n"
      ],
      "metadata": {
        "colab": {
          "base_uri": "https://localhost:8080/"
        },
        "id": "oiToiEJ19ZVx",
        "outputId": "229916ac-b888-4d41-ab47-399b9565a68c"
      },
      "execution_count": 62,
      "outputs": [
        {
          "output_type": "stream",
          "name": "stderr",
          "text": [
            "[2022/05/25 17:05:50 +0000] [2488] [INFO] - adbcug_adapter: Instantiated ADBCUG_Adapter with database 'TUT4mnzcrc61phw4we9wpp7tg'\n",
            "[2022/05/25 17:05:51 +0000] [2488] [DEBUG] - adbcug_adapter: Starting cugraph_to_arangodb('SchoolGraph', ...):\n",
            "[2022/05/25 17:05:51 +0000] [2488] [DEBUG] - adbcug_adapter: Is graph 'SchoolGraph' homogeneous? False\n",
            "[2022/05/25 17:05:51 +0000] [2488] [DEBUG] - adbcug_adapter: Preparing 9 cugraph nodes\n",
            "[2022/05/25 17:05:51 +0000] [2488] [DEBUG] - adbcug_adapter: Preparing 10 cugraph edges\n",
            "[2022/05/25 17:05:51 +0000] [2488] [DEBUG] - adbcug_adapter: Inserting last 3 documents into 'student'\n",
            "[2022/05/25 17:05:51 +0000] [2488] [DEBUG] - adbcug_adapter: Inserting last 3 documents into 'teacher'\n",
            "[2022/05/25 17:05:51 +0000] [2488] [DEBUG] - adbcug_adapter: Inserting last 3 documents into 'lecture'\n",
            "[2022/05/25 17:05:51 +0000] [2488] [DEBUG] - adbcug_adapter: Inserting last 3 documents into 'attends'\n",
            "[2022/05/25 17:05:51 +0000] [2488] [DEBUG] - adbcug_adapter: Inserting last 2 documents into 'classmate'\n",
            "[2022/05/25 17:05:51 +0000] [2488] [DEBUG] - adbcug_adapter: Inserting last 3 documents into 'teaches'\n",
            "[2022/05/25 17:05:51 +0000] [2488] [DEBUG] - adbcug_adapter: Inserting last 2 documents into 'colleague'\n",
            "[2022/05/25 17:05:51 +0000] [2488] [INFO] - adbcug_adapter: Created ArangoDB 'SchoolGraph' Graph\n"
          ]
        },
        {
          "output_type": "stream",
          "name": "stdout",
          "text": [
            "\n",
            "--------------------\n",
            "URL: https://tutorials.arangodb.cloud:8529\n",
            "Username: TUTka66dmg6q2eb3vgyb1ywo\n",
            "Password: TUTxoj1trkqv5pzhfwjn8h2mh\n",
            "Database: TUT4mnzcrc61phw4we9wpp7tg\n",
            "--------------------\n",
            "\n",
            "View the created graph here: https://tutorials.arangodb.cloud:8529/_db/TUT4mnzcrc61phw4we9wpp7tg/_admin/aardvark/index.html#graph/SchoolGraph\n"
          ]
        }
      ]
    }
  ],
  "metadata": {
    "accelerator": "GPU",
    "colab": {
      "collapsed_sections": [
        "1rmQxwWC1_VR",
        "KS9c-vE5eG89",
        "lRmEM5eaQxJ5",
        "Oc__NAd1eG8-",
        "7y81WHO8eG8_",
        "QfE_tKxneG9A",
        "uByvwf9feG9A",
        "ZrEDmtqCVD0W",
        "RQ4CknYfUEuz",
        "tWU1YW9AViTA",
        "XnUEQgPU3_eQ",
        "OX6ksyYJwFiG",
        "KLUw5iarn7eh"
      ],
      "name": "ArangoDB_cuGraph_Adapter_v1.ipynb",
      "provenance": []
    },
    "kernelspec": {
      "display_name": "Python 3",
      "language": "python",
      "name": "python3"
    },
    "language_info": {
      "codemirror_mode": {
        "name": "ipython",
        "version": 3
      },
      "file_extension": ".py",
      "mimetype": "text/x-python",
      "name": "python",
      "nbconvert_exporter": "python",
      "pygments_lexer": "ipython3",
      "version": "3.7.6"
    }
  },
  "nbformat": 4,
  "nbformat_minor": 0
}