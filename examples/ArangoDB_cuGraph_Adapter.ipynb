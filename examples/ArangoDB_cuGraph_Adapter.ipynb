{
 "cells": [
  {
   "cell_type": "markdown",
   "metadata": {
    "id": "q8KesL7xeG89"
   },
   "source": [
    "# ArangoDB cuGraph Adapter Getting Started Guide  "
   ]
  },
  {
   "cell_type": "markdown",
   "metadata": {
    "id": "U1d45V4OeG89"
   },
   "source": [
    "<a href=\"https://colab.research.google.com/github/arangoml/cugraph-adapter/blob/master/examples/ArangoDB_cuGraph_Adapter.ipynb\" target=\"_parent\"><img src=\"https://colab.research.google.com/assets/colab-badge.svg\" alt=\"Open In Colab\"/></a>"
   ]
  },
  {
   "cell_type": "markdown",
   "metadata": {
    "id": "Nx9aa3LAeG89"
   },
   "source": [
    "![arangodb](https://github.com/arangoml/cugraph-adapter/blob/master/examples/assets/logos/ArangoDB_logo.png?raw=1)\n",
    "<a href=\"https://github.com/rapidsai/cugraph\" rel=\"github.com/rapidsai/cugraph\"><img src=\"https://github.com/arangoml/cugraph-adapter/blob/master/examples/assets/logos/rapids_logo.png?raw=1\" width=30% height=30%></a>"
   ]
  },
  {
   "cell_type": "markdown",
   "metadata": {
    "id": "bpvZS-1aeG89"
   },
   "source": [
    "Export Graphs from [ArangoDB](https://www.arangodb.com/), a multi-model Graph Database, to [cuGraph](https://github.com/rapidsai/cugraph), a library of collective GPU-accelerated graph algorithms."
   ]
  },
  {
   "cell_type": "markdown",
   "metadata": {
    "id": "1rmQxwWC1_VR"
   },
   "source": [
    "# Environment Sanity Check\n",
    "\n"
   ]
  },
  {
   "cell_type": "markdown",
   "metadata": {
    "id": "v9AlrewS2LhM"
   },
   "source": [
    "This notebook requires a Tesla T4, P4, or P100 GPU.\n",
    "1. Open the <u>Runtime</u> dropdown\n",
    "2. Click on <u>Change Runtime Type</u>\n",
    "3. Set <u>Hardware accelerator</u> to GPU\n",
    "4. Re-connect to runtime\n",
    "\n",
    "Check the output of `!nvidia-smi -L` to make sure you've been allocated a Tesla T4, P4, or P100. If not, you can rely on the _Disconnect and delete runtime_ option to repeat the process & try again (unfortunately this is the only option)."
   ]
  },
  {
   "cell_type": "code",
   "execution_count": null,
   "metadata": {
    "colab": {
     "base_uri": "https://localhost:8080/"
    },
    "id": "z22Ut7DU2BH2",
    "outputId": "111e66cc-40d2-47a4-da9e-a9e6401df188"
   },
   "outputs": [],
   "source": [
    "!nvidia-smi -L # T4, P4, or P100 is required"
   ]
  },
  {
   "cell_type": "markdown",
   "metadata": {
    "id": "KS9c-vE5eG89"
   },
   "source": [
    "# Setup\n",
    "Est Time: 5 minutes"
   ]
  },
  {
   "cell_type": "code",
   "execution_count": null,
   "metadata": {
    "colab": {
     "base_uri": "https://localhost:8080/"
    },
    "id": "fUnFAFAheG89",
    "outputId": "c08e28dd-f568-4fa9-823c-2da0ca830886"
   },
   "outputs": [],
   "source": [
    "# This get the RAPIDS-Colab install files and test check your GPU.  Run this and the next cell only.\n",
    "# Please read the output of this cell.  If your Colab Instance is not RAPIDS compatible, it will warn you and give you remediation steps.\n",
    "!git clone https://github.com/rapidsai/rapidsai-csp-utils.git\n",
    "!python rapidsai-csp-utils/colab/pip-install.py"
   ]
  },
  {
   "cell_type": "code",
   "execution_count": null,
   "metadata": {
    "colab": {
     "base_uri": "https://localhost:8080/"
    },
    "id": "32t5ZOx-27bD",
    "outputId": "996fab70-3743-47c2-ac35-abe5e256a7c4"
   },
   "outputs": [],
   "source": [
    "# Install the cugraph-adapter & adb-cloud-connector\n",
    "!pip install git+https://github.com/arangoml/cugraph-adapter.git@housekeeping\n",
    "!pip install adb-cloud-connector\n",
    "!git clone -b housekeeping --single-branch https://github.com/arangoml/cugraph-adapter.git"
   ]
  },
  {
   "cell_type": "code",
   "execution_count": null,
   "metadata": {
    "id": "J3eGVQLRhulA"
   },
   "outputs": [],
   "source": [
    "# All imports\n",
    "import cudf\n",
    "import cugraph\n",
    "\n",
    "from adbcug_adapter import ADBCUG_Adapter, ADBCUG_Controller\n",
    "from adbcug_adapter.typings import CUGId, Json\n",
    "\n",
    "from arango import ArangoClient\n",
    "from adb_cloud_connector import get_temp_credentials\n",
    "\n",
    "import json\n",
    "import logging\n",
    "import io, requests\n",
    "from typing import List, Optional, Any"
   ]
  },
  {
   "cell_type": "markdown",
   "metadata": {
    "id": "lRmEM5eaQxJ5"
   },
   "source": [
    "# Understanding cuGraph & cuDF\n",
    "\n",
    "(referenced from [docs.rapids.ai](https://docs.rapids.ai/))"
   ]
  },
  {
   "cell_type": "markdown",
   "metadata": {
    "id": "42wigq2hYu1w"
   },
   "source": [
    "RAPIDS cuGraph is a library of graph algorithms that seamlessly integrates into the RAPIDS data science ecosystem and allows the data scientist to easily call graph algorithms using data stored in GPU DataFrames, NetworkX Graphs, or even CuPy or SciPy sparse Matrices.\n",
    "\n",
    "\n",
    "Here is an example of creating a simple weighted graph:"
   ]
  },
  {
   "cell_type": "code",
   "execution_count": null,
   "metadata": {
    "colab": {
     "base_uri": "https://localhost:8080/"
    },
    "id": "6TlQ9oerV_kj",
    "outputId": "5cdfda3d-4a9b-47ce-cf41-6b1b14eb97cb"
   },
   "outputs": [],
   "source": [
    "cug_graph = cugraph.Graph()\n",
    "\n",
    "df = cudf.DataFrame(\n",
    "  [('a', 'b', 5), ('a', 'c', 1), ('a', 'd', 4), ('b', 'c', 3), ('c', 'd', 2)],\n",
    "  columns=['src', 'dst', 'weight']\n",
    ")\n",
    "\n",
    "cug_graph.from_cudf_edgelist(\n",
    "    df,\n",
    "    source='src',\n",
    "    destination='dst',\n",
    "    edge_attr='weight'\n",
    ")\n",
    "\n",
    "print('\\n--------------------')\n",
    "print(cug_graph.nodes())\n",
    "print('\\n--------------------')\n",
    "print(cug_graph.edges())"
   ]
  },
  {
   "cell_type": "markdown",
   "metadata": {
    "id": "MZvrkW4v35mq"
   },
   "source": [
    "RAPIDS cuDF is a GPU DataFrame library for loading, joining, aggregating, filtering, and otherwise manipulating data. It provides a pandas-like API that will be familiar to data engineers & data scientists, so they can use it to easily accelerate their workflows without going into the details of CUDA programming.\n",
    "\n",
    "For example, the following snippet downloads a CSV, then uses the GPU to parse it into rows and columns and run calculations:"
   ]
  },
  {
   "cell_type": "code",
   "execution_count": null,
   "metadata": {
    "colab": {
     "base_uri": "https://localhost:8080/"
    },
    "id": "zMpjZ7vDTATD",
    "outputId": "17180c23-105f-41ec-9542-711102d7d3ad"
   },
   "outputs": [],
   "source": [
    "# Load a dataset into a GPU memory resident DataFrame and perform a basic calculation.\n",
    "# Everything from CSV parsing to calculating tip percentage and computing a grouped average is done on the GPU.\n",
    "\n",
    "# download CSV file from GitHub\n",
    "url = \"https://github.com/plotly/datasets/raw/master/tips.csv\"\n",
    "content = requests.get(url).content.decode('utf-8')\n",
    "\n",
    "tips_df = cudf.read_csv(io.StringIO(content))\n",
    "tips_df['tip_percentage'] = tips_df['tip'] / tips_df['total_bill'] * 100\n",
    "\n",
    "# display average tip by dining party size\n",
    "print(tips_df.groupby('size').tip_percentage.mean())"
   ]
  },
  {
   "cell_type": "markdown",
   "metadata": {
    "id": "JEjYyQi-4i6c"
   },
   "source": [
    "The following snippet loads data into a cuGraph graph and computes PageRank:"
   ]
  },
  {
   "cell_type": "code",
   "execution_count": null,
   "metadata": {
    "colab": {
     "base_uri": "https://localhost:8080/",
     "height": 417
    },
    "id": "MQ3TfRSg4m_H",
    "outputId": "efebe027-c183-4256-9001-28b8604a0cd4"
   },
   "outputs": [],
   "source": [
    "from cugraph.experimental.datasets import karate\n",
    "\n",
    "# Load Karate Graph\n",
    "G = karate.get_graph(fetch=True)\n",
    "\n",
    "# Let's now get the PageRank score of each vertex by calling cugraph.pagerank\n",
    "df_page = cugraph.pagerank(G)\n",
    "\n",
    "# Let's look at the top 10 PageRank Score\n",
    "df_page.sort_values('pagerank', ascending=False).head(10)"
   ]
  },
  {
   "cell_type": "markdown",
   "metadata": {
    "id": "Oc__NAd1eG8-"
   },
   "source": [
    "# Create a Temporary ArangoDB Cloud Instance"
   ]
  },
  {
   "cell_type": "code",
   "execution_count": null,
   "metadata": {
    "colab": {
     "base_uri": "https://localhost:8080/"
    },
    "id": "2ekGwnJDeG8-",
    "outputId": "94246a76-049c-49ad-a2c3-ce5361f87d82"
   },
   "outputs": [],
   "source": [
    "# Request temporary instance from the managed ArangoDB Cloud Service.\n",
    "con = get_temp_credentials()\n",
    "print(json.dumps(con, indent=2))\n",
    "\n",
    "# Connect to the instance via the python-arango driver\n",
    "db = ArangoClient(hosts=con[\"url\"]).db(con[\"dbName\"], con[\"username\"], con[\"password\"], verify=True)"
   ]
  },
  {
   "cell_type": "markdown",
   "metadata": {
    "id": "e4QfL37neG8_"
   },
   "source": [
    "Feel free to use the above URL to check out the UI!"
   ]
  },
  {
   "cell_type": "markdown",
   "metadata": {
    "id": "7y81WHO8eG8_"
   },
   "source": [
    "# Import Sample Data"
   ]
  },
  {
   "cell_type": "markdown",
   "metadata": {
    "id": "BM0iRYPDeG8_"
   },
   "source": [
    "For demo purposes, we will be using the [ArangoDB Fraud Detection example graph](https://colab.research.google.com/github/joerg84/Graph_Powered_ML_Workshop/blob/master/Fraud_Detection.ipynb), and the [ArangoDB IMDB Dataset](https://github.com/arangodb/example-datasets/tree/master/Graphs/IMDB)."
   ]
  },
  {
   "cell_type": "code",
   "execution_count": null,
   "metadata": {
    "id": "j-dlG45B26kD"
   },
   "outputs": [],
   "source": [
    "import locale\n",
    "locale.getpreferredencoding = lambda: \"UTF-8\""
   ]
  },
  {
   "cell_type": "code",
   "execution_count": null,
   "metadata": {
    "colab": {
     "base_uri": "https://localhost:8080/"
    },
    "id": "7bgGJ3QkeG8_",
    "outputId": "ed521046-d980-4495-fd43-0f7ce5fedf80"
   },
   "outputs": [],
   "source": [
    "!chmod -R 755 cugraph-adapter/\n",
    "!./cugraph-adapter/tests/assets/arangorestore -c none --server.endpoint http+ssl://{con[\"hostname\"]}:{con[\"port\"]} --server.username {con[\"username\"]} --server.database {con[\"dbName\"]} --server.password {con[\"password\"]} --replication-factor 3  --input-directory \"cugraph-adapter/examples/data/fraud_dump\" --include-system-collections true\n",
    "!./cugraph-adapter/tests/assets/arangorestore -c none --server.endpoint http+ssl://{con[\"hostname\"]}:{con[\"port\"]} --server.username {con[\"username\"]} --server.database {con[\"dbName\"]} --server.password {con[\"password\"]} --replication-factor 3  --input-directory \"cugraph-adapter/examples/data/imdb_dump\" --include-system-collections true"
   ]
  },
  {
   "cell_type": "markdown",
   "metadata": {
    "id": "QfE_tKxneG9A"
   },
   "source": [
    "# Instantiate the Adapter"
   ]
  },
  {
   "cell_type": "markdown",
   "metadata": {
    "id": "kGfhzPT9eG9A"
   },
   "source": [
    "Connect the ArangoDB-cuGraph Adapter to our database client:"
   ]
  },
  {
   "cell_type": "code",
   "execution_count": null,
   "metadata": {
    "colab": {
     "base_uri": "https://localhost:8080/"
    },
    "id": "raaZQC-qoM30",
    "outputId": "c9d8c4b6-4889-49a2-d121-a5b6625eb8bc"
   },
   "outputs": [],
   "source": [
    "adbcug = ADBCUG_Adapter(db)"
   ]
  },
  {
   "cell_type": "markdown",
   "metadata": {
    "id": "uByvwf9feG9A"
   },
   "source": [
    "# <u>ArangoDB to cuGraph</u>\n",
    "\n"
   ]
  },
  {
   "cell_type": "markdown",
   "metadata": {
    "id": "ZrEDmtqCVD0W"
   },
   "source": [
    "#### Via ArangoDB Graph Name"
   ]
  },
  {
   "cell_type": "markdown",
   "metadata": {
    "id": "oIJE69k8XERE"
   },
   "source": [
    "Data source\n",
    "* ArangoDB Fraud-Detection Graph\n",
    "\n",
    "Package methods used\n",
    "* [`adbcug_adapter.adapter.arangodb_graph_to_cugraph()`](https://github.com/arangoml/cugraph-adapter/blob/master/adbcug_adapter/adapter.py)\n",
    "\n",
    "Important notes\n",
    "* The graph `name` must point to an existing ArangoDB graph\n",
    "* cuGraph does not support node or edge attributes (apart from edge weight)\n",
    "* If an ArangoDB edge has an attribute named `weight`, its value will be transferred over to the cuGraph graph. Otherwise, the cuGraph edge weight will default to `0`."
   ]
  },
  {
   "cell_type": "code",
   "execution_count": null,
   "metadata": {
    "colab": {
     "base_uri": "https://localhost:8080/",
     "height": 636,
     "referenced_widgets": [
      "25001202d98d46049182b977e915d640",
      "aaaa7d48391543eeb83b85a6df4fdc43",
      "9223b356c5da4e96ae54a0fdd03d46d0",
      "3083ab398d9f40fc97c698d356dbebe0",
      "10d3b2be6b9744cc8f416768768f67c0",
      "261e295e21004c4b8c4b494d8cc83233",
      "e004d33bb13e429f9cdd5880c63ae14e",
      "f96832a0bae34165876f4157163c405e",
      "2d55f75857a24a44957b519fc69fba52",
      "ef503ed941d94ebd86433cecdd9eb82e",
      "185f8e932af741db991790d78ed10996",
      "737930d9ad0a4794af5d39577f64eee4",
      "ead8e7c3c2374df9bb16393c1f3b4c3f",
      "eb99e10fe23448538b19e9c27ba80804",
      "05a077104cd04c7da47ab95d592fe697",
      "d0b0a67b0ff34e569dbab745baef8cf4"
     ]
    },
    "id": "zZ-Hu3lLVHgd",
    "outputId": "f794be6b-809a-4c32-9b32-609f08b9de49"
   },
   "outputs": [],
   "source": [
    "# Define graph name\n",
    "graph_name = \"fraud-detection\"\n",
    "\n",
    "# Create cuGraph graph from ArangoDB graph name\n",
    "cug_graph = adbcug.arangodb_graph_to_cugraph(graph_name)\n",
    "\n",
    "# You can also provide valid Python-Arango AQL query options to the command above, like such:\n",
    "# cug_graph = adbcug_adapter.arangodb_graph_to_cugraph(graph_name, ttl=1000, stream=True)\n",
    "# See the full parameter list at https://docs.python-arango.com/en/main/specs.html#arango.aql.AQL.execute\n",
    "\n",
    "# Show graph data\n",
    "print('\\n--------------------')\n",
    "print(cug_graph.nodes())\n",
    "print('\\n--------------------')\n",
    "print(cug_graph.edges())"
   ]
  },
  {
   "cell_type": "markdown",
   "metadata": {
    "id": "RQ4CknYfUEuz"
   },
   "source": [
    "#### Via ArangoDB Collection Names"
   ]
  },
  {
   "cell_type": "markdown",
   "metadata": {
    "id": "wVCEdRB8YdLW"
   },
   "source": [
    "Data source\n",
    "* ArangoDB Fraud-Detection Collections\n",
    "\n",
    "Package methods used\n",
    "* [`adbcug_adapter.adapter.arangodb_collections_to_cugraph()`](https://github.com/arangoml/cugraph-adapter/blob/master/adbcug_adapter/adapter.py)\n",
    "\n",
    "Important notes\n",
    "* The `vertex_collections` & `edge_collections` parameters must point to existing ArangoDB collections within your ArangoDB instance.\n",
    "* cuGraph does not support node or edge attributes (apart from edge weight)\n",
    "* If an ArangoDB edge has an attribute named `weight`, its value will be transferred over to the cuGraph graph. Otherwise, the cuGraph edge weight will default to `0`."
   ]
  },
  {
   "cell_type": "code",
   "execution_count": null,
   "metadata": {
    "colab": {
     "base_uri": "https://localhost:8080/",
     "height": 700,
     "referenced_widgets": [
      "0e623be9239d409e99e5197601b2326e",
      "c750c42e056b430fa7a08a6e2fb60263",
      "81e4bb6aa432463d95490af3d1e66d35",
      "77699fe536f34cacb3468bb1663498c8",
      "afb1cd3ad7b24012a384439d4e34c98a",
      "9be97d9b0c824cd2bacec76fd5ed5312",
      "d904ed5a56924a0dbf641fe59c20dd79",
      "d320fb9a9dde44849b80eebdc460c1d3",
      "4d241adfc74945a08f4e9fa51e67e4a2",
      "485588e74de147dfb5d5bb9dd147691e",
      "9a11f204683a479db2cb0b0eca5107d7",
      "aea52aceff044586973f1a1218745a71",
      "9d0d57c08ef845199cbc0ac807b7c9de",
      "f3ad93644c334dca9985a64dd09ff77d",
      "353cd73ef18a4c8a9b472b486a94fa86",
      "2e8dd8a0133c4537932958e6ac1997cd",
      "0d4c6c412789421d90939534d59a9e49",
      "49c9e354a308455fa59f1456c199b68b",
      "5378b553430e483fb09c84c6751766db",
      "af36b64f757f4221a824600fb0922e0b",
      "d5f6855aeb1b4c8795b236a0d20fe92a",
      "639a694f913245e0b1f20ce900508631",
      "c0009beae287422e892cb7b677ecbbff",
      "e8f88f3e4d62482093c4c720924ca84d",
      "f5319abce2934dcdb86599c9ac7df5c9",
      "7626df72393a4743a7c40273f6cd9428",
      "dbefcd3a21684c2790e956193f4611e6",
      "873732e04bd04575b80061e47bb75c7b",
      "781db9d2ef1b4d97ba53c0fee8911a1e",
      "58484b0312e742b3936f677439d9823d",
      "f52aab2872dd4cfb84a4c6ac3ee1b8c1",
      "4d0b6ece6e514f27aa4b8f39962e7ceb"
     ]
    },
    "id": "i4XOpdRLUNlJ",
    "outputId": "ce3b0a73-c9ec-4604-93a7-b6e6ba8cdbbb"
   },
   "outputs": [],
   "source": [
    "# Define collection\n",
    "vertex_collections = {\"account\", \"bank\", \"branch\", \"Class\", \"customer\"}\n",
    "edge_collections = {\"accountHolder\", \"Relationship\", \"transaction\"}\n",
    "\n",
    "# Create NetworkX graph from ArangoDB collections\n",
    "cug_graph = adbcug.arangodb_collections_to_cugraph(\"fraud-detection\", vertex_collections, edge_collections)\n",
    "\n",
    "# You can also provide valid Python-Arango AQL query options to the command above, like such:\n",
    "# cug_graph = adbcug_adapter.arangodb_collections_to_cugraph, ttl=1000, stream=True)\n",
    "# See the full parameter list at https://docs.python-arango.com/en/main/specs.html#arango.aql.AQL.execute\n",
    "\n",
    "# Show graph data\n",
    "print('\\n--------------------')\n",
    "print(cug_graph.nodes())\n",
    "print('\\n--------------------')\n",
    "print(cug_graph.edges())"
   ]
  },
  {
   "cell_type": "markdown",
   "metadata": {
    "id": "tWU1YW9AViTA"
   },
   "source": [
    "#### Via ArangoDB Graph Name with a custom ADBCUG_Controller & verbose logging"
   ]
  },
  {
   "cell_type": "markdown",
   "metadata": {
    "id": "sjtWpTDbZpLq"
   },
   "source": [
    "Data source\n",
    "* ArangoDB Fraud-Detection Collections\n",
    "\n",
    "Package methods used\n",
    "* [`adbcug_adapter.adapter.arangodb_graph_to_cugraph()`](https://github.com/arangoml/cugraph-adapter/blob/master/adbcug_adapter/adapter.py)\n",
    "* [`adbcug_adapter.controller._prepare_arangodb_vertex()`](https://github.com/arangoml/cugraph-adapter/blob/master/adbcug_adapter/controller.py)\n",
    "\n",
    "Important notes\n",
    "* We are creating a custom `ADBCUG_Controller` to specify *how* to convert our ArangoDB vertex IDs into cuGraph node IDs. View the default `ADBCUG_Controller` [here](https://github.com/arangoml/cugraph-adapter/blob/master/adbcug_adapter/controller.py).\n",
    "* Using a custom ADBCUG Controller for `ArangoDB --> cuGraph` is optional. However, a custom ADBCUG Controller for `cuGraph --> ArangoDB` functionality is almost always needed, at the exception of Homogeneous graphs, and graphs where the node IDs are already formatted to the ArangoDB vertex ID standard (i.e `collection/_key`)"
   ]
  },
  {
   "cell_type": "code",
   "execution_count": null,
   "metadata": {
    "colab": {
     "base_uri": "https://localhost:8080/",
     "height": 815,
     "referenced_widgets": [
      "f94ce9e75ddc442eb4214f20dc1e9546",
      "b937134a5b4440bf856c1b2cc28246ec",
      "00c879010f9848adadacd5bd59fed622",
      "af9bf5f65ee7434697d7c7db1a0c0abf",
      "9cda2c63702b482893aa75580492babd",
      "dac0ea6cb7124f57888e98e195428a8a",
      "e56c4f55fa554c43924b5a5475d3e0db",
      "9ef566b63f65463ab19a97d51d24029e"
     ]
    },
    "id": "QqGgOe51Vr85",
    "outputId": "29c90b7d-95bd-4277-eb1c-ed9387b82c6c"
   },
   "outputs": [],
   "source": [
    "# Define metagraph\n",
    "graph_name = \"fraud-detection\"\n",
    "\n",
    "class Custom_ADBCUG_Controller(ADBCUG_Controller):\n",
    "    \"\"\"ArangoDB-cuGraph controller.\n",
    "\n",
    "    Responsible for controlling how nodes & edges are handled when\n",
    "    transitioning from ArangoDB to cuGraph.\n",
    "\n",
    "    You can derive your own custom ADBCUG_Controller.\n",
    "    \"\"\"\n",
    "\n",
    "    def _prepare_arangodb_vertex(self, adb_vertex: Json, col: str) -> None:\n",
    "        \"\"\"Prepare an ArangoDB vertex before it gets inserted into the cuGraph\n",
    "        graph.\n",
    "\n",
    "        Given an ArangoDB vertex, you can modify it before it gets inserted\n",
    "        into the cuGraph graph, and/or derive a custom node id for cuGraph\n",
    "        to use by updating the \"_id\" attribute of the vertex (otherwise the\n",
    "        vertex's current \"_id\" value will be used)\n",
    "\n",
    "        :param adb_vertex: The ArangoDB vertex object to (optionally) modify.\n",
    "        :type adb_vertex: adbcug_adapter.typings.Json\n",
    "        :param col: The ArangoDB collection the vertex belongs to.\n",
    "        :type col: str\n",
    "        \"\"\"\n",
    "        # Custom behaviour: Add a \"_new\" prefix to every vertex ID\n",
    "        adb_vertex[\"_id\"] = \"new_\" + adb_vertex[\"_id\"]\n",
    "\n",
    "# Instantiate a new adapter with the custom controller\n",
    "custom_adbcug_adapter = ADBCUG_Adapter(db, controller=Custom_ADBCUG_Controller())\n",
    "\n",
    "# You can also change the adapter's logging level for access to\n",
    "# silent, regular, or verbose logging (logging.WARNING, logging.INFO, logging.DEBUG)\n",
    "custom_adbcug_adapter.set_logging(logging.DEBUG) # verbose logging\n",
    "\n",
    "# Create cuGraph Graph an ArangoDB graph using the custom adapter\n",
    "cug_graph = custom_adbcug_adapter.arangodb_graph_to_cugraph(\"fraud-detection\")\n",
    "\n",
    "# Show graph data\n",
    "print('\\n--------------------')\n",
    "print(cug_graph.nodes())\n",
    "print('\\n--------------------')\n",
    "print(cug_graph.edges())"
   ]
  },
  {
   "cell_type": "markdown",
   "metadata": {
    "id": "XnUEQgPU3_eQ"
   },
   "source": [
    "# <u>cuGraph to ArangoDB</u>"
   ]
  },
  {
   "cell_type": "markdown",
   "metadata": {
    "id": "OX6ksyYJwFiG"
   },
   "source": [
    "#### Karate Graph"
   ]
  },
  {
   "cell_type": "markdown",
   "metadata": {
    "id": "ONgfFnXhwFiO"
   },
   "source": [
    "Data source\n",
    "* [cuGraph 22.06 Datasets](https://github.com/rapidsai/cugraph/blob/branch-22.06/datasets/karate.csv)\n",
    "\n",
    "Package methods used\n",
    "* [`adbcug_adapter.adapter.cugraph_to_arangodb()`](https://github.com/arangoml/cugraph-adapter/blob/master/adbcug_adapter/adapter.py)\n",
    "\n",
    "Important notes\n",
    "* A custom `ADBCUG Controller` is **not** required here. This is because the karate graph only has 1 vertex collection (`karateka`), and 1 edge collection (`knows`). See the edge definitions below"
   ]
  },
  {
   "cell_type": "code",
   "execution_count": null,
   "metadata": {
    "id": "ol6_sp9r_OZq"
   },
   "outputs": [],
   "source": [
    "# Fetch Karate Club data\n",
    "!wget https://raw.githubusercontent.com/rapidsai/cugraph/branch-22.06/datasets/karate.csv"
   ]
  },
  {
   "cell_type": "code",
   "execution_count": null,
   "metadata": {
    "id": "Jn9vgpeFwFiO"
   },
   "outputs": [],
   "source": [
    "dataframe = cudf.read_csv(\"karate.csv\", delimiter=' ', names=['src', 'dst'], dtype=['int32', 'int32'] )\n",
    "\n",
    "# Create the cuGraph graph\n",
    "cug_graph = cugraph.Graph()\n",
    "cug_graph.from_cudf_edgelist(dataframe, source='src', destination='dst')\n",
    "\n",
    "# Specify ArangoDB edge definitions\n",
    "edge_definitions = [\n",
    "    {\n",
    "        \"edge_collection\": \"knows\",\n",
    "        \"from_vertex_collections\": [\"karateka\"],\n",
    "        \"to_vertex_collections\": [\"karateka\"],\n",
    "    }\n",
    "]\n",
    "\n",
    "# Create ArangoDB graph from cuGraph\n",
    "name = \"KarateClubGraph\"\n",
    "db.delete_graph(name, drop_collections=True, ignore_missing=True)\n",
    "adb_graph = adbcug.cugraph_to_arangodb(name, cug_graph, edge_definitions)\n",
    "\n",
    "# You can also provide valid Python-Arango Import Bulk options to the command above, like such:\n",
    "# adb_graph = adbcug_adapter.cugraph_to_arangodb(name, cug_graph, edge_definitions, batch_size=5, on_duplicate=\"replace\")\n",
    "# See the full parameter list at https://docs.python-arango.com/en/main/specs.html#arango.collection.Collection.import_bulk\n",
    "\n",
    "print('\\n--------------------')\n",
    "print(\"URL: \" + con[\"url\"])\n",
    "print(\"Username: \" + con[\"username\"])\n",
    "print(\"Password: \" + con[\"password\"])\n",
    "print(\"Database: \" + con[\"dbName\"])\n",
    "print('--------------------\\n')\n",
    "print(f\"View the created graph here: {con['url']}/_db/{con['dbName']}/_admin/aardvark/index.html#graph/{name}\")"
   ]
  },
  {
   "cell_type": "markdown",
   "metadata": {
    "id": "KLUw5iarn7eh"
   },
   "source": [
    "#### Divisibility Graph"
   ]
  },
  {
   "cell_type": "markdown",
   "metadata": {
    "id": "b3I3uHQtoFbt"
   },
   "source": [
    "Data source\n",
    "* No source\n",
    "\n",
    "Package methods used\n",
    "* [`adbcug_adapter.adapter.cugraph_to_arangodb()`](https://github.com/arangoml/cugraph-adapter/blob/master/adbcug_adapter/adapter.py)\n",
    "\n",
    "Important notes\n",
    "* Even if this graph has more than 1 vertex collection, a custom `ADBCUG Controller` is still **not** required here. This is because the cuGraph Node IDs are already formatted to ArangoDB standard, so the default ADBCUG Controller will take care of node identification (see [`_identify_cugraph_node()`](https://github.com/arangoml/cugraph-adapter/blob/master/adbcug_adapter/controller.py))"
   ]
  },
  {
   "cell_type": "code",
   "execution_count": null,
   "metadata": {
    "id": "Pdx2r_AtoSWF"
   },
   "outputs": [],
   "source": [
    "# Create the cuGraph graph\n",
    "cug_graph = cugraph.MultiGraph(directed=True)\n",
    "cug_graph.from_cudf_edgelist(\n",
    "    cudf.DataFrame(\n",
    "        [\n",
    "            (f\"numbers_j/{j}\", f\"numbers_i/{i}\", j / i)\n",
    "            for i in range(1, 101)\n",
    "            for j in range(1, 101)\n",
    "            if j % i == 0\n",
    "        ],\n",
    "        columns=[\"src\", \"dst\", \"weight\"],\n",
    "    ),\n",
    "    source=\"src\",\n",
    "    destination=\"dst\",\n",
    "    edge_attr=\"weight\"\n",
    ")\n",
    "\n",
    "# Specify ArangoDB edge definitions\n",
    "edge_definitions = [\n",
    "    {\n",
    "        \"edge_collection\": \"is_divisible_by\",\n",
    "        \"from_vertex_collections\": [\"numbers_j\"],\n",
    "        \"to_vertex_collections\": [\"numbers_i\"],\n",
    "    }\n",
    "]\n",
    "\n",
    "# Create ArangoDB graph from cuGraph\n",
    "name = \"DivisibilityGraph\"\n",
    "db.delete_graph(name, drop_collections=True, ignore_missing=True)\n",
    "adb_graph = adbcug.cugraph_to_arangodb(name, cug_graph, edge_definitions, keyify_nodes=True)\n",
    "\n",
    "\n",
    "print('\\n--------------------')\n",
    "print(\"URL: \" + con[\"url\"])\n",
    "print(\"Username: \" + con[\"username\"])\n",
    "print(\"Password: \" + con[\"password\"])\n",
    "print(\"Database: \" + con[\"dbName\"])\n",
    "print('--------------------\\n')\n",
    "print(f\"View the created graph here: {con['url']}/_db/{con['dbName']}/_admin/aardvark/index.html#graph/{name}\")"
   ]
  },
  {
   "cell_type": "markdown",
   "metadata": {
    "id": "nuVoCZQv6oyi"
   },
   "source": [
    "#### School Graph with a custom ADBCUG_Controller"
   ]
  },
  {
   "cell_type": "markdown",
   "metadata": {
    "id": "zPv3BgWt6wEd"
   },
   "source": [
    "Data source\n",
    "* No source, the graph data is arbitrary\n",
    "\n",
    "Package methods used\n",
    "* [`adbcug_adapter.adapter.cugraph_to_arangodb()`](https://github.com/arangoml/cugraph-adapter/blob/master/adbcug_adapter/adapter.py)\n",
    "\n",
    "Important notes\n",
    "* Here we demonstrate the functionality of having a custom `ADBCUG_Controller`, that overrides the [default ADBCUG_Controller](https://github.com/arangoml/cugraph-adapter/blob/master/adbcug_adapter/controller.py).\n",
    "* Recall that a custom ADBCUG Controller for `cuGraph --> ArangoDB` functionality is almost always needed, at the exception of Homogeneous graphs, and graphs where the node IDs are already formatted to the ArangoDB vertex ID standard (i.e `collection/_key`)"
   ]
  },
  {
   "cell_type": "code",
   "execution_count": null,
   "metadata": {
    "colab": {
     "base_uri": "https://localhost:8080/",
     "height": 1000,
     "referenced_widgets": [
      "69cfa5c3a6394d519660e34f87ed4232",
      "4e4025879bca434c9f09580443d95efe",
      "72a200acd3af4167ab8e5266bd0ee897",
      "4c555ef799c5475f9982bda02040ce98",
      "b62bd5b147ed401687897ee099005610",
      "7fad97fb59664417a0b4d43dc678da32",
      "2cf96f3212364ce6b332cc7f30f0abd7",
      "cc79013b8c5c4bffb0073ad05c48cfa2",
      "961e8db4f7684a8a93fa03b38e0d76d8",
      "bf34d265b131464cb057962c60f49915",
      "544875708aa64a4689da6b4497ca0733",
      "93a6ec863730480b967e3eb6d4b9fade",
      "d1c3e430dc21469a8a97a58b5e4947d7",
      "690f7ba7aca6486695fedcf6ce09bd18"
     ]
    },
    "id": "oiToiEJ19ZVx",
    "outputId": "9bd492f7-484b-4ed2-ab4b-7103c2a1e6f7"
   },
   "outputs": [],
   "source": [
    "# Load some arbitary data\n",
    "df = cudf.DataFrame(\n",
    "  [\n",
    "   ('student:101', 'lecture:101'),\n",
    "   ('student:102', 'lecture:102'),\n",
    "   ('student:103', 'lecture:103'),\n",
    "   ('student:103', 'student:101'),\n",
    "   ('student:103', 'student:102'),\n",
    "   ('teacher:101', 'lecture:101'),\n",
    "   ('teacher:102', 'lecture:102'),\n",
    "   ('teacher:103', 'lecture:103'),\n",
    "   ('teacher:101', 'teacher:102'),\n",
    "   ('teacher:102', 'teacher:103')\n",
    "  ],\n",
    "  columns=['src', 'dst']\n",
    ")\n",
    "\n",
    "# Create the cuGraph graph\n",
    "cug_graph = cugraph.MultiGraph(directed=True)\n",
    "cug_graph.from_cudf_edgelist(df, source='src', destination='dst')\n",
    "\n",
    "# Specify ArangoDB edge definitions\n",
    "edge_definitions = [\n",
    "    {\n",
    "        \"edge_collection\": \"attends\",\n",
    "        \"from_vertex_collections\": [\"student\"],\n",
    "        \"to_vertex_collections\": [\"lecture\"],\n",
    "    },\n",
    "    {\n",
    "        \"edge_collection\": \"classmate\",\n",
    "        \"from_vertex_collections\": [\"student\"],\n",
    "        \"to_vertex_collections\": [\"student\"],\n",
    "    },\n",
    "    {\n",
    "        \"edge_collection\": \"teaches\",\n",
    "        \"from_vertex_collections\": [\"teacher\"],\n",
    "        \"to_vertex_collections\": [\"lecture\"],\n",
    "    },\n",
    "    {\n",
    "        \"edge_collection\": \"colleague\",\n",
    "        \"from_vertex_collections\": [\"teacher\"],\n",
    "        \"to_vertex_collections\": [\"teacher\"],\n",
    "    }\n",
    "]\n",
    "\n",
    "\n",
    "# Given our graph is heterogeneous, and has a non-ArangoDB way of\n",
    "# formatting its Node IDs, we must derive a custom ABCCUG Controller\n",
    "# to handle this behavior.\n",
    "class Custom_ADBCUG_Controller(ADBCUG_Controller):\n",
    "  \"\"\"ArangoDB-cuGraph controller.\n",
    "\n",
    "  Responsible for controlling how nodes & edges are handled when\n",
    "  transitioning from ArangoDB to cuGraph.\n",
    "\n",
    "  You can derive your own custom ADBCUG_Controller.\n",
    "  \"\"\"\n",
    "\n",
    "  def _identify_cugraph_node(self, cug_node_id: CUGId, adb_v_cols: List[str]) -> str:\n",
    "    \"\"\"Given a cuGraph node, and a list of ArangoDB vertex collections defined,\n",
    "    identify which ArangoDB vertex collection it should belong to.\n",
    "\n",
    "    NOTE: You must override this function if len(**adb_v_cols**) > 1\n",
    "    OR **cug_node_id* does NOT comply to ArangoDB standards\n",
    "    (i.e \"{collection}/{key}\").\n",
    "\n",
    "    :param cug_node_id: The cuGraph ID of the vertex.\n",
    "    :type cug_node_id: adbcug_adapter.typings.CUGId\n",
    "    :param adb_v_cols: All ArangoDB vertex collections specified\n",
    "        by the **edge_definitions** parameter of cugraph_to_arangodb()\n",
    "    :type adb_v_cols: List[str]\n",
    "    :return: The ArangoDB collection name\n",
    "    :rtype: str\n",
    "    \"\"\"\n",
    "    return str(cug_node_id).split(\":\")[0] # Identify node based on ':' split\n",
    "\n",
    "  def _identify_cugraph_edge(\n",
    "      self,\n",
    "      from_cug_node: Json,\n",
    "      to_cug_node: Json,\n",
    "      adb_e_cols: List[str]\n",
    "  ) -> str:\n",
    "    \"\"\"Given a pair of connected cuGraph nodes, and a list of ArangoDB\n",
    "    edge collections defined, identify which ArangoDB edge collection it\n",
    "    should belong to.\n",
    "\n",
    "    NOTE: You must override this function if len(**adb_e_cols**) > 1.\n",
    "\n",
    "    NOTE #2: The pair of associated cuGraph nodes can be accessed\n",
    "    by the **from_cug_node** & **to_cug_node** parameters, and are guaranteed\n",
    "    to have the following attributes: `{\"cug_id\", \"adb_id\", \"adb_col\", \"adb_key\"}`\n",
    "\n",
    "    :param from_cug_node: The cuGraph node representing the edge source.\n",
    "    :type from_cug_node: adbcug_adapter.typings.Json\n",
    "    :param to_cug_node: The cuGraph node representing the edge destination.\n",
    "    :type to_cug_node: adbcug_adapter.typings.Json\n",
    "    :param adb_e_cols: All ArangoDB edge collections specified\n",
    "        by the **edge_definitions** parameter of\n",
    "        ADBCUG_Adapter.cugraph_to_arangodb()\n",
    "    :type adb_e_cols: List[str]\n",
    "    :return: The ArangoDB collection name\n",
    "    :rtype: str\n",
    "    \"\"\"\n",
    "    from_col = from_cug_node[\"adb_col\"] # From node collection\n",
    "    to_col = to_cug_node[\"adb_col\"] # To node collection\n",
    "\n",
    "    if (from_col, to_col) == (\"student\", \"lecture\"):\n",
    "      return \"attends\"\n",
    "    elif (from_col, to_col) == (\"student\", \"student\"):\n",
    "      return \"classmate\"\n",
    "    elif (from_col, to_col) == (\"teacher\", \"lecture\"):\n",
    "      return \"teaches\"\n",
    "    elif (from_col, to_col) == (\"teacher\", \"teacher\"):\n",
    "      return \"colleague\"\n",
    "    else:\n",
    "      raise ValueError(f\"Unknown edge relationship between {from_cug_node} and {to_cug_node}\")\n",
    "\n",
    "  def _keyify_cugraph_node(self, cug_node_id: CUGId, col: str) -> str:\n",
    "    \"\"\"Given a cuGraph node, derive its valid ArangoDB key.\n",
    "\n",
    "    NOTE: You can override this function if you want to create custom ArangoDB _key\n",
    "    values from your cuGraph nodes. To enable the use of this method, enable the\n",
    "    **keyify_nodes** parameter in ADBCUG_Adapter.cugraph_to_arangodb().\n",
    "\n",
    "    :param cug_node_id: The cuGraph node id.\n",
    "    :type cug_node_id: adbcug_adapter.typings.CUGId\n",
    "    :param col: The ArangoDB collection the vertex belongs to.\n",
    "    :type col: str\n",
    "    :return: A valid ArangoDB _key value.\n",
    "    :rtype: str\n",
    "    \"\"\"\n",
    "    return str(cug_node_id).split(\":\")[1] # Keyify node based on ':' split\n",
    "\n",
    "\n",
    "# Instantiate the adapter\n",
    "custom_adbcug_adapter = ADBCUG_Adapter(db, Custom_ADBCUG_Controller())\n",
    "custom_adbcug_adapter.set_logging(logging.DEBUG) # Update logging to verbose\n",
    "\n",
    "# Create the ArangoDB graph\n",
    "name = \"SchoolGraph\"\n",
    "db.delete_graph(name, drop_collections=True, ignore_missing=True)\n",
    "adb_g = custom_adbcug_adapter.cugraph_to_arangodb(name, cug_graph, edge_definitions, keyify_nodes=True)\n",
    "\n",
    "print('\\n--------------------')\n",
    "print(\"URL: \" + con[\"url\"])\n",
    "print(\"Username: \" + con[\"username\"])\n",
    "print(\"Password: \" + con[\"password\"])\n",
    "print(\"Database: \" + con[\"dbName\"])\n",
    "print('--------------------\\n')\n",
    "print(f\"View the created graph here: {con['url']}/_db/{con['dbName']}/_admin/aardvark/index.html#graph/{name}\")\n"
   ]
  }
 ],
 "metadata": {
  "accelerator": "GPU",
  "colab": {
   "gpuType": "T4",
   "provenance": []
  },
  "kernelspec": {
   "display_name": "Python 3",
   "name": "python3"
  },
  "language_info": {
   "codemirror_mode": {
    "name": "ipython",
    "version": 3
   },
   "file_extension": ".py",
   "mimetype": "text/x-python",
   "name": "python",
   "nbconvert_exporter": "python",
   "pygments_lexer": "ipython3",
   "version": "3.7.6"
  }
 },
 "nbformat": 4,
 "nbformat_minor": 0
}
