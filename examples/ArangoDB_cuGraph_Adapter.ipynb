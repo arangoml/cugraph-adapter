{
 "cells": [
  {
   "cell_type": "markdown",
   "metadata": {
    "id": "q8KesL7xeG89"
   },
   "source": [
    "# ArangoDB cuGraph Adapter Getting Started Guide  "
   ]
  },
  {
   "cell_type": "markdown",
   "metadata": {
    "id": "U1d45V4OeG89"
   },
   "source": [
    "<a href=\"https://colab.research.google.com/github/arangoml/cugraph-adapter/blob/master/examples/ArangoDB_cuGraph_Adapter.ipynb\" target=\"_parent\"><img src=\"https://colab.research.google.com/assets/colab-badge.svg\" alt=\"Open In Colab\"/></a>"
   ]
  },
  {
   "cell_type": "markdown",
   "metadata": {
    "id": "Nx9aa3LAeG89"
   },
   "source": [
    "![arangodb](https://github.com/arangoml/cugraph-adapter/blob/master/examples/assets/logos/ArangoDB_logo.png?raw=1)\n",
    "<a href=\"https://github.com/rapidsai/cugraph\" rel=\"github.com/rapidsai/cugraph\"><img src=\"https://github.com/arangoml/cugraph-adapter/blob/master/examples/assets/logos/rapids_logo.png?raw=1\" width=30% height=30%></a>"
   ]
  },
  {
   "cell_type": "markdown",
   "metadata": {
    "id": "bpvZS-1aeG89"
   },
   "source": [
    "Export Graphs from [ArangoDB](https://www.arangodb.com/), a multi-model Graph Database, to [cuGraph](https://github.com/rapidsai/cugraph), a library of collective GPU-accelerated graph algorithms."
   ]
  },
  {
   "cell_type": "markdown",
   "metadata": {
    "id": "1rmQxwWC1_VR"
   },
   "source": [
    "# Environment Sanity Check\n",
    "\n"
   ]
  },
  {
   "cell_type": "markdown",
   "metadata": {
    "id": "v9AlrewS2LhM"
   },
   "source": [
    "This notebook requires a Tesla T4, P4, or P100 GPU.\n",
    "1. Open the <u>Runtime</u> dropdown\n",
    "2. Click on <u>Change Runtime Type</u>\n",
    "3. Set <u>Hardware accelerator</u> to GPU\n",
    "4. Re-connect to runtime\n",
    "\n",
    "Check the output of `!nvidia-smi -L` to make sure you've been allocated a Tesla T4, P4, or P100. If not, you can rely on the _Disconnect and delete runtime_ option to repeat the process & try again (unfortunately this is the only option)."
   ]
  },
  {
   "cell_type": "code",
   "execution_count": null,
   "metadata": {
    "colab": {
     "base_uri": "https://localhost:8080/"
    },
    "id": "z22Ut7DU2BH2",
    "outputId": "0004cd46-0a20-4cf0-a73b-a651ae7bfe76"
   },
   "outputs": [],
   "source": [
    "!nvidia-smi -L # T4, P4, or P100 is required"
   ]
  },
  {
   "cell_type": "markdown",
   "metadata": {
    "id": "KS9c-vE5eG89"
   },
   "source": [
    "# Setup\n",
    "Est Time: 5 minutes"
   ]
  },
  {
   "cell_type": "code",
   "execution_count": null,
   "metadata": {
    "id": "fUnFAFAheG89"
   },
   "outputs": [],
   "source": [
    "%%capture\n",
    "\n",
    "# This get the RAPIDS-Colab install files and test check your GPU.  Run this and the next cell only.\n",
    "# Please read the output of this cell.  If your Colab Instance is not RAPIDS compatible, it will warn you and give you remediation steps.\n",
    "!git clone https://github.com/rapidsai/rapidsai-csp-utils.git\n",
    "!python rapidsai-csp-utils/colab/pip-install.py"
   ]
  },
  {
   "cell_type": "code",
   "execution_count": null,
   "metadata": {
    "id": "32t5ZOx-27bD"
   },
   "outputs": [],
   "source": [
    "%%capture\n",
    "\n",
    "# Install the cugraph-adapter & adb-cloud-connector\n",
    "!pip install adbcug-adapter==2.0.0\n",
    "!pip install adb-cloud-connector\n",
    "!git clone -b master --single-branch https://github.com/arangoml/cugraph-adapter.git"
   ]
  },
  {
   "cell_type": "code",
   "execution_count": null,
   "metadata": {
    "id": "J3eGVQLRhulA"
   },
   "outputs": [],
   "source": [
    "# All imports\n",
    "import cudf\n",
    "import cugraph\n",
    "\n",
    "from adbcug_adapter import ADBCUG_Adapter, ADBCUG_Controller\n",
    "from adbcug_adapter.typings import CUGId, Json\n",
    "\n",
    "from arango import ArangoClient\n",
    "from adb_cloud_connector import get_temp_credentials\n",
    "\n",
    "import json\n",
    "import logging\n",
    "import io, requests\n",
    "from typing import List, Optional, Any, Dict\n",
    "import networkx as nx"
   ]
  },
  {
   "cell_type": "code",
   "execution_count": null,
   "metadata": {
    "id": "VsSAWtWpZjgi"
   },
   "outputs": [],
   "source": [
    "# Helper function\n",
    "def print_cug_graph(g):\n",
    "  print('\\n--------------------')\n",
    "  print(g)\n",
    "  print('--------------------\\n')\n",
    "  print(g.nodes())\n",
    "  print('--------------------\\n')\n",
    "  print(g.view_edge_list())\n",
    "  print('--------------------\\n')\n",
    "\n",
    "def print_adb_info(con, adb_graph=None):\n",
    "  print('\\n--------------------')\n",
    "  print(\"URL: \" + con[\"url\"])\n",
    "  print(\"Username: \" + con[\"username\"])\n",
    "  print(\"Password: \" + con[\"password\"])\n",
    "  print(\"Database: \" + con[\"dbName\"])\n",
    "  print('--------------------\\n')\n",
    "  print(adb_graph) if adb_graph else None"
   ]
  },
  {
   "cell_type": "markdown",
   "metadata": {
    "id": "80nkJiMgZyws"
   },
   "source": []
  },
  {
   "cell_type": "markdown",
   "metadata": {
    "id": "lRmEM5eaQxJ5"
   },
   "source": [
    "# Understanding cuGraph & cuDF\n",
    "\n",
    "(referenced from [docs.rapids.ai](https://docs.rapids.ai/))"
   ]
  },
  {
   "cell_type": "markdown",
   "metadata": {
    "id": "42wigq2hYu1w"
   },
   "source": [
    "RAPIDS cuGraph is a library of graph algorithms that seamlessly integrates into the RAPIDS data science ecosystem and allows the data scientist to easily call graph algorithms using data stored in GPU DataFrames, NetworkX Graphs, or even CuPy or SciPy sparse Matrices.\n",
    "\n",
    "\n",
    "Here is an example of creating a simple weighted graph:"
   ]
  },
  {
   "cell_type": "code",
   "execution_count": null,
   "metadata": {
    "colab": {
     "base_uri": "https://localhost:8080/"
    },
    "id": "6TlQ9oerV_kj",
    "outputId": "4f932444-b102-4a00-af0f-e6a01d3cc870"
   },
   "outputs": [],
   "source": [
    "cug_graph = cugraph.Graph()\n",
    "\n",
    "df = cudf.DataFrame(\n",
    "  [('a', 'b', 5), ('a', 'c', 1), ('a', 'd', 4), ('b', 'c', 3), ('c', 'd', 2)],\n",
    "  columns=['src', 'dst', 'weight']\n",
    ")\n",
    "\n",
    "cug_graph.from_cudf_edgelist(\n",
    "    df,\n",
    "    source='src',\n",
    "    destination='dst',\n",
    "    edge_attr='weight'\n",
    ")\n",
    "\n",
    "print('\\n--------------------')\n",
    "print(cug_graph.nodes())\n",
    "print('\\n--------------------')\n",
    "print(cug_graph.edges())"
   ]
  },
  {
   "cell_type": "markdown",
   "metadata": {
    "id": "MZvrkW4v35mq"
   },
   "source": [
    "RAPIDS cuDF is a GPU DataFrame library for loading, joining, aggregating, filtering, and otherwise manipulating data. It provides a pandas-like API that will be familiar to data engineers & data scientists, so they can use it to easily accelerate their workflows without going into the details of CUDA programming.\n",
    "\n",
    "For example, the following snippet downloads a CSV, then uses the GPU to parse it into rows and columns and run calculations:"
   ]
  },
  {
   "cell_type": "code",
   "execution_count": null,
   "metadata": {
    "colab": {
     "base_uri": "https://localhost:8080/"
    },
    "id": "zMpjZ7vDTATD",
    "outputId": "366af814-e08e-4c65-eae9-d05230736f2e"
   },
   "outputs": [],
   "source": [
    "# Load a dataset into a GPU memory resident DataFrame and perform a basic calculation.\n",
    "# Everything from CSV parsing to calculating tip percentage and computing a grouped average is done on the GPU.\n",
    "\n",
    "# download CSV file from GitHub\n",
    "url = \"https://github.com/plotly/datasets/raw/master/tips.csv\"\n",
    "content = requests.get(url).content.decode('utf-8')\n",
    "\n",
    "tips_df = cudf.read_csv(io.StringIO(content))\n",
    "tips_df['tip_percentage'] = tips_df['tip'] / tips_df['total_bill'] * 100\n",
    "\n",
    "# display average tip by dining party size\n",
    "print(tips_df.groupby('size').tip_percentage.mean())"
   ]
  },
  {
   "cell_type": "markdown",
   "metadata": {
    "id": "JEjYyQi-4i6c"
   },
   "source": [
    "The following snippet loads data into a cuGraph graph and computes PageRank:"
   ]
  },
  {
   "cell_type": "code",
   "execution_count": null,
   "metadata": {
    "colab": {
     "base_uri": "https://localhost:8080/",
     "height": 397
    },
    "id": "MQ3TfRSg4m_H",
    "outputId": "8b8bdb86-b0b0-41e3-90f8-05490f827dfc"
   },
   "outputs": [],
   "source": [
    "from cugraph.experimental.datasets import karate\n",
    "\n",
    "# Load Karate Graph\n",
    "G = karate.get_graph(fetch=True)\n",
    "\n",
    "# Let's now get the PageRank score of each vertex by calling cugraph.pagerank\n",
    "df_page = cugraph.pagerank(G)\n",
    "\n",
    "# Let's look at the top 10 PageRank Score\n",
    "df_page.sort_values('pagerank', ascending=False).head(10)"
   ]
  },
  {
   "cell_type": "markdown",
   "metadata": {
    "id": "Oc__NAd1eG8-"
   },
   "source": [
    "# Create a temporary ArangoDB Cloud Instance"
   ]
  },
  {
   "cell_type": "code",
   "execution_count": null,
   "metadata": {
    "colab": {
     "base_uri": "https://localhost:8080/"
    },
    "id": "2ekGwnJDeG8-",
    "outputId": "3e0fb3e5-abad-4ed9-d2b4-4b957650ea95"
   },
   "outputs": [],
   "source": [
    "# Request temporary instance from the managed ArangoDB Cloud Service.\n",
    "con = get_temp_credentials()\n",
    "\n",
    "print_adb_info(con)\n",
    "\n",
    "# Connect to the db via the python-arango driver\n",
    "db = ArangoClient(hosts=con[\"url\"]).db(con[\"dbName\"], con[\"username\"], con[\"password\"], verify=True)"
   ]
  },
  {
   "cell_type": "markdown",
   "metadata": {
    "id": "e4QfL37neG8_"
   },
   "source": [
    "Feel free to use the above URL to check out the UI!"
   ]
  },
  {
   "cell_type": "markdown",
   "metadata": {
    "id": "7y81WHO8eG8_"
   },
   "source": [
    "# Import Sample Data"
   ]
  },
  {
   "cell_type": "markdown",
   "metadata": {
    "id": "BM0iRYPDeG8_"
   },
   "source": [
    "For demo purposes, we will be using the [ArangoDB Fraud Detection example graph](https://colab.research.google.com/github/joerg84/Graph_Powered_ML_Workshop/blob/master/Fraud_Detection.ipynb), and the [ArangoDB IMDB Dataset](https://github.com/arangodb/example-datasets/tree/master/Graphs/IMDB)."
   ]
  },
  {
   "cell_type": "code",
   "execution_count": null,
   "metadata": {
    "id": "j-dlG45B26kD"
   },
   "outputs": [],
   "source": [
    "import locale\n",
    "locale.getpreferredencoding = lambda: \"UTF-8\""
   ]
  },
  {
   "cell_type": "code",
   "execution_count": null,
   "metadata": {
    "id": "7bgGJ3QkeG8_"
   },
   "outputs": [],
   "source": [
    "!chmod -R 755 cugraph-adapter/\n",
    "!./cugraph-adapter/tests/assets/arangorestore -c none --server.endpoint http+ssl://{con[\"hostname\"]}:{con[\"port\"]} --server.username {con[\"username\"]} --server.database {con[\"dbName\"]} --server.password {con[\"password\"]} --replication-factor 3  --input-directory \"cugraph-adapter/examples/data/fraud_dump\" --include-system-collections true"
   ]
  },
  {
   "cell_type": "markdown",
   "metadata": {
    "id": "QfE_tKxneG9A"
   },
   "source": [
    "# Instantiate the Adapter"
   ]
  },
  {
   "cell_type": "markdown",
   "metadata": {
    "id": "kGfhzPT9eG9A"
   },
   "source": [
    "Connect the ArangoDB-cuGraph Adapter to our database client:"
   ]
  },
  {
   "cell_type": "code",
   "execution_count": null,
   "metadata": {
    "colab": {
     "base_uri": "https://localhost:8080/"
    },
    "id": "raaZQC-qoM30",
    "outputId": "4204ad91-ed68-4ee4-fc75-5f73ae1b5e23"
   },
   "outputs": [],
   "source": [
    "adbcug_adapter = ADBCUG_Adapter(db)"
   ]
  },
  {
   "cell_type": "markdown",
   "metadata": {
    "id": "uByvwf9feG9A"
   },
   "source": [
    "# <u>ArangoDB to cuGraph</u>\n",
    "\n"
   ]
  },
  {
   "cell_type": "markdown",
   "metadata": {
    "id": "ZrEDmtqCVD0W"
   },
   "source": [
    "#### Via ArangoDB Graph Name"
   ]
  },
  {
   "cell_type": "markdown",
   "metadata": {
    "id": "oIJE69k8XERE"
   },
   "source": [
    "Data source\n",
    "* ArangoDB Fraud-Detection Graph\n",
    "\n",
    "Package methods used\n",
    "* `adbcug_adapter.adapter.arangodb_graph_to_cugraph()`\n",
    "\n",
    "Important notes\n",
    "* The graph `name` must point to an existing ArangoDB graph\n",
    "* cuGraph does not support node or edge attributes (apart from edge weight)\n",
    "* If an ArangoDB edge has an attribute named `weight`, its value will be transferred over to the cuGraph graph. Otherwise, the cuGraph edge weight will default to `0`."
   ]
  },
  {
   "cell_type": "code",
   "execution_count": null,
   "metadata": {
    "colab": {
     "base_uri": "https://localhost:8080/",
     "height": 723,
     "referenced_widgets": [
      "3cab6bce98674ffabfc8d03bc773c23d",
      "b7ba9531556142e1b392c2a0338f6cff",
      "883bbf5986b84feea419ce929ded6106",
      "c42e8465c1aa4fbabc162347358f2a29",
      "91ada220e31f472cbd753569bdc6230b",
      "7ec3cbc43bac4150abababe3c21183cd",
      "e1fef87f44e240279e84e735207b40ff",
      "c60ba9c32d41473da97196212be126c4",
      "c1e9bbb274d147f79e22e5f7519bd916",
      "b5d18e7052d34e6587794eac8936e31a",
      "1a1563751252400c992aa7e35c5c485a",
      "be8fb99df2d8439a97239eff387e62c3",
      "8ff1a6ec861e4974bcb73e1da0ec408b",
      "e60f1aa27c9546d7948a1c59cf4fe8a9",
      "202961d823f84d8b8c353d26f7af93ea",
      "f68447fc1d2049f6a97eb7fe7c5b1102"
     ]
    },
    "id": "zZ-Hu3lLVHgd",
    "outputId": "7226f91b-a211-43c7-cdec-231ef02c5fc8"
   },
   "outputs": [],
   "source": [
    "# Define graph name\n",
    "graph_name = \"fraud-detection\"\n",
    "\n",
    "# Create NetworkX graph from ArangoDB graph\n",
    "cug_g = adbcug_adapter.arangodb_graph_to_cugraph(graph_name)\n",
    "\n",
    "# Show graph\n",
    "print_cug_graph(cug_g)"
   ]
  },
  {
   "cell_type": "markdown",
   "metadata": {
    "id": "RQ4CknYfUEuz"
   },
   "source": [
    "#### Via ArangoDB Collection Names"
   ]
  },
  {
   "cell_type": "markdown",
   "metadata": {
    "id": "wVCEdRB8YdLW"
   },
   "source": [
    "Data source\n",
    "* ArangoDB Fraud-Detection Collections\n",
    "\n",
    "Package methods used\n",
    "* [`adbcug_adapter.adapter.arangodb_collections_to_cugraph()`](https://github.com/arangoml/cugraph-adapter/blob/master/adbcug_adapter/adapter.py)\n",
    "\n",
    "Important notes\n",
    "* The `vertex_collections` & `edge_collections` parameters must point to existing ArangoDB collections within your ArangoDB instance.\n",
    "* cuGraph does not support node or edge attributes (apart from edge weight)\n",
    "* If an ArangoDB edge has an attribute named `weight`, its value will be transferred over to the cuGraph graph. Otherwise, the cuGraph edge weight will default to `0`."
   ]
  },
  {
   "cell_type": "code",
   "execution_count": null,
   "metadata": {
    "colab": {
     "base_uri": "https://localhost:8080/",
     "height": 787,
     "referenced_widgets": [
      "03cac0bc136443dc97a71acd5bf42a2c",
      "917a53fbc31d4539ac269da5d01471b8",
      "1eae3c9909f1463fa5d50d67b3dbf51f",
      "766f2580973a49d99f43769a3ed61f49",
      "358b381100a4450ea076b0a4f4a441b3",
      "4afe4ca5ed684b91add3119d8e4a1501",
      "6fcf69509300417cb26ed4f7a5e58829",
      "73593a060fc24473b0af85a9e4b02358",
      "d4c2e6e03a904c23af46a497c539ce1f",
      "e6b6bcb3a6ba4450b7aa7991b925e966",
      "a8214ded3af943af8e212c42d8145f03",
      "bdd6b6db17174522b289ac0113e5995e",
      "04a21e9dc63247e69e4b7a4cbc77224d",
      "6a0edb2b65de4bbf89074ae6048d8764",
      "19c1e3ef8ac74a1ca514f6f783b92991",
      "b2c7479782704deda2f838f031d91b29",
      "53fd8dc663ac4d278ba8e114ca80e210",
      "22d8fcc90e1a416893d80f6bebfac2ee",
      "11920b05cbc14886b47eeb0179a2b84c",
      "f503e564462340fb98b8aeeff9c25e87",
      "ba7aa12461ab4028b08dea71836790d8",
      "75b1c3057c104996abf6070f20011061",
      "bb1649e99ac04e84b76b5f6d5ad8e2ed",
      "6591e9be79d0479ea5d8178b7a9ce103",
      "39eef23ec3464370bd7dc1713f5667aa",
      "5edc0426ccbc46d689b4f03ee449330b",
      "7de387c5d1e74904a97eb5bec88dd897",
      "c490fd0037dd4730966a4cebda40f0ea",
      "9155c0e409e74e5ab39abba238aa38bd",
      "3bdc8253f37e4e489784a6d85631ceac",
      "c5836bea83d24eb28a5187d4641b51b5",
      "82e116f906b64f8e9558d5d12205f580"
     ]
    },
    "id": "i4XOpdRLUNlJ",
    "outputId": "b8b59ad4-c7dc-409c-db5f-fc19c6b8d34d"
   },
   "outputs": [],
   "source": [
    "# Define collections\n",
    "vertex_collections = {\"account\", \"bank\", \"branch\", \"Class\", \"customer\"}\n",
    "edge_collections = {\"accountHolder\", \"Relationship\", \"transaction\"}\n",
    "\n",
    "# Create NetworkX graph from ArangoDB collections\n",
    "cug_g = adbcug_adapter.arangodb_collections_to_cugraph(\"fraud-detection\", vertex_collections, edge_collections)\n",
    "\n",
    "# Show graph\n",
    "print_cug_graph(cug_g)"
   ]
  },
  {
   "cell_type": "markdown",
   "metadata": {
    "id": "tWU1YW9AViTA"
   },
   "source": [
    "#### Via ArangoDB Graph Name with a custom ADBCUG_Controller"
   ]
  },
  {
   "cell_type": "markdown",
   "metadata": {
    "id": "sjtWpTDbZpLq"
   },
   "source": [
    "Data source\n",
    "* ArangoDB Fraud-Detection Collections\n",
    "\n",
    "Package methods used\n",
    "* `adbcug_adapter.adapter.arangodb_graph_to_cugraph()`\n",
    "* `adbcug_adapter.controller._prepare_arangodb_vertex()`\n",
    "\n",
    "Important notes\n",
    "* We are creating a custom `ADBCUG_Controller` to specify *how* to convert our ArangoDB vertex IDs into cuGraph node IDs. View the default `ADBCUG_Controller` [here](https://github.com/arangoml/cugraph-adapter/blob/master/adbcug_adapter/controller.py).\n",
    "* Using a custom ADBCUG Controller for `ArangoDB --> cuGraph` is optional. However, a custom ADBCUG Controller for `cuGraph --> ArangoDB` functionality is almost always needed, at the exception of Homogeneous graphs, and graphs where the node IDs are already formatted to the ArangoDB vertex ID standard (i.e `collection/_key`)"
   ]
  },
  {
   "cell_type": "code",
   "execution_count": null,
   "metadata": {
    "colab": {
     "base_uri": "https://localhost:8080/",
     "height": 758,
     "referenced_widgets": [
      "525d71f0e0384077b3af988d853d108e",
      "06fa7bb5eb6540968e3ce0544de70a65",
      "5d60f85cd8bb4741b3928b4f63a7af44",
      "23b0a2bc4d6646168a5fc529039935c5",
      "60d2a0d08c734b7fa5b973baa1dabdbc",
      "71067b3448af4e7eb0b4f8f1fb6cf7c7",
      "6000f5b1273549c887d1bd0769790e94",
      "8067580d00b346c198adafca15924023",
      "b6e36a3cc8364e26be8cfb83ef27bf13",
      "b1d26cbd1f36462ea9e10d36665dfdd4",
      "856741ec8652446aa58a345232920be2",
      "e8e7beedcb5d4fb28d114869fba18932",
      "500d6d69f9ed467c9675c17028e6b549",
      "ee716410787d4eddbded867f085b8f83",
      "d218760d11e742fd825887b4019d91d9",
      "ea12f446357e4a6a9e0f611971d100ee"
     ]
    },
    "id": "QqGgOe51Vr85",
    "outputId": "ba5738ab-cff9-4bc6-918f-8c2e84817ae2"
   },
   "outputs": [],
   "source": [
    "# Define metagraph\n",
    "graph_name = \"fraud-detection\"\n",
    "\n",
    "class Custom_ADBCUG_Controller(ADBCUG_Controller):\n",
    "    \"\"\"ArangoDB-cuGraph controller.\n",
    "\n",
    "    Responsible for controlling how nodes & edges are handled when\n",
    "    transitioning from ArangoDB to cuGraph.\n",
    "\n",
    "    You can derive your own custom ADBCUG_Controller.\n",
    "    \"\"\"\n",
    "\n",
    "    def _prepare_arangodb_vertex(self, adb_vertex: Json, col: str) -> None:\n",
    "        \"\"\"Prepare an ArangoDB vertex before it gets inserted into the cuGraph\n",
    "        graph.\n",
    "\n",
    "        Given an ArangoDB vertex, you can modify it before it gets inserted\n",
    "        into the cuGraph graph, and/or derive a custom node id for cuGraph\n",
    "        to use by updating the \"_id\" attribute of the vertex (otherwise the\n",
    "        vertex's current \"_id\" value will be used)\n",
    "\n",
    "        :param adb_vertex: The ArangoDB vertex object to (optionally) modify.\n",
    "        :type adb_vertex: adbcug_adapter.typings.Json\n",
    "        :param col: The ArangoDB collection the vertex belongs to.\n",
    "        :type col: str\n",
    "        \"\"\"\n",
    "        # Custom behaviour: Add a \"_new\" prefix to every vertex ID\n",
    "        adb_vertex[\"_id\"] = \"new_\" + adb_vertex[\"_id\"]\n",
    "\n",
    "# Instantiate a new adapter with the custom controller\n",
    "custom_adbcug_adapter = ADBCUG_Adapter(db, controller=Custom_ADBCUG_Controller())\n",
    "\n",
    "# Create cuGraph Graph an ArangoDB graph using the custom adapter\n",
    "cug_g = custom_adbcug_adapter.arangodb_graph_to_cugraph(\"fraud-detection\")\n",
    "\n",
    "# Show graph data\n",
    "print_cug_graph(cug_g)"
   ]
  },
  {
   "cell_type": "markdown",
   "metadata": {
    "id": "XnUEQgPU3_eQ"
   },
   "source": [
    "# <u>cuGraph to ArangoDB</u>"
   ]
  },
  {
   "cell_type": "markdown",
   "metadata": {
    "id": "OX6ksyYJwFiG"
   },
   "source": [
    "#### Karate Graph"
   ]
  },
  {
   "cell_type": "markdown",
   "metadata": {
    "id": "ONgfFnXhwFiO"
   },
   "source": [
    "Data source\n",
    "* [cuGraph 22.06 Datasets](https://github.com/rapidsai/cugraph/blob/branch-22.06/datasets/karate.csv)\n",
    "\n",
    "Package methods used\n",
    "* `adbcug_adapter.adapter.cugraph_to_arangodb()`\n",
    "\n",
    "Important notes\n",
    "* A custom `ADBCUG Controller` is **not** required here. This is because the karate graph only has 1 vertex collection (`karateka`), and 1 edge collection (`knows`). See the edge definitions below"
   ]
  },
  {
   "cell_type": "code",
   "execution_count": null,
   "metadata": {
    "colab": {
     "base_uri": "https://localhost:8080/"
    },
    "id": "ol6_sp9r_OZq",
    "outputId": "4676a7fb-a1c3-429a-abc0-6779cbbed6b5"
   },
   "outputs": [],
   "source": [
    "# Fetch Karate Club data\n",
    "!wget https://raw.githubusercontent.com/rapidsai/cugraph/branch-22.06/datasets/karate.csv"
   ]
  },
  {
   "cell_type": "code",
   "execution_count": null,
   "metadata": {
    "colab": {
     "base_uri": "https://localhost:8080/",
     "height": 240,
     "referenced_widgets": [
      "5dae95a91b614a07acbee04cfb26c6dc",
      "bef23315fcf2457e90ba64f41c58e9fd",
      "2721acff0049420283a24e4daaaec412",
      "18e7cd5055754b29b6e71bf8e272174c"
     ]
    },
    "id": "Jn9vgpeFwFiO",
    "outputId": "43253189-b1af-47a8-bf54-c36bbb804562"
   },
   "outputs": [],
   "source": [
    "dataframe = cudf.read_csv(\"karate.csv\", delimiter=' ', names=['src', 'dst'], dtype=['int32', 'int32'] )\n",
    "\n",
    "# Create the cuGraph graph\n",
    "cug_graph = cugraph.Graph()\n",
    "cug_graph.from_cudf_edgelist(dataframe, source='src', destination='dst')\n",
    "\n",
    "# Specify ArangoDB edge definitions\n",
    "edge_definitions = [\n",
    "    {\n",
    "        \"edge_collection\": \"knows\",\n",
    "        \"from_vertex_collections\": [\"karateka\"],\n",
    "        \"to_vertex_collections\": [\"karateka\"],\n",
    "    }\n",
    "]\n",
    "\n",
    "name = \"KarateClubGraph\"\n",
    "\n",
    "# Delete the graph if it already exists\n",
    "db.delete_graph(name, drop_collections=True, ignore_missing=True)\n",
    "\n",
    "# Create the ArangoDB graph from cuGraph\n",
    "adb_graph = adbcug_adapter.cugraph_to_arangodb(name, cug_graph, edge_definitions)\n",
    "\n",
    "# Print info\n",
    "print_adb_info(con, adb_graph)"
   ]
  },
  {
   "cell_type": "markdown",
   "metadata": {
    "id": "KLUw5iarn7eh"
   },
   "source": [
    "#### Divisibility Graph"
   ]
  },
  {
   "cell_type": "markdown",
   "metadata": {
    "id": "b3I3uHQtoFbt"
   },
   "source": [
    "Data source\n",
    "* No source\n",
    "\n",
    "Package methods used\n",
    "* `adbcug_adapter.adapter.cugraph_to_arangodb()`\n",
    "\n",
    "Important notes\n",
    "* Even if this graph has more than 1 vertex collection, a custom `ADBCUG Controller` is still **not** required here. This is because the cuGraph Node IDs are already formatted to ArangoDB standard, so the default ADBCUG Controller will take care of node identification (see [`_identify_cugraph_node()`](https://github.com/arangoml/cugraph-adapter/blob/master/adbcug_adapter/controller.py))"
   ]
  },
  {
   "cell_type": "code",
   "execution_count": null,
   "metadata": {
    "colab": {
     "base_uri": "https://localhost:8080/",
     "height": 240,
     "referenced_widgets": [
      "2502d61c379a4cd5b87c06d7f9aba805",
      "a3613a36c1254e508f4ce16d45fae41d",
      "a225e73e441a42d88c5bc10fbca4a7a3",
      "3b0da8bfb55a4ec0a86697ea87a7ea80"
     ]
    },
    "id": "Pdx2r_AtoSWF",
    "outputId": "35ef40df-86c9-47ad-90e3-3909cb0b68ca"
   },
   "outputs": [],
   "source": [
    "# Create the cuGraph graph\n",
    "cug_graph = cugraph.MultiGraph(directed=True)\n",
    "cug_graph.from_cudf_edgelist(\n",
    "    cudf.DataFrame(\n",
    "        [\n",
    "            (j, i, j / i)\n",
    "            for i in range(1, 101)\n",
    "            for j in range(1, 101)\n",
    "            if j % i == 0\n",
    "        ],\n",
    "        columns=[\"src\", \"dst\", \"quotient\"],\n",
    "    ),\n",
    "    source=\"src\",\n",
    "    destination=\"dst\",\n",
    "    edge_attr=\"quotient\",\n",
    "    renumber=False\n",
    ")\n",
    "\n",
    "# Specify ArangoDB edge definitions\n",
    "edge_definitions = [\n",
    "    {\n",
    "        \"edge_collection\": \"is_divisible_by\",\n",
    "        \"from_vertex_collections\": [\"numbers\"],\n",
    "        \"to_vertex_collections\": [\"numbers\"],\n",
    "    }\n",
    "]\n",
    "\n",
    "name = \"DivisibilityGraph\"\n",
    "\n",
    "# Delete the graph if it already exists\n",
    "db.delete_graph(name, drop_collections=True, ignore_missing=True)\n",
    "\n",
    "# Create ArangoDB graph from cuGraph\n",
    "adb_graph = adbcug_adapter.cugraph_to_arangodb(name, cug_graph, edge_definitions, edge_attr=\"quotient\")\n",
    "\n",
    "print_adb_info(con, adb_graph)"
   ]
  },
  {
   "cell_type": "markdown",
   "metadata": {
    "id": "nuVoCZQv6oyi"
   },
   "source": [
    "#### School Graph with a custom ADBCUG_Controller"
   ]
  },
  {
   "cell_type": "markdown",
   "metadata": {
    "id": "zPv3BgWt6wEd"
   },
   "source": [
    "Data source\n",
    "* No source\n",
    "\n",
    "Package methods used\n",
    "* [`adbcug_adapter.adapter.cugraph_to_arangodb()`](https://github.com/arangoml/cugraph-adapter/blob/master/adbcug_adapter/adapter.py)\n",
    "\n",
    "Important notes\n",
    "* Here we demonstrate the functionality of having a custom `ADBCUG_Controller`, that overrides the [default ADBCUG_Controller](https://github.com/arangoml/cugraph-adapter/blob/master/adbcug_adapter/controller.py).\n",
    "* Recall that a custom ADBCUG Controller for `cuGraph --> ArangoDB` functionality is almost always needed, at the exception of Homogeneous graphs, and graphs where the node IDs are already formatted to the ArangoDB vertex ID standard (i.e `collection/_key`)"
   ]
  },
  {
   "cell_type": "code",
   "execution_count": null,
   "metadata": {
    "colab": {
     "base_uri": "https://localhost:8080/",
     "height": 291,
     "referenced_widgets": [
      "5e8fe82f999d41e497b2f914001f7e95",
      "e6ba4730df1d41c29f9c95fe033fd448",
      "f100f20f3e4d418b91bca1ef1c7bae4c",
      "3bacbcf6481a4e28bdb4a73a8880708f"
     ]
    },
    "id": "oiToiEJ19ZVx",
    "outputId": "9fbef104-3752-4f96-cb05-5627095fd302"
   },
   "outputs": [],
   "source": [
    "# Load some arbitary data\n",
    "df = cudf.DataFrame(\n",
    "  [\n",
    "   ('student:101', 'lecture:101'),\n",
    "   ('student:102', 'lecture:102'),\n",
    "   ('student:103', 'lecture:103'),\n",
    "   ('student:103', 'student:101'),\n",
    "   ('student:103', 'student:102'),\n",
    "   ('teacher:101', 'lecture:101'),\n",
    "   ('teacher:102', 'lecture:102'),\n",
    "   ('teacher:103', 'lecture:103'),\n",
    "   ('teacher:101', 'teacher:102'),\n",
    "   ('teacher:102', 'teacher:103')\n",
    "  ],\n",
    "  columns=['src', 'dst']\n",
    ")\n",
    "\n",
    "# Create the cuGraph graph\n",
    "cug_graph = cugraph.MultiGraph(directed=True)\n",
    "cug_graph.from_cudf_edgelist(df, source='src', destination='dst')\n",
    "\n",
    "# Specify ArangoDB edge definitions\n",
    "edge_definitions = [\n",
    "    {\n",
    "        \"edge_collection\": \"attends\",\n",
    "        \"from_vertex_collections\": [\"student\"],\n",
    "        \"to_vertex_collections\": [\"lecture\"],\n",
    "    },\n",
    "    {\n",
    "        \"edge_collection\": \"classmate\",\n",
    "        \"from_vertex_collections\": [\"student\"],\n",
    "        \"to_vertex_collections\": [\"student\"],\n",
    "    },\n",
    "    {\n",
    "        \"edge_collection\": \"teaches\",\n",
    "        \"from_vertex_collections\": [\"teacher\"],\n",
    "        \"to_vertex_collections\": [\"lecture\"],\n",
    "    },\n",
    "    {\n",
    "        \"edge_collection\": \"colleague\",\n",
    "        \"from_vertex_collections\": [\"teacher\"],\n",
    "        \"to_vertex_collections\": [\"teacher\"],\n",
    "    }\n",
    "]\n",
    "\n",
    "\n",
    "# Given our graph is heterogeneous, and has a non-ArangoDB way of\n",
    "# formatting its Node IDs, we must derive a custom ABCCUG Controller\n",
    "# to handle this behavior.\n",
    "class Custom_ADBCUG_Controller(ADBCUG_Controller):\n",
    "  \"\"\"ArangoDB-cuGraph controller.\n",
    "\n",
    "  Responsible for controlling how nodes & edges are handled when\n",
    "  transitioning from ArangoDB to cuGraph.\n",
    "\n",
    "  You can derive your own custom ADBCUG_Controller.\n",
    "  \"\"\"\n",
    "\n",
    "  def _identify_cugraph_node(self, cug_node_id: CUGId, adb_v_cols: List[str]) -> str:\n",
    "    \"\"\"Given a cuGraph node, and a list of ArangoDB vertex collections defined,\n",
    "    identify which ArangoDB vertex collection **cug_node_id** should belong to.\n",
    "\n",
    "    NOTE: You must override this function if len(**adb_v_cols**) > 1.\n",
    "\n",
    "    :param cug_node_id: The cuGraph ID of the node.\n",
    "    :type cug_node_id: adbcug_adapter.typings.CUGId\n",
    "    :param adb_v_cols: All ArangoDB vertex collections specified\n",
    "        by the **edge_definitions** parameter of cugraph_to_arangodb()\n",
    "    :type adb_v_cols: List[str]\n",
    "    :return: The ArangoDB collection name\n",
    "    :rtype: str\n",
    "    \"\"\"\n",
    "    return str(cug_node_id).split(\":\")[0] # Identify node based on ':' split\n",
    "\n",
    "  def _identify_cugraph_edge(\n",
    "    self,\n",
    "    from_node_id: CUGId,\n",
    "    to_node_id: CUGId,\n",
    "    cug_map: Dict[CUGId, str],\n",
    "    adb_e_cols: List[str],\n",
    ") -> str:\n",
    "    \"\"\"Given a pair of connected cuGraph nodes, and a list of ArangoDB\n",
    "    edge collections defined, identify which ArangoDB edge collection it\n",
    "    should belong to.\n",
    "\n",
    "    NOTE #1: You must override this function if len(**adb_e_cols**) > 1.\n",
    "\n",
    "    NOTE #2: You can use **cug_map** to derive the ArangoDB _from and _to values\n",
    "    of the edge. i.e, `cug_map[from_node_id]` will give you the ArangoDB _from\n",
    "    value, and `cug_map[to_node_id]` will give you the ArangoDB _to value.\n",
    "\n",
    "    :param from_node_id: The ID of the cuGraph node representing the edge source.\n",
    "    :type from_node_id: adbcug_adapter.typings.CUGId\n",
    "    :param to_node_id: The ID of the cuGraph node representing the edge destination.\n",
    "    :type to_node_id: adbcug_adapter.typings.CUGId\n",
    "    :param cug_map: A mapping of cuGraph node ids to ArangoDB vertex ids. You\n",
    "        can use this to derive the ArangoDB _from and _to values of the edge.\n",
    "        i.e, `cug_map[from_node_id]` will give you the ArangoDB _from value,\n",
    "        and `cug_map[to_node_id]` will give you the ArangoDB _to value.\n",
    "    :type cug_map: Dict[CUGId, str]\n",
    "    :param adb_e_cols: All ArangoDB edge collections specified\n",
    "        by the **edge_definitions** parameter of\n",
    "        ADBCUG_Adapter.cugraph_to_arangodb()\n",
    "    :type adb_e_cols: List[str]\n",
    "    :param cug_map: The mapping of cuGraph node IDs to ArangoDB vertex IDs.\n",
    "    :type cug_map: Dict[CUGId, str]\n",
    "    :return: The ArangoDB collection name\n",
    "    :rtype: str\n",
    "    \"\"\"\n",
    "    from_col = cug_map[from_node_id].split(\"/\")[0] # From node collection\n",
    "    to_col = cug_map[to_node_id].split(\"/\")[0] # To node collection\n",
    "\n",
    "\n",
    "    if (from_col, to_col) == (\"student\", \"lecture\"):\n",
    "      return \"attends\"\n",
    "    elif (from_col, to_col) == (\"student\", \"student\"):\n",
    "      return \"classmate\"\n",
    "    elif (from_col, to_col) == (\"teacher\", \"lecture\"):\n",
    "      return \"teaches\"\n",
    "    elif (from_col, to_col) == (\"teacher\", \"teacher\"):\n",
    "      return \"colleague\"\n",
    "    else:\n",
    "      raise ValueError(f\"Unknown edge relationship between {from_node_id} and {to_node_id}\")\n",
    "\n",
    "  def _keyify_cugraph_node(self, i: int, cug_node_id: CUGId, col: str) -> str:\n",
    "    \"\"\"Given a cuGraph node, derive its valid ArangoDB key.\n",
    "\n",
    "    NOTE: You must override this function if you want to create custom ArangoDB\n",
    "    _key values for your NetworkX nodes.\n",
    "\n",
    "    :param i: The index of the NetworkX node in the list of nodes.\n",
    "    :type i: int\n",
    "    :param cug_node_id: The cuGraph node id.\n",
    "    :type cug_node_id: adbcug_adapter.typings.CUGId\n",
    "    :param col: The ArangoDB collection that **cug_node_id** belongs to.\n",
    "    :type col: str\n",
    "    :return: A valid ArangoDB _key value.\n",
    "    :rtype: str\n",
    "    \"\"\"\n",
    "    return str(cug_node_id).split(\":\")[1] # Keyify node based on ':' split\n",
    "\n",
    "\n",
    "# Instantiate the adapter\n",
    "custom_adbcug_adapter = ADBCUG_Adapter(db, Custom_ADBCUG_Controller())\n",
    "\n",
    "# Create the ArangoDB graph\n",
    "name = \"SchoolGraph\"\n",
    "db.delete_graph(name, drop_collections=True, ignore_missing=True)\n",
    "adb_g = custom_adbcug_adapter.cugraph_to_arangodb(name, cug_graph, edge_definitions)\n",
    "\n",
    "print_adb_info(con, name)"
   ]
  }
 ],
 "metadata": {
  "accelerator": "GPU",
  "colab": {
   "collapsed_sections": [
    "lRmEM5eaQxJ5"
   ],
   "gpuType": "T4",
   "provenance": []
  },
  "kernelspec": {
   "display_name": "Python 3",
   "name": "python3"
  },
  "language_info": {
   "codemirror_mode": {
    "name": "ipython",
    "version": 3
   },
   "file_extension": ".py",
   "mimetype": "text/x-python",
   "name": "python",
   "nbconvert_exporter": "python",
   "pygments_lexer": "ipython3",
   "version": "3.7.6"
  }
 },
 "nbformat": 4,
 "nbformat_minor": 0
}
