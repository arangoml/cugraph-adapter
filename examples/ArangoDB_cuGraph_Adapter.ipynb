{
 "cells": [
  {
   "attachments": {},
   "cell_type": "markdown",
   "metadata": {
    "id": "q8KesL7xeG89"
   },
   "source": [
    "# ArangoDB cuGraph Adapter Getting Started Guide  "
   ]
  },
  {
   "attachments": {},
   "cell_type": "markdown",
   "metadata": {
    "id": "U1d45V4OeG89"
   },
   "source": [
    "<a href=\"https://colab.research.google.com/github/arangoml/cugraph-adapter/blob/master/examples/ArangoDB_cuGraph_Adapter.ipynb\" target=\"_parent\"><img src=\"https://colab.research.google.com/assets/colab-badge.svg\" alt=\"Open In Colab\"/></a>"
   ]
  },
  {
   "attachments": {},
   "cell_type": "markdown",
   "metadata": {
    "id": "Nx9aa3LAeG89"
   },
   "source": [
    "![arangodb](https://github.com/arangoml/cugraph-adapter/blob/master/examples/assets/logos/ArangoDB_logo.png?raw=1)\n",
    "<a href=\"https://github.com/rapidsai/cugraph\" rel=\"github.com/rapidsai/cugraph\"><img src=\"https://github.com/arangoml/cugraph-adapter/blob/master/examples/assets/logos/rapids_logo.png?raw=1\" width=30% height=30%></a>"
   ]
  },
  {
   "attachments": {},
   "cell_type": "markdown",
   "metadata": {
    "id": "bpvZS-1aeG89"
   },
   "source": [
    "Export Graphs from [ArangoDB](https://www.arangodb.com/), a multi-model Graph Database, to [cuGraph](https://github.com/rapidsai/cugraph), a library of collective GPU-accelerated graph algorithms.\n",
    "\n",
    "\n",
    "⚠️ The `Run all` option will not work in this notebook. ⚠️"
   ]
  },
  {
   "attachments": {},
   "cell_type": "markdown",
   "metadata": {
    "id": "1rmQxwWC1_VR"
   },
   "source": [
    "# Environment Sanity Check\n",
    "\n"
   ]
  },
  {
   "attachments": {},
   "cell_type": "markdown",
   "metadata": {
    "id": "v9AlrewS2LhM"
   },
   "source": [
    "This notebook requires a Tesla T4, P4, or P100 GPU.\n",
    "1. Open the <u>Runtime</u> dropdown\n",
    "2. Click on <u>Change Runtime Type</u>\n",
    "3. Set <u>Hardware accelerator</u> to GPU\n",
    "4. Re-connect to runtime\n",
    "\n",
    "Check the output of `!nvidia-smi -L` to make sure you've been allocated a Tesla T4, P4, or P100. If not, you can rely on the _Disconnect and delete runtime_ option to repeat the process & try again (unfortunately this is the only option)."
   ]
  },
  {
   "cell_type": "code",
   "execution_count": null,
   "metadata": {
    "colab": {
     "base_uri": "https://localhost:8080/"
    },
    "id": "z22Ut7DU2BH2",
    "outputId": "7a66e707-9db5-4c28-a6ff-fe33b0854350"
   },
   "outputs": [],
   "source": [
    "!nvidia-smi -L # T4, P4, or P100 is required"
   ]
  },
  {
   "attachments": {},
   "cell_type": "markdown",
   "metadata": {
    "id": "KS9c-vE5eG89"
   },
   "source": [
    "# Setup\n",
    "Est Time: 5 minutes"
   ]
  },
  {
   "cell_type": "code",
   "execution_count": null,
   "metadata": {
    "id": "fUnFAFAheG89"
   },
   "outputs": [],
   "source": [
    "# This get the RAPIDS-Colab install files and test check your GPU.  Run this and the next cell only.\n",
    "# Please read the output of this cell.  If your Colab Instance is not RAPIDS compatible, it will warn you and give you remediation steps.\n",
    "!git clone https://github.com/rapidsai/rapidsai-csp-utils.git\n",
    "!python rapidsai-csp-utils/colab/pip-install.py"
   ]
  },
  {
   "cell_type": "code",
   "execution_count": null,
   "metadata": {
    "id": "32t5ZOx-27bD"
   },
   "outputs": [],
   "source": [
    "# Install the cugraph-adapter & adb-cloud-connector\n",
    "!pip install git+https://github.com/arangoml/cugraph-adapter.git@housekeeping\n",
    "!pip install adb-cloud-connector\n",
    "!git clone -b housekeeping --single-branch https://github.com/arangoml/cugraph-adapter.git"
   ]
  },
  {
   "cell_type": "code",
   "execution_count": null,
   "metadata": {
    "id": "J3eGVQLRhulA"
   },
   "outputs": [],
   "source": [
    "# All imports\n",
    "import cudf\n",
    "import cugraph\n",
    "\n",
    "from adbcug_adapter import ADBCUG_Adapter, ADBCUG_Controller\n",
    "from adbcug_adapter.typings import CUGId, Json\n",
    "\n",
    "from arango import ArangoClient\n",
    "from adb_cloud_connector import get_temp_credentials\n",
    "\n",
    "import json\n",
    "import logging\n",
    "import io, requests\n",
    "from typing import List, Optional, Any"
   ]
  },
  {
   "attachments": {},
   "cell_type": "markdown",
   "metadata": {
    "id": "lRmEM5eaQxJ5"
   },
   "source": [
    "# Understanding cuGraph & cuDF\n",
    "\n",
    "(referenced from [docs.rapids.ai](https://docs.rapids.ai/))"
   ]
  },
  {
   "attachments": {},
   "cell_type": "markdown",
   "metadata": {
    "id": "42wigq2hYu1w"
   },
   "source": [
    "RAPIDS cuGraph is a library of graph algorithms that seamlessly integrates into the RAPIDS data science ecosystem and allows the data scientist to easily call graph algorithms using data stored in GPU DataFrames, NetworkX Graphs, or even CuPy or SciPy sparse Matrices.\n",
    "\n",
    "\n",
    "Here is an example of creating a simple weighted graph:"
   ]
  },
  {
   "cell_type": "code",
   "execution_count": null,
   "metadata": {
    "id": "6TlQ9oerV_kj"
   },
   "outputs": [],
   "source": [
    "cug_graph = cugraph.Graph()\n",
    "\n",
    "df = cudf.DataFrame(\n",
    "  [('a', 'b', 5), ('a', 'c', 1), ('a', 'd', 4), ('b', 'c', 3), ('c', 'd', 2)],\n",
    "  columns=['src', 'dst', 'weight']\n",
    ")\n",
    "\n",
    "cug_graph.from_cudf_edgelist(\n",
    "    df,\n",
    "    source='src',\n",
    "    destination='dst',\n",
    "    edge_attr='weight'\n",
    ")\n",
    "\n",
    "print('\\n--------------------')\n",
    "print(cug_graph.nodes())\n",
    "print('\\n--------------------')\n",
    "print(cug_graph.edges())"
   ]
  },
  {
   "attachments": {},
   "cell_type": "markdown",
   "metadata": {
    "id": "MZvrkW4v35mq"
   },
   "source": [
    "RAPIDS cuDF is a GPU DataFrame library for loading, joining, aggregating, filtering, and otherwise manipulating data. It provides a pandas-like API that will be familiar to data engineers & data scientists, so they can use it to easily accelerate their workflows without going into the details of CUDA programming.\n",
    "\n",
    "For example, the following snippet downloads a CSV, then uses the GPU to parse it into rows and columns and run calculations:"
   ]
  },
  {
   "cell_type": "code",
   "execution_count": null,
   "metadata": {
    "id": "zMpjZ7vDTATD"
   },
   "outputs": [],
   "source": [
    "# Load a dataset into a GPU memory resident DataFrame and perform a basic calculation.\n",
    "# Everything from CSV parsing to calculating tip percentage and computing a grouped average is done on the GPU.\n",
    "\n",
    "# download CSV file from GitHub\n",
    "url = \"https://github.com/plotly/datasets/raw/master/tips.csv\"\n",
    "content = requests.get(url).content.decode('utf-8')\n",
    "\n",
    "tips_df = cudf.read_csv(io.StringIO(content))\n",
    "tips_df['tip_percentage'] = tips_df['tip'] / tips_df['total_bill'] * 100\n",
    "\n",
    "# display average tip by dining party size\n",
    "print(tips_df.groupby('size').tip_percentage.mean())"
   ]
  },
  {
   "attachments": {},
   "cell_type": "markdown",
   "metadata": {
    "id": "JEjYyQi-4i6c"
   },
   "source": [
    "The following snippet loads data into a cuGraph graph and computes PageRank:"
   ]
  },
  {
   "cell_type": "code",
   "execution_count": null,
   "metadata": {
    "id": "MQ3TfRSg4m_H"
   },
   "outputs": [],
   "source": [
    "from cugraph.experimental.datasets import karate\n",
    "\n",
    "# Load Karate Graph\n",
    "G = karate.get_graph(fetch=True)\n",
    "\n",
    "# Let's now get the PageRank score of each vertex by calling cugraph.pagerank\n",
    "df_page = cugraph.pagerank(G)\n",
    "\n",
    "# Let's look at the top 10 PageRank Score\n",
    "df_page.sort_values('pagerank', ascending=False).head(10)"
   ]
  },
  {
   "attachments": {},
   "cell_type": "markdown",
   "metadata": {
    "id": "Oc__NAd1eG8-"
   },
   "source": [
    "# Create a Temporary ArangoDB Cloud Instance"
   ]
  },
  {
   "cell_type": "code",
   "execution_count": null,
   "metadata": {
    "id": "2ekGwnJDeG8-"
   },
   "outputs": [],
   "source": [
    "# Request temporary instance from the managed ArangoDB Cloud Service.\n",
    "con = get_temp_credentials()\n",
    "print(json.dumps(con, indent=2))\n",
    "\n",
    "# Connect to the instance via the python-arango driver\n",
    "db = ArangoClient(hosts=con[\"url\"]).db(con[\"dbName\"], con[\"username\"], con[\"password\"], verify=True)"
   ]
  },
  {
   "attachments": {},
   "cell_type": "markdown",
   "metadata": {
    "id": "e4QfL37neG8_"
   },
   "source": [
    "Feel free to use the above URL to check out the UI!"
   ]
  },
  {
   "attachments": {},
   "cell_type": "markdown",
   "metadata": {
    "id": "7y81WHO8eG8_"
   },
   "source": [
    "# Import Sample Data"
   ]
  },
  {
   "attachments": {},
   "cell_type": "markdown",
   "metadata": {
    "id": "BM0iRYPDeG8_"
   },
   "source": [
    "For demo purposes, we will be using the [ArangoDB Fraud Detection example graph](https://colab.research.google.com/github/joerg84/Graph_Powered_ML_Workshop/blob/master/Fraud_Detection.ipynb), and the [ArangoDB IMDB Dataset](https://github.com/arangodb/example-datasets/tree/master/Graphs/IMDB)."
   ]
  },
  {
   "cell_type": "code",
   "execution_count": null,
   "metadata": {
    "id": "j-dlG45B26kD"
   },
   "outputs": [],
   "source": [
    "import locale\n",
    "locale.getpreferredencoding = lambda: \"UTF-8\""
   ]
  },
  {
   "cell_type": "code",
   "execution_count": null,
   "metadata": {
    "id": "7bgGJ3QkeG8_"
   },
   "outputs": [],
   "source": [
    "!chmod -R 755 cugraph-adapter/\n",
    "!./cugraph-adapter/tests/assets/arangorestore -c none --server.endpoint http+ssl://{con[\"hostname\"]}:{con[\"port\"]} --server.username {con[\"username\"]} --server.database {con[\"dbName\"]} --server.password {con[\"password\"]} --replication-factor 3  --input-directory \"cugraph-adapter/examples/data/fraud_dump\" --include-system-collections true\n",
    "!./cugraph-adapter/tests/assets/arangorestore -c none --server.endpoint http+ssl://{con[\"hostname\"]}:{con[\"port\"]} --server.username {con[\"username\"]} --server.database {con[\"dbName\"]} --server.password {con[\"password\"]} --replication-factor 3  --input-directory \"cugraph-adapter/examples/data/imdb_dump\" --include-system-collections true"
   ]
  },
  {
   "attachments": {},
   "cell_type": "markdown",
   "metadata": {
    "id": "QfE_tKxneG9A"
   },
   "source": [
    "# Instantiate the Adapter"
   ]
  },
  {
   "attachments": {},
   "cell_type": "markdown",
   "metadata": {
    "id": "kGfhzPT9eG9A"
   },
   "source": [
    "Connect the ArangoDB-cuGraph Adapter to our database client:"
   ]
  },
  {
   "cell_type": "code",
   "execution_count": null,
   "metadata": {
    "id": "raaZQC-qoM30"
   },
   "outputs": [],
   "source": [
    "adbcug = ADBCUG_Adapter(db)"
   ]
  },
  {
   "attachments": {},
   "cell_type": "markdown",
   "metadata": {
    "id": "uByvwf9feG9A"
   },
   "source": [
    "# <u>ArangoDB to cuGraph</u>\n",
    "\n"
   ]
  },
  {
   "attachments": {},
   "cell_type": "markdown",
   "metadata": {
    "id": "ZrEDmtqCVD0W"
   },
   "source": [
    "#### Via ArangoDB Graph Name"
   ]
  },
  {
   "attachments": {},
   "cell_type": "markdown",
   "metadata": {
    "id": "oIJE69k8XERE"
   },
   "source": [
    "Data source\n",
    "* ArangoDB Fraud-Detection Graph\n",
    "\n",
    "Package methods used\n",
    "* [`adbcug_adapter.adapter.arangodb_graph_to_cugraph()`](https://github.com/arangoml/cugraph-adapter/blob/master/adbcug_adapter/adapter.py)\n",
    "\n",
    "Important notes\n",
    "* The graph `name` must point to an existing ArangoDB graph\n",
    "* cuGraph does not support node or edge attributes (apart from edge weight)\n",
    "* If an ArangoDB edge has an attribute named `weight`, its value will be transferred over to the cuGraph graph. Otherwise, the cuGraph edge weight will default to `0`."
   ]
  },
  {
   "cell_type": "code",
   "execution_count": null,
   "metadata": {
    "colab": {
     "base_uri": "https://localhost:8080/",
     "height": 636,
     "referenced_widgets": [
      "8cce5db2ec344cde9f4bfa782cb68370",
      "ecae1de7877d472ca2313759e0481ff9",
      "72de1b751b4a49a9bcb5a23e4034f44e",
      "b6d0c8536e0c4c0d94e630c506601b9a",
      "5c88604ea3194332b30d296db21178db",
      "6ad14edfa47a4d1fb164975f728506f5",
      "a87d68c380534c56a716fcacab94a252",
      "35e36d781c3f4f8bbcc523e19486fafb",
      "b89d37e87c3641aaab6c683d85c9ec3d",
      "5342bddd06ba476986455d4dc15ef148",
      "1dd79bbc7e234a1e89eebd3b9b9d3760",
      "d493265abf7d47be93caabcb5151a845",
      "c84013a784a34741a198b25700459d6a",
      "85023d92ce6f42528aa54d333218b2c0",
      "3cba9cbdfe16458eb59f901c35042bc8",
      "1e0663b968544e96a3941f3e04a12f65"
     ]
    },
    "id": "zZ-Hu3lLVHgd",
    "outputId": "17c31bf8-1ac8-4f30-a8d8-12a80178dc4d"
   },
   "outputs": [],
   "source": [
    "# Define graph name\n",
    "graph_name = \"fraud-detection\"\n",
    "\n",
    "# Create cuGraph graph from ArangoDB graph name\n",
    "cug_graph = adbcug.arangodb_graph_to_cugraph(graph_name)\n",
    "\n",
    "# You can also provide valid Python-Arango AQL query options to the command above, like such:\n",
    "# cug_graph = adbcug_adapter.arangodb_graph_to_cugraph(graph_name, ttl=1000, stream=True)\n",
    "# See the full parameter list at https://docs.python-arango.com/en/main/specs.html#arango.aql.AQL.execute\n",
    "\n",
    "# Show graph data\n",
    "print('\\n--------------------')\n",
    "print(cug_graph.nodes())\n",
    "print('\\n--------------------')\n",
    "print(cug_graph.edges())"
   ]
  },
  {
   "attachments": {},
   "cell_type": "markdown",
   "metadata": {
    "id": "RQ4CknYfUEuz"
   },
   "source": [
    "#### Via ArangoDB Collection Names"
   ]
  },
  {
   "attachments": {},
   "cell_type": "markdown",
   "metadata": {
    "id": "wVCEdRB8YdLW"
   },
   "source": [
    "Data source\n",
    "* ArangoDB Fraud-Detection Collections\n",
    "\n",
    "Package methods used\n",
    "* [`adbcug_adapter.adapter.arangodb_collections_to_cugraph()`](https://github.com/arangoml/cugraph-adapter/blob/master/adbcug_adapter/adapter.py)\n",
    "\n",
    "Important notes\n",
    "* The `vertex_collections` & `edge_collections` parameters must point to existing ArangoDB collections within your ArangoDB instance.\n",
    "* cuGraph does not support node or edge attributes (apart from edge weight)\n",
    "* If an ArangoDB edge has an attribute named `weight`, its value will be transferred over to the cuGraph graph. Otherwise, the cuGraph edge weight will default to `0`."
   ]
  },
  {
   "cell_type": "code",
   "execution_count": null,
   "metadata": {
    "id": "i4XOpdRLUNlJ"
   },
   "outputs": [],
   "source": [
    "# Define collection\n",
    "vertex_collections = {\"account\", \"bank\", \"branch\", \"Class\", \"customer\"}\n",
    "edge_collections = {\"accountHolder\", \"Relationship\", \"transaction\"}\n",
    "\n",
    "# Create NetworkX graph from ArangoDB collections\n",
    "cug_graph = adbcug.arangodb_collections_to_cugraph(\"fraud-detection\", vertex_collections, edge_collections)\n",
    "\n",
    "# You can also provide valid Python-Arango AQL query options to the command above, like such:\n",
    "# cug_graph = adbcug_adapter.arangodb_collections_to_cugraph, ttl=1000, stream=True)\n",
    "# See the full parameter list at https://docs.python-arango.com/en/main/specs.html#arango.aql.AQL.execute\n",
    "\n",
    "# Show graph data\n",
    "print('\\n--------------------')\n",
    "print(cug_graph.nodes())\n",
    "print('\\n--------------------')\n",
    "print(cug_graph.edges())"
   ]
  },
  {
   "attachments": {},
   "cell_type": "markdown",
   "metadata": {
    "id": "tWU1YW9AViTA"
   },
   "source": [
    "#### Via ArangoDB Graph Name with a custom ADBCUG_Controller & verbose logging"
   ]
  },
  {
   "attachments": {},
   "cell_type": "markdown",
   "metadata": {
    "id": "sjtWpTDbZpLq"
   },
   "source": [
    "Data source\n",
    "* ArangoDB Fraud-Detection Collections\n",
    "\n",
    "Package methods used\n",
    "* [`adbcug_adapter.adapter.arangodb_graph_to_cugraph()`](https://github.com/arangoml/cugraph-adapter/blob/master/adbcug_adapter/adapter.py)\n",
    "* [`adbcug_adapter.controller._prepare_arangodb_vertex()`](https://github.com/arangoml/cugraph-adapter/blob/master/adbcug_adapter/controller.py)\n",
    "\n",
    "Important notes\n",
    "* We are creating a custom `ADBCUG_Controller` to specify *how* to convert our ArangoDB vertex IDs into cuGraph node IDs. View the default `ADBCUG_Controller` [here](https://github.com/arangoml/cugraph-adapter/blob/master/adbcug_adapter/controller.py).\n",
    "* Using a custom ADBCUG Controller for `ArangoDB --> cuGraph` is optional. However, a custom ADBCUG Controller for `cuGraph --> ArangoDB` functionality is almost always needed, at the exception of Homogeneous graphs, and graphs where the node IDs are already formatted to the ArangoDB vertex ID standard (i.e `collection/_key`)"
   ]
  },
  {
   "cell_type": "code",
   "execution_count": null,
   "metadata": {
    "colab": {
     "base_uri": "https://localhost:8080/",
     "height": 867,
     "referenced_widgets": [
      "a9e63de4f911480fa6c73e14cb74e514",
      "80256356f101446488a3a47db031e805",
      "47f88c614af548ddbda7b7758f40661a",
      "9068c9ce1375449a9ea5951808ef15e7",
      "ad495991a8d74a3eaa2327b830711cfa",
      "599f2b2cc1194d2ca17d69954d903c0d",
      "10f43c89f6084b4cb4a710d343f18fb0",
      "edfeb3f233bb4058bb06492317199d13"
     ]
    },
    "id": "QqGgOe51Vr85",
    "outputId": "eaa91d7c-14e8-4ce9-ac43-f0e049516893"
   },
   "outputs": [],
   "source": [
    "# Define metagraph\n",
    "graph_name = \"fraud-detection\"\n",
    "\n",
    "class Custom_ADBCUG_Controller(ADBCUG_Controller):\n",
    "    \"\"\"ArangoDB-cuGraph controller.\n",
    "\n",
    "    Responsible for controlling how nodes & edges are handled when\n",
    "    transitioning from ArangoDB to cuGraph.\n",
    "\n",
    "    You can derive your own custom ADBCUG_Controller.\n",
    "    \"\"\"\n",
    "\n",
    "    def _prepare_arangodb_vertex(self, adb_vertex: Json, col: str) -> None:\n",
    "        \"\"\"Prepare an ArangoDB vertex before it gets inserted into the cuGraph\n",
    "        graph.\n",
    "\n",
    "        Given an ArangoDB vertex, you can modify it before it gets inserted\n",
    "        into the cuGraph graph, and/or derive a custom node id for cuGraph\n",
    "        to use by updating the \"_id\" attribute of the vertex (otherwise the\n",
    "        vertex's current \"_id\" value will be used)\n",
    "\n",
    "        :param adb_vertex: The ArangoDB vertex object to (optionally) modify.\n",
    "        :type adb_vertex: adbcug_adapter.typings.Json\n",
    "        :param col: The ArangoDB collection the vertex belongs to.\n",
    "        :type col: str\n",
    "        \"\"\"\n",
    "        # Custom behaviour: Add a \"_new\" prefix to every vertex ID\n",
    "        adb_vertex[\"_id\"] = \"new_\" + adb_vertex[\"_id\"]\n",
    "\n",
    "# Instantiate a new adapter with the custom controller\n",
    "custom_adbcug_adapter = ADBCUG_Adapter(db, controller=Custom_ADBCUG_Controller())\n",
    "\n",
    "# You can also change the adapter's logging level for access to\n",
    "# silent, regular, or verbose logging (logging.WARNING, logging.INFO, logging.DEBUG)\n",
    "custom_adbcug_adapter.set_logging(logging.DEBUG) # verbose logging\n",
    "\n",
    "# Create cuGraph Graph an ArangoDB graph using the custom adapter\n",
    "cug_graph = custom_adbcug_adapter.arangodb_graph_to_cugraph(\"fraud-detection\")\n",
    "\n",
    "# Show graph data\n",
    "print('\\n--------------------')\n",
    "print(cug_graph.nodes())\n",
    "print('\\n--------------------')\n",
    "print(cug_graph.edges())"
   ]
  },
  {
   "attachments": {},
   "cell_type": "markdown",
   "metadata": {
    "id": "XnUEQgPU3_eQ"
   },
   "source": [
    "# <u>cuGraph to ArangoDB</u>"
   ]
  },
  {
   "attachments": {},
   "cell_type": "markdown",
   "metadata": {
    "id": "OX6ksyYJwFiG"
   },
   "source": [
    "#### Karate Graph"
   ]
  },
  {
   "attachments": {},
   "cell_type": "markdown",
   "metadata": {
    "id": "ONgfFnXhwFiO"
   },
   "source": [
    "Data source\n",
    "* [cuGraph 22.06 Datasets](https://github.com/rapidsai/cugraph/blob/branch-22.06/datasets/karate.csv)\n",
    "\n",
    "Package methods used\n",
    "* [`adbcug_adapter.adapter.cugraph_to_arangodb()`](https://github.com/arangoml/cugraph-adapter/blob/master/adbcug_adapter/adapter.py)\n",
    "\n",
    "Important notes\n",
    "* A custom `ADBCUG Controller` is **not** required here. This is because the karate graph only has 1 vertex collection (`karateka`), and 1 edge collection (`knows`). See the edge definitions below"
   ]
  },
  {
   "cell_type": "code",
   "execution_count": null,
   "metadata": {
    "id": "Jn9vgpeFwFiO"
   },
   "outputs": [],
   "source": [
    "from cugraph.experimental.datasets import karate\n",
    "\n",
    "# Load Karate Graph\n",
    "cug_graph = karate.get_graph(fetch=True)\n",
    "\n",
    "# Specify ArangoDB edge definitions\n",
    "edge_definitions = [\n",
    "    {\n",
    "        \"edge_collection\": \"knows\",\n",
    "        \"from_vertex_collections\": [\"karateka\"],\n",
    "        \"to_vertex_collections\": [\"karateka\"],\n",
    "    }\n",
    "]\n",
    "\n",
    "# Create ArangoDB graph from cuGraph\n",
    "name = \"KarateClubGraph\"\n",
    "db.delete_graph(name, drop_collections=True, ignore_missing=True)\n",
    "adb_graph = adbcug.cugraph_to_arangodb(name, cug_graph, edge_definitions)\n",
    "\n",
    "# You can also provide valid Python-Arango Import Bulk options to the command above, like such:\n",
    "# adb_graph = adbcug_adapter.cugraph_to_arangodb(name, cug_graph, edge_definitions, batch_size=5, on_duplicate=\"replace\")\n",
    "# See the full parameter list at https://docs.python-arango.com/en/main/specs.html#arango.collection.Collection.import_bulk\n",
    "\n",
    "print('\\n--------------------')\n",
    "print(\"URL: \" + con[\"url\"])\n",
    "print(\"Username: \" + con[\"username\"])\n",
    "print(\"Password: \" + con[\"password\"])\n",
    "print(\"Database: \" + con[\"dbName\"])\n",
    "print('--------------------\\n')\n",
    "print(f\"View the created graph here: {con['url']}/_db/{con['dbName']}/_admin/aardvark/index.html#graph/{name}\")"
   ]
  },
  {
   "attachments": {},
   "cell_type": "markdown",
   "metadata": {
    "id": "KLUw5iarn7eh"
   },
   "source": [
    "#### Divisibility Graph"
   ]
  },
  {
   "attachments": {},
   "cell_type": "markdown",
   "metadata": {
    "id": "b3I3uHQtoFbt"
   },
   "source": [
    "Data source\n",
    "* No source\n",
    "\n",
    "Package methods used\n",
    "* [`adbcug_adapter.adapter.cugraph_to_arangodb()`](https://github.com/arangoml/cugraph-adapter/blob/master/adbcug_adapter/adapter.py)\n",
    "\n",
    "Important notes\n",
    "* Even if this graph has more than 1 vertex collection, a custom `ADBCUG Controller` is still **not** required here. This is because the cuGraph Node IDs are already formatted to ArangoDB standard, so the default ADBCUG Controller will take care of node identification (see [`_identify_cugraph_node()`](https://github.com/arangoml/cugraph-adapter/blob/master/adbcug_adapter/controller.py))"
   ]
  },
  {
   "cell_type": "code",
   "execution_count": null,
   "metadata": {
    "colab": {
     "base_uri": "https://localhost:8080/"
    },
    "id": "-ypMwQpx2ZqU",
    "outputId": "bfb1fa95-2223-4791-c3e7-c873ca8bd180"
   },
   "outputs": [],
   "source": [
    "from adbcug_adapter.adapter import ADBCUG_Adapter\n",
    "import importlib\n",
    "\n",
    "import sys\n",
    "sys.path.append('/content/cugraph-adapter')  # Update the path if necessary\n",
    "\n",
    "import importlib\n",
    "importlib.reload(sys.modules['adbcug_adapter.adapter'])\n",
    "\n",
    "adbcug = ADBCUG_Adapter(db)"
   ]
  },
  {
   "cell_type": "code",
   "execution_count": null,
   "metadata": {
    "id": "Pdx2r_AtoSWF"
   },
   "outputs": [],
   "source": [
    "# Create the cuGraph graph\n",
    "cug_graph = cugraph.MultiGraph(directed=True)\n",
    "cug_graph.from_cudf_edgelist(\n",
    "    cudf.DataFrame(\n",
    "        [\n",
    "            (f\"numbers_j/{j}\", f\"numbers_i/{i}\", j / i)\n",
    "            for i in range(1, 101)\n",
    "            for j in range(1, 101)\n",
    "            if j % i == 0\n",
    "        ],\n",
    "        columns=[\"src\", \"dst\", \"weight\"],\n",
    "    ),\n",
    "    source=\"src\",\n",
    "    destination=\"dst\",\n",
    "    edge_attr=\"weight\"\n",
    ")\n",
    "\n",
    "# Specify ArangoDB edge definitions\n",
    "edge_definitions = [\n",
    "    {\n",
    "        \"edge_collection\": \"is_divisible_by\",\n",
    "        \"from_vertex_collections\": [\"numbers_j\"],\n",
    "        \"to_vertex_collections\": [\"numbers_i\"],\n",
    "    }\n",
    "]\n",
    "\n",
    "# Create ArangoDB graph from cuGraph\n",
    "name = \"DivisibilityGraph\"\n",
    "db.delete_graph(name, drop_collections=True, ignore_missing=True)\n",
    "adb_graph = adbcug.cugraph_to_arangodb(name, cug_graph, edge_definitions, keyify_nodes=True)\n",
    "\n",
    "\n",
    "print('\\n--------------------')\n",
    "print(\"URL: \" + con[\"url\"])\n",
    "print(\"Username: \" + con[\"username\"])\n",
    "print(\"Password: \" + con[\"password\"])\n",
    "print(\"Database: \" + con[\"dbName\"])\n",
    "print('--------------------\\n')\n",
    "print(f\"View the created graph here: {con['url']}/_db/{con['dbName']}/_admin/aardvark/index.html#graph/{name}\")"
   ]
  },
  {
   "attachments": {},
   "cell_type": "markdown",
   "metadata": {
    "id": "nuVoCZQv6oyi"
   },
   "source": [
    "#### School Graph with a custom ADBCUG_Controller"
   ]
  },
  {
   "attachments": {},
   "cell_type": "markdown",
   "metadata": {
    "id": "zPv3BgWt6wEd"
   },
   "source": [
    "Data source\n",
    "* No source, the graph data is arbitrary\n",
    "\n",
    "Package methods used\n",
    "* [`adbcug_adapter.adapter.cugraph_to_arangodb()`](https://github.com/arangoml/cugraph-adapter/blob/master/adbcug_adapter/adapter.py)\n",
    "\n",
    "Important notes\n",
    "* Here we demonstrate the functionality of having a custom `ADBCUG_Controller`, that overrides the [default ADBCUG_Controller](https://github.com/arangoml/cugraph-adapter/blob/master/adbcug_adapter/controller.py).\n",
    "* Recall that a custom ADBCUG Controller for `cuGraph --> ArangoDB` functionality is almost always needed, at the exception of Homogeneous graphs, and graphs where the node IDs are already formatted to the ArangoDB vertex ID standard (i.e `collection/_key`)"
   ]
  },
  {
   "cell_type": "code",
   "execution_count": null,
   "metadata": {
    "id": "oiToiEJ19ZVx"
   },
   "outputs": [],
   "source": [
    "# Load some arbitary data\n",
    "df = cudf.DataFrame(\n",
    "  [\n",
    "   ('student:101', 'lecture:101'),\n",
    "   ('student:102', 'lecture:102'),\n",
    "   ('student:103', 'lecture:103'),\n",
    "   ('student:103', 'student:101'),\n",
    "   ('student:103', 'student:102'),\n",
    "   ('teacher:101', 'lecture:101'),\n",
    "   ('teacher:102', 'lecture:102'),\n",
    "   ('teacher:103', 'lecture:103'),\n",
    "   ('teacher:101', 'teacher:102'),\n",
    "   ('teacher:102', 'teacher:103')\n",
    "  ],\n",
    "  columns=['src', 'dst']\n",
    ")\n",
    "\n",
    "# Create the cuGraph graph\n",
    "cug_graph = cugraph.MultiGraph(directed=True)\n",
    "cug_graph.from_cudf_edgelist(df, source='src', destination='dst')\n",
    "\n",
    "# Specify ArangoDB edge definitions\n",
    "edge_definitions = [\n",
    "    {\n",
    "        \"edge_collection\": \"attends\",\n",
    "        \"from_vertex_collections\": [\"student\"],\n",
    "        \"to_vertex_collections\": [\"lecture\"],\n",
    "    },\n",
    "    {\n",
    "        \"edge_collection\": \"classmate\",\n",
    "        \"from_vertex_collections\": [\"student\"],\n",
    "        \"to_vertex_collections\": [\"student\"],\n",
    "    },\n",
    "    {\n",
    "        \"edge_collection\": \"teaches\",\n",
    "        \"from_vertex_collections\": [\"teacher\"],\n",
    "        \"to_vertex_collections\": [\"lecture\"],\n",
    "    },\n",
    "    {\n",
    "        \"edge_collection\": \"colleague\",\n",
    "        \"from_vertex_collections\": [\"teacher\"],\n",
    "        \"to_vertex_collections\": [\"teacher\"],\n",
    "    }\n",
    "]\n",
    "\n",
    "\n",
    "# Given our graph is heterogeneous, and has a non-ArangoDB way of\n",
    "# formatting its Node IDs, we must derive a custom ABCCUG Controller\n",
    "# to handle this behavior.\n",
    "class Custom_ADBCUG_Controller(ADBCUG_Controller):\n",
    "  \"\"\"ArangoDB-cuGraph controller.\n",
    "\n",
    "  Responsible for controlling how nodes & edges are handled when\n",
    "  transitioning from ArangoDB to cuGraph.\n",
    "\n",
    "  You can derive your own custom ADBCUG_Controller.\n",
    "  \"\"\"\n",
    "\n",
    "  def _identify_cugraph_node(self, cug_node_id: CUGId, adb_v_cols: List[str]) -> str:\n",
    "    \"\"\"Given a cuGraph node, and a list of ArangoDB vertex collections defined,\n",
    "    identify which ArangoDB vertex collection it should belong to.\n",
    "\n",
    "    NOTE: You must override this function if len(**adb_v_cols**) > 1\n",
    "    OR **cug_node_id* does NOT comply to ArangoDB standards\n",
    "    (i.e \"{collection}/{key}\").\n",
    "\n",
    "    :param cug_node_id: The cuGraph ID of the vertex.\n",
    "    :type cug_node_id: adbcug_adapter.typings.CUGId\n",
    "    :param adb_v_cols: All ArangoDB vertex collections specified\n",
    "        by the **edge_definitions** parameter of cugraph_to_arangodb()\n",
    "    :type adb_v_cols: List[str]\n",
    "    :return: The ArangoDB collection name\n",
    "    :rtype: str\n",
    "    \"\"\"\n",
    "    return str(cug_node_id).split(\":\")[0] # Identify node based on ':' split\n",
    "\n",
    "  def _identify_cugraph_edge(\n",
    "      self,\n",
    "      from_cug_node: Json,\n",
    "      to_cug_node: Json,\n",
    "      adb_e_cols: List[str]\n",
    "  ) -> str:\n",
    "    \"\"\"Given a pair of connected cuGraph nodes, and a list of ArangoDB\n",
    "    edge collections defined, identify which ArangoDB edge collection it\n",
    "    should belong to.\n",
    "\n",
    "    NOTE: You must override this function if len(**adb_e_cols**) > 1.\n",
    "\n",
    "    NOTE #2: The pair of associated cuGraph nodes can be accessed\n",
    "    by the **from_cug_node** & **to_cug_node** parameters, and are guaranteed\n",
    "    to have the following attributes: `{\"cug_id\", \"adb_id\", \"adb_col\", \"adb_key\"}`\n",
    "\n",
    "    :param from_cug_node: The cuGraph node representing the edge source.\n",
    "    :type from_cug_node: adbcug_adapter.typings.Json\n",
    "    :param to_cug_node: The cuGraph node representing the edge destination.\n",
    "    :type to_cug_node: adbcug_adapter.typings.Json\n",
    "    :param adb_e_cols: All ArangoDB edge collections specified\n",
    "        by the **edge_definitions** parameter of\n",
    "        ADBCUG_Adapter.cugraph_to_arangodb()\n",
    "    :type adb_e_cols: List[str]\n",
    "    :return: The ArangoDB collection name\n",
    "    :rtype: str\n",
    "    \"\"\"\n",
    "    from_col = from_cug_node[\"adb_col\"] # From node collection\n",
    "    to_col = to_cug_node[\"adb_col\"] # To node collection\n",
    "\n",
    "    if (from_col, to_col) == (\"student\", \"lecture\"):\n",
    "      return \"attends\"\n",
    "    elif (from_col, to_col) == (\"student\", \"student\"):\n",
    "      return \"classmate\"\n",
    "    elif (from_col, to_col) == (\"teacher\", \"lecture\"):\n",
    "      return \"teaches\"\n",
    "    elif (from_col, to_col) == (\"teacher\", \"teacher\"):\n",
    "      return \"colleague\"\n",
    "    else:\n",
    "      raise ValueError(f\"Unknown edge relationship between {from_cug_node} and {to_cug_node}\")\n",
    "\n",
    "  def _keyify_cugraph_node(self, cug_node_id: CUGId, col: str) -> str:\n",
    "    \"\"\"Given a cuGraph node, derive its valid ArangoDB key.\n",
    "\n",
    "    NOTE: You can override this function if you want to create custom ArangoDB _key\n",
    "    values from your cuGraph nodes. To enable the use of this method, enable the\n",
    "    **keyify_nodes** parameter in ADBCUG_Adapter.cugraph_to_arangodb().\n",
    "\n",
    "    :param cug_node_id: The cuGraph node id.\n",
    "    :type cug_node_id: adbcug_adapter.typings.CUGId\n",
    "    :param col: The ArangoDB collection the vertex belongs to.\n",
    "    :type col: str\n",
    "    :return: A valid ArangoDB _key value.\n",
    "    :rtype: str\n",
    "    \"\"\"\n",
    "    return str(cug_node_id).split(\":\")[1] # Keyify node based on ':' split\n",
    "\n",
    "\n",
    "# Instantiate the adapter\n",
    "custom_adbcug_adapter = ADBCUG_Adapter(db, Custom_ADBCUG_Controller())\n",
    "custom_adbcug_adapter.set_logging(logging.DEBUG) # Update logging to verbose\n",
    "\n",
    "# Create the ArangoDB graph\n",
    "name = \"SchoolGraph\"\n",
    "db.delete_graph(name, drop_collections=True, ignore_missing=True)\n",
    "adb_g = custom_adbcug_adapter.cugraph_to_arangodb(name, cug_graph, edge_definitions, keyify_nodes=True)\n",
    "\n",
    "print('\\n--------------------')\n",
    "print(\"URL: \" + con[\"url\"])\n",
    "print(\"Username: \" + con[\"username\"])\n",
    "print(\"Password: \" + con[\"password\"])\n",
    "print(\"Database: \" + con[\"dbName\"])\n",
    "print('--------------------\\n')\n",
    "print(f\"View the created graph here: {con['url']}/_db/{con['dbName']}/_admin/aardvark/index.html#graph/{name}\")\n"
   ]
  }
 ],
 "metadata": {
  "accelerator": "GPU",
  "colab": {
   "gpuType": "T4",
   "provenance": []
  },
  "kernelspec": {
   "display_name": "Python 3",
   "name": "python3"
  },
  "language_info": {
   "codemirror_mode": {
    "name": "ipython",
    "version": 3
   },
   "file_extension": ".py",
   "mimetype": "text/x-python",
   "name": "python",
   "nbconvert_exporter": "python",
   "pygments_lexer": "ipython3",
   "version": "3.7.6"
  }
 },
 "nbformat": 4,
 "nbformat_minor": 0
}
