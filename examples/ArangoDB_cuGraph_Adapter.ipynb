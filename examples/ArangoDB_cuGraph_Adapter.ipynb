{
 "cells": [
  {
   "cell_type": "markdown",
   "metadata": {
    "id": "q8KesL7xeG89"
   },
   "source": [
    "# ArangoDB cuGraph Adapter Getting Started Guide  "
   ]
  },
  {
   "cell_type": "markdown",
   "metadata": {
    "id": "U1d45V4OeG89"
   },
   "source": [
    "<a href=\"https://colab.research.google.com/github/arangoml/cugraph-adapter/blob/master/examples/ArangoDB_cuGraph_Adapter.ipynb\" target=\"_parent\"><img src=\"https://colab.research.google.com/assets/colab-badge.svg\" alt=\"Open In Colab\"/></a>"
   ]
  },
  {
   "cell_type": "markdown",
   "metadata": {
    "id": "Nx9aa3LAeG89"
   },
   "source": [
    "![arangodb](https://github.com/arangoml/cugraph-adapter/blob/master/examples/assets/logos/ArangoDB_logo.png?raw=1)\n",
    "<a href=\"https://github.com/rapidsai/cugraph\" rel=\"github.com/rapidsai/cugraph\"><img src=\"https://github.com/arangoml/cugraph-adapter/blob/master/examples/assets/logos/rapids_logo.png?raw=1\" width=30% height=30%></a>"
   ]
  },
  {
   "cell_type": "markdown",
   "metadata": {
    "id": "bpvZS-1aeG89"
   },
   "source": [
    "Export Graphs from [ArangoDB](https://www.arangodb.com/), a multi-model Graph Database, to [cuGraph](https://github.com/rapidsai/cugraph), a library of collective GPU-accelerated graph algorithms."
   ]
  },
  {
   "cell_type": "markdown",
   "metadata": {
    "id": "1rmQxwWC1_VR"
   },
   "source": [
    "# Environment Sanity Check\n",
    "\n"
   ]
  },
  {
   "cell_type": "markdown",
   "metadata": {
    "id": "v9AlrewS2LhM"
   },
   "source": [
    "This notebook requires a Tesla T4, P4, or P100 GPU.\n",
    "1. Open the <u>Runtime</u> dropdown\n",
    "2. Click on <u>Change Runtime Type</u>\n",
    "3. Set <u>Hardware accelerator</u> to GPU\n",
    "4. Re-connect to runtime \n",
    "\n",
    "Check the output of `!nvidia-smi -L` to make sure you've been allocated a Tesla T4, P4, or P100. If not, you can rely on the _Disconnect and delete runtime_ option to repeat the process & try again (unfortunately this is the only option)."
   ]
  },
  {
   "cell_type": "code",
   "execution_count": null,
   "metadata": {
    "id": "z22Ut7DU2BH2"
   },
   "outputs": [],
   "source": [
    "!nvidia-smi -L"
   ]
  },
  {
   "cell_type": "markdown",
   "metadata": {
    "id": "KS9c-vE5eG89"
   },
   "source": [
    "# Setup"
   ]
  },
  {
   "cell_type": "markdown",
   "metadata": {
    "id": "wCTZz91n2QPw"
   },
   "source": [
    "Estimated Time: 20 minutes :( \n",
    "\n",
    "Itinerary:\n",
    "1. Update gcc in Colab\n",
    "2. Install Conda\n",
    "3. Install dependencies\n",
    "4. Copy RAPIDS `.so` files into current working directory, a neccessary workaround for RAPIDS+Colab integration."
   ]
  },
  {
   "cell_type": "code",
   "execution_count": null,
   "metadata": {
    "id": "fUnFAFAheG89"
   },
   "outputs": [],
   "source": [
    "# This get the RAPIDS-Colab install files and test check your GPU.  Run this and the next cell only.\n",
    "# Please read the output of this cell.  If your Colab Instance is not RAPIDS compatible, it will warn you and give you remediation steps.\n",
    "!git clone https://github.com/rapidsai/rapidsai-csp-utils.git\n",
    "!python rapidsai-csp-utils/colab/env-check.py"
   ]
  },
  {
   "cell_type": "code",
   "execution_count": null,
   "metadata": {
    "id": "RpqvL4COeG8-"
   },
   "outputs": [],
   "source": [
    "# This will update the Colab environment and restart the kernel. \n",
    "!bash rapidsai-csp-utils/colab/update_gcc.sh\n",
    "import os\n",
    "os._exit(00)\n",
    "# NOTE: Don't run the next cell until you see this session crash."
   ]
  },
  {
   "cell_type": "code",
   "execution_count": null,
   "metadata": {
    "id": "LHhOv_nH2lOL"
   },
   "outputs": [],
   "source": [
    "# This will install CondaColab.  This will restart your kernel one last time.\n",
    "%%capture\n",
    "import condacolab\n",
    "condacolab.install()\n",
    "# NOTE: Don't run the next cell until you see this session crash."
   ]
  },
  {
   "cell_type": "code",
   "execution_count": null,
   "metadata": {
    "id": "34Fyyc-42mMm"
   },
   "outputs": [],
   "source": [
    "# You can now run the rest of the cells as normal\n",
    "import condacolab\n",
    "condacolab.check()"
   ]
  },
  {
   "cell_type": "code",
   "execution_count": null,
   "metadata": {
    "id": "U3yZUqK02nTR"
   },
   "outputs": [],
   "source": [
    "# Run CFFI Colab Pip Fix\n",
    "!pip uninstall --yes cffi\n",
    "!pip uninstall --yes cryptography\n",
    "!pip install cffi==1.15.0"
   ]
  },
  {
   "cell_type": "code",
   "execution_count": null,
   "metadata": {
    "id": "Pi1_CjzE2o7i"
   },
   "outputs": [],
   "source": [
    "# Est time: 15 minutes\n",
    "# Install CUDA 11.2, along with a specific version of cuGraph\n",
    "!conda install -c rapidsai -c nvidia -c numba -c conda-forge cugraph=21.12 cudatoolkit=11.2"
   ]
  },
  {
   "cell_type": "code",
   "execution_count": null,
   "metadata": {
    "id": "8rAMRUSf23Sj"
   },
   "outputs": [],
   "source": [
    "# Update Colab's libraries\n",
    "import sys, os, shutil\n",
    "sys.path.append('/usr/local/lib/python3.7/site-packages/')\n",
    "os.environ['NUMBAPRO_NVVM'] = '/usr/local/cuda/nvvm/lib64/libnvvm.so'\n",
    "os.environ['NUMBAPRO_LIBDEVICE'] = '/usr/local/cuda/nvvm/libdevice/'\n",
    "os.environ[\"CONDA_PREFIX\"] = \"/usr/local\"\n",
    "for so in ['cudf', 'rmm', 'nccl', 'cuml', 'cugraph', 'xgboost', 'cuspatial', 'cupy', 'geos','geos_c']:\n",
    "  fn = 'lib'+so+'.so'\n",
    "  source_fn = '/usr/local/lib/'+fn\n",
    "  dest_fn = '/usr/lib/'+fn\n",
    "  if os.path.exists(source_fn):\n",
    "    print(f'Copying {source_fn} to {dest_fn}')\n",
    "    shutil.copyfile(source_fn, dest_fn)"
   ]
  },
  {
   "cell_type": "code",
   "execution_count": null,
   "metadata": {
    "id": "32t5ZOx-27bD"
   },
   "outputs": [],
   "source": [
    "# Finally! Last step \n",
    "!git clone -b master --single-branch https://github.com/arangoml/cugraph-adapter.git\n",
    "!pip install git+https://github.com/arangoml/cugraph-adapter.git\n",
    "!pip install git+https://github.com/arangoml/utilities.git"
   ]
  },
  {
   "cell_type": "markdown",
   "metadata": {
    "id": "lRmEM5eaQxJ5"
   },
   "source": [
    "# Understanding cuGraph"
   ]
  },
  {
   "cell_type": "markdown",
   "metadata": {
    "id": "r7sRg9j2Q2ef"
   },
   "source": [
    "(referenced from [docs.rapids.ai/api/cugraph](https://docs.rapids.ai/api/cugraph/stable/))\n",
    "\n",
    "RAPIDS cuGraph is a library of graph algorithms that seamlessly integrates into the RAPIDS data science ecosystem and allows the data scientist to easily call graph algorithms using data stored in GPU DataFrames, NetworkX Graphs, or even CuPy or SciPy sparse Matrices."
   ]
  },
  {
   "cell_type": "markdown",
   "metadata": {
    "id": "MZvrkW4v35mq"
   },
   "source": [
    "Built based on the [Apache Arrow](http://arrow.apache.org/) columnar memory format, cuDF is a GPU DataFrame library for loading, joining, aggregating, filtering, and otherwise manipulating data.\n",
    "\n",
    "cuDF provides a pandas-like API that will be familiar to data engineers & data scientists, so they can use it to easily accelerate their workflows without going into the details of CUDA programming.\n",
    "\n",
    "For example, the following snippet downloads a CSV, then uses the GPU to parse it into rows and columns and run calculations:"
   ]
  },
  {
   "cell_type": "code",
   "execution_count": null,
   "metadata": {
    "id": "zMpjZ7vDTATD"
   },
   "outputs": [],
   "source": [
    "# Load a dataset into a GPU memory resident DataFrame and perform a basic calculation.\n",
    "# Everything from CSV parsing to calculating tip percentage and computing a grouped average is done on the GPU.\n",
    "\n",
    "import cudf\n",
    "import cugraph\n",
    "import io, requests\n",
    "\n",
    "# download CSV file from GitHub\n",
    "url=\"https://github.com/plotly/datasets/raw/master/tips.csv\"\n",
    "content = requests.get(url).content.decode('utf-8')\n",
    "\n",
    "# read CSV from memory\n",
    "tips_df = cudf.read_csv(io.StringIO(content))\n",
    "tips_df['tip_percentage'] = tips_df['tip']/tips_df['total_bill']*100\n",
    "\n",
    "# display average tip by dining party size\n",
    "print(tips_df.groupby('size').tip_percentage.mean())"
   ]
  },
  {
   "cell_type": "markdown",
   "metadata": {
    "id": "JEjYyQi-4i6c"
   },
   "source": [
    "As a cuGraph example, the following Python snippet loads graph data and computes PageRank:"
   ]
  },
  {
   "cell_type": "code",
   "execution_count": null,
   "metadata": {
    "id": "MQ3TfRSg4m_H"
   },
   "outputs": [],
   "source": [
    "import cudf\n",
    "import cugraph\n",
    "\n",
    "# read data into a cuDF DataFrame using read_csv\n",
    "gdf = cudf.read_csv(io.StringIO(content), names=[\"src\", \"dst\"], dtype=[\"int32\", \"int32\"])\n",
    "\n",
    "# We now have data as edge pairs\n",
    "# create a Graph using the source (src) and destination (dst) vertex pairs\n",
    "G = cugraph.Graph()\n",
    "G.from_cudf_edgelist(gdf, source='src', destination='dst')\n",
    "\n",
    "# Let's now get the PageRank score of each vertex by calling cugraph.pagerank\n",
    "df_page = cugraph.pagerank(G)\n",
    "\n",
    "# Let's look at the PageRank Score (only do this on small graphs)\n",
    "for i in range(len(df_page)):\n",
    "\tprint(\"vertex \" + str(df_page['vertex'].iloc[i]) +\n",
    "\t\t\" PageRank is \" + str(df_page['pagerank'].iloc[i]))"
   ]
  },
  {
   "cell_type": "markdown",
   "metadata": {
    "id": "Oc__NAd1eG8-"
   },
   "source": [
    "# Create a Temporary ArangoDB Oasis Instance"
   ]
  },
  {
   "cell_type": "code",
   "execution_count": null,
   "metadata": {
    "id": "2ekGwnJDeG8-"
   },
   "outputs": [],
   "source": [
    "import json\n",
    "from arango import ArangoClient\n",
    "from arango_utils import utils\n",
    "\n",
    "# Request temporary instance from the managed ArangoDB Cloud Oasis.\n",
    "con = utils.get_oasis_credentials()\n",
    "print(json.dumps(con, indent=2))\n",
    "\n",
    "# Connect to the db via the python-arango driver\n",
    "db = ArangoClient(hosts=con[\"url\"]).db(con[\"dbName\"], con[\"username\"], con[\"password\"], verify=True)"
   ]
  },
  {
   "cell_type": "markdown",
   "metadata": {
    "id": "e4QfL37neG8_"
   },
   "source": [
    "Feel free to use the above URL to check out the UI!"
   ]
  },
  {
   "cell_type": "markdown",
   "metadata": {
    "id": "7y81WHO8eG8_"
   },
   "source": [
    "# Import Sample Data"
   ]
  },
  {
   "cell_type": "markdown",
   "metadata": {
    "id": "BM0iRYPDeG8_"
   },
   "source": [
    "For demo purposes, we will be using the [ArangoDB Fraud Detection example graph](https://colab.research.google.com/github/joerg84/Graph_Powered_ML_Workshop/blob/master/Fraud_Detection.ipynb), and the [ArangoDB IMDB Dataset](https://github.com/arangodb/example-datasets/tree/master/Graphs/IMDB)."
   ]
  },
  {
   "cell_type": "code",
   "execution_count": null,
   "metadata": {
    "id": "7bgGJ3QkeG8_"
   },
   "outputs": [],
   "source": [
    "!chmod -R 755 cugraph-adapter/\n",
    "!./cugraph-adapter/tests/assets/arangorestore -c none --server.endpoint http+ssl://{con[\"hostname\"]}:{con[\"port\"]} --server.username {con[\"username\"]} --server.database {con[\"dbName\"]} --server.password {con[\"password\"]} --replication-factor 3  --input-directory \"cugraph-adapter/examples/data/fraud_dump\" --include-system-collections true\n",
    "!./cugraph-adapter/tests/assets/arangorestore -c none --server.endpoint http+ssl://{con[\"hostname\"]}:{con[\"port\"]} --server.username {con[\"username\"]} --server.database {con[\"dbName\"]} --server.password {con[\"password\"]} --replication-factor 3  --input-directory \"cugraph-adapter/examples/data/imdb_dump\" --include-system-collections true"
   ]
  },
  {
   "cell_type": "markdown",
   "metadata": {
    "id": "QfE_tKxneG9A"
   },
   "source": [
    "# Instantiate the Adapter"
   ]
  },
  {
   "cell_type": "markdown",
   "metadata": {
    "id": "kGfhzPT9eG9A"
   },
   "source": [
    "Connect the ArangoDB-cuGraph Adapter to our database client:"
   ]
  },
  {
   "cell_type": "code",
   "execution_count": null,
   "metadata": {
    "id": "oG496kBeeG9A"
   },
   "outputs": [],
   "source": [
    "from adbcug_adapter import ADBCUG_Adapter\n",
    "adbcug_adapter = ADBCUG_Adapter(db)"
   ]
  },
  {
   "cell_type": "markdown",
   "metadata": {
    "id": "uByvwf9feG9A"
   },
   "source": [
    "# ArangoDB to cuGraph\n",
    "\n"
   ]
  },
  {
   "cell_type": "markdown",
   "metadata": {
    "id": "ZrEDmtqCVD0W"
   },
   "source": [
    "## Via ArangoDB Graph Name"
   ]
  },
  {
   "cell_type": "markdown",
   "metadata": {
    "id": "oIJE69k8XERE"
   },
   "source": [
    "Data source\n",
    "* ArangoDB Fraud-Detection Graph\n",
    "\n",
    "Package methods used\n",
    "* [`adbcug_adapter.adapter.arangodb_graph_to_cugraph()`](https://github.com/arangoml/cugraph-adapter/blob/master/adbcug_adapter/adapter.py)\n",
    "\n",
    "Important notes\n",
    "* The `name` parameter in this case must point to an existing ArangoDB graph in your ArangoDB instance. \n"
   ]
  },
  {
   "cell_type": "code",
   "execution_count": null,
   "metadata": {
    "id": "zZ-Hu3lLVHgd"
   },
   "outputs": [],
   "source": [
    "# Define graph name\n",
    "graph_name = \"fraud-detection\"\n",
    "\n",
    "# Create cuGraph graph from ArangoDB graph name\n",
    "cu_g = adbcug_adapter.arangodb_graph_to_cugraph(graph_name)\n",
    "\n",
    "# You can also provide valid Python-Arango AQL query options to the command above, like such:\n",
    "# cu_g = adbcug_adapter.arangodb_graph_to_cugraph(graph_name, ttl=1000, stream=True)\n",
    "# See more here: https://docs.python-arango.com/en/main/specs.html#arango.aql.AQL.execute\n",
    "\n",
    "# Show graph data\n",
    "print('\\n--------------------')\n",
    "print(cu_g.nodes())\n",
    "print('\\n--------------------')\n",
    "print(cu_g.edges())"
   ]
  },
  {
   "cell_type": "markdown",
   "metadata": {
    "id": "RQ4CknYfUEuz"
   },
   "source": [
    "## Via ArangoDB Collection Names"
   ]
  },
  {
   "cell_type": "markdown",
   "metadata": {
    "id": "wVCEdRB8YdLW"
   },
   "source": [
    "Data source\n",
    "* ArangoDB Fraud-Detection Collections\n",
    "\n",
    "Package methods used\n",
    "* [`adbcug_adapter.adapter.arangodb_collections_to_cugraph()`](https://github.com/arangoml/cugraph-adapter/blob/master/adbcug_adapter/adapter.py)\n",
    "\n",
    "Important notes\n",
    "* The `name` parameter in this case is simply for naming your cuGraph graph.\n",
    "* The `vertex_collections` & `edge_collections` parameters must point to existing ArangoDB collections within your ArangoDB instance."
   ]
  },
  {
   "cell_type": "code",
   "execution_count": null,
   "metadata": {
    "id": "i4XOpdRLUNlJ"
   },
   "outputs": [],
   "source": [
    "# Define collection\n",
    "vertex_collections = {\"account\", \"bank\", \"branch\", \"Class\", \"customer\"}\n",
    "edge_collections = {\"accountHolder\", \"Relationship\", \"transaction\"}\n",
    "\n",
    "# Create NetworkX graph from ArangoDB collections\n",
    "cu_g = adbcug_adapter.arangodb_collections_to_cugraph(\"fraud-detection\", vertex_collections, edge_collections)\n",
    "\n",
    "# You can also provide valid Python-Arango AQL query options to the command above, like such:\n",
    "# cu_g = adbcug_adapter.arangodb_collections_to_cugraph, ttl=1000, stream=True)\n",
    "# See more here: https://docs.python-arango.com/en/main/specs.html#arango.aql.AQL.execute\n",
    "\n",
    "# Show graph data\n",
    "print('\\n--------------------')\n",
    "print(cu_g.nodes())\n",
    "print('\\n--------------------')\n",
    "print(cu_g.edges())"
   ]
  },
  {
   "cell_type": "markdown",
   "metadata": {
    "id": "tWU1YW9AViTA"
   },
   "source": [
    "## Via ArangoDB Graph Name with a custom controller and verbose logging"
   ]
  },
  {
   "cell_type": "markdown",
   "metadata": {
    "id": "sjtWpTDbZpLq"
   },
   "source": [
    "Data source\n",
    "* ArangoDB Fraud-Detection Collections\n",
    "\n",
    "Package methods used\n",
    "* [`adbcug_adapter.adapter.arangodb_graph_to_cugraph()`](https://github.com/arangoml/cugraph-adapter/blob/master/adbcug_adapter/adapter.py)\n",
    "* [`adbcug_adapter.controller._prepare_arangodb_vertex()`](https://github.com/arangoml/cugraph-adapter/blob/master/adbcug_adapter/controller.py)\n",
    "\n",
    "Important notes\n",
    "* The name parameter in this case must point to an existing ArangoDB graph in your ArangoDB instance.\n",
    "* We are creating a custom `ADBCUG_Controller` to specify *how* to convert our ArangoDB vertex IDs into cuGraph node IDs. View the default `ADBCUG_Controller` [here](https://github.com/arangoml/cugraph-adapter/blob/master/adbcug_adapter/controller.py)."
   ]
  },
  {
   "cell_type": "code",
   "execution_count": null,
   "metadata": {
    "id": "QqGgOe51Vr85"
   },
   "outputs": [],
   "source": [
    "import logging\n",
    "from adbcug_adapter import ADBCUG_Controller\n",
    "from adbcug_adapter.typings import CuGId, Json\n",
    "\n",
    "# Define metagraph\n",
    "graph_name = \"fraud-detection\"\n",
    "\n",
    "class Custom_ADBCUG_Controller(ADBCUG_Controller):\n",
    "    \"\"\"ArangoDB-cuGraph controller.\n",
    "\n",
    "    Responsible for controlling how nodes & edges are handled when\n",
    "    transitioning from ArangoDB to cuGraph.\n",
    "\n",
    "    You can derive your own custom ADBCUG_Controller, but it is not\n",
    "    necessary.\n",
    "    \"\"\"\n",
    "\n",
    "    def _prepare_arangodb_vertex(self, adb_vertex: Json, col: str) -> CuGId:\n",
    "        \"\"\"Prepare an ArangoDB vertex before it gets inserted into the cuGraph\n",
    "        graph.\n",
    "\n",
    "        Given an ArangoDB vertex, you can modify it before it gets inserted\n",
    "        into the cuGraph graph, and/or derive a custom node id for cuGraph to use.\n",
    "        In most cases, it is only required to return the ArangoDB _id of the vertex.\n",
    "\n",
    "        :param adb_vertex: The ArangoDB vertex object to (optionally) modify.\n",
    "        :type adb_vertex: adbcug_adapter.typings.Json\n",
    "        :param col: The ArangoDB collection the vertex belongs to.\n",
    "        :type col: str\n",
    "        :return: The ArangoDB _id attribute of the vertex.\n",
    "        :rtype: str\n",
    "        \"\"\"\n",
    "        adb_vertex_id: str = adb_vertex[\"_id\"] # ArangoDB _id example: 'collection_name/_key'\n",
    "        return 'new_' + adb_vertex_id # Custom behaviour: Add a \"_new\" prefix to every vertex ID\n",
    "\n",
    "# Instantiate a new adapter with the custom controller\n",
    "custom_adbcug_adapter = ADBCUG_Adapter(db, controller=Custom_ADBCUG_Controller())\n",
    "\n",
    "# You can also change the adapter's logging level for access to \n",
    "# silent, regular, or verbose logging\n",
    "custom_adbcug_adapter.set_logging(logging.WARNING) # silent logging\n",
    "custom_adbcug_adapter.set_logging(logging.INFO) # regular logging (default)\n",
    "custom_adbcug_adapter.set_logging(logging.DEBUG) # verbose logging\n",
    "\n",
    "# Create cuGraph Graph an ArangoDB graph using the custom adapter\n",
    "cu_g = custom_adbcug_adapter.arangodb_graph_to_cugraph(\"fraud-detection\")\n",
    "\n",
    "# Show graph data\n",
    "print('\\n--------------------')\n",
    "print(cu_g.nodes())\n",
    "print('\\n--------------------')\n",
    "print(cu_g.edges())"
   ]
  }
 ],
 "metadata": {
  "accelerator": "GPU",
  "colab": {
   "collapsed_sections": [
    "1rmQxwWC1_VR",
    "KS9c-vE5eG89",
    "lRmEM5eaQxJ5",
    "Oc__NAd1eG8-",
    "7y81WHO8eG8_",
    "QfE_tKxneG9A",
    "RQ4CknYfUEuz"
   ],
   "name": "ArangoDB_cuGraph_Adapter.ipynb",
   "provenance": []
  },
  "kernelspec": {
   "display_name": "Python 3",
   "language": "python",
   "name": "python3"
  },
  "language_info": {
   "codemirror_mode": {
    "name": "ipython",
    "version": 3
   },
   "file_extension": ".py",
   "mimetype": "text/x-python",
   "name": "python",
   "nbconvert_exporter": "python",
   "pygments_lexer": "ipython3",
   "version": "3.7.6"
  }
 },
 "nbformat": 4,
 "nbformat_minor": 0
}
