{
 "cells": [
  {
   "cell_type": "markdown",
   "metadata": {
    "id": "q8KesL7xeG89"
   },
   "source": [
    "# ArangoDB cuGraph Adapter Getting Started Guide  "
   ]
  },
  {
   "cell_type": "markdown",
   "metadata": {
    "id": "U1d45V4OeG89"
   },
   "source": [
    "<a href=\"https://colab.research.google.com/github/arangoml/cugraph-adapter/blob/master/examples/ArangoDB_cuGraph_Adapter.ipynb\" target=\"_parent\"><img src=\"https://colab.research.google.com/assets/colab-badge.svg\" alt=\"Open In Colab\"/></a>"
   ]
  },
  {
   "cell_type": "markdown",
   "metadata": {
    "id": "Nx9aa3LAeG89"
   },
   "source": [
    "![arangodb](https://github.com/arangoml/cugraph-adapter/blob/master/examples/assets/logos/ArangoDB_logo.png?raw=1)\n",
    "<a href=\"https://github.com/rapidsai/cugraph\" rel=\"github.com/rapidsai/cugraph\"><img src=\"https://github.com/arangoml/cugraph-adapter/blob/master/examples/assets/logos/rapids_logo.png?raw=1\" width=30% height=30%></a>"
   ]
  },
  {
   "cell_type": "markdown",
   "metadata": {
    "id": "bpvZS-1aeG89"
   },
   "source": [
    "Export Graphs from [ArangoDB](https://www.arangodb.com/), a multi-model Graph Database, to [cuGraph](https://github.com/rapidsai/cugraph), a library of collective GPU-accelerated graph algorithms.\n",
    "\n",
    "\n",
    "⚠️ The `Run all` option will not work in this notebook. ⚠️"
   ]
  },
  {
   "cell_type": "markdown",
   "metadata": {
    "id": "1rmQxwWC1_VR"
   },
   "source": [
    "# Environment Sanity Check\n",
    "\n"
   ]
  },
  {
   "cell_type": "markdown",
   "metadata": {
    "id": "v9AlrewS2LhM"
   },
   "source": [
    "This notebook requires a Tesla T4, P4, or P100 GPU.\n",
    "1. Open the <u>Runtime</u> dropdown\n",
    "2. Click on <u>Change Runtime Type</u>\n",
    "3. Set <u>Hardware accelerator</u> to GPU\n",
    "4. Re-connect to runtime \n",
    "\n",
    "Check the output of `!nvidia-smi -L` to make sure you've been allocated a Tesla T4, P4, or P100. If not, you can rely on the _Disconnect and delete runtime_ option to repeat the process & try again (unfortunately this is the only option)."
   ]
  },
  {
   "cell_type": "code",
   "execution_count": null,
   "metadata": {
    "colab": {
     "base_uri": "https://localhost:8080/"
    },
    "id": "z22Ut7DU2BH2",
    "outputId": "2ff94498-4028-4b62-fa10-47a7549ca900"
   },
   "outputs": [],
   "source": [
    "!nvidia-smi -L"
   ]
  },
  {
   "cell_type": "markdown",
   "metadata": {
    "id": "KS9c-vE5eG89"
   },
   "source": [
    "# Setup\n",
    "Est Time: 20 minutes "
   ]
  },
  {
   "cell_type": "markdown",
   "metadata": {
    "id": "wCTZz91n2QPw"
   },
   "source": [
    "Itinerary:\n",
    "1. Update gcc in Colab\n",
    "2. Install Conda\n",
    "3. Install dependencies\n",
    "4. Copy RAPIDS `.so` files into current working directory, a neccessary workaround for RAPIDS+Colab integration."
   ]
  },
  {
   "cell_type": "code",
   "execution_count": null,
   "metadata": {
    "colab": {
     "base_uri": "https://localhost:8080/"
    },
    "id": "fUnFAFAheG89",
    "outputId": "6bc59c65-0613-48f0-9d0b-bf52e86f2a35"
   },
   "outputs": [],
   "source": [
    "# This get the RAPIDS-Colab install files and test check your GPU.  Run this and the next cell only.\n",
    "# Please read the output of this cell.  If your Colab Instance is not RAPIDS compatible, it will warn you and give you remediation steps.\n",
    "!git clone https://github.com/rapidsai/rapidsai-csp-utils.git\n",
    "!python rapidsai-csp-utils/colab/env-check.py"
   ]
  },
  {
   "cell_type": "code",
   "execution_count": null,
   "metadata": {
    "colab": {
     "base_uri": "https://localhost:8080/"
    },
    "id": "RpqvL4COeG8-",
    "outputId": "b8cbb7c6-7bef-4aab-d1e9-1bab6f1b6762"
   },
   "outputs": [],
   "source": [
    "# This will update the Colab environment and restart the kernel. \n",
    "!bash rapidsai-csp-utils/colab/update_gcc.sh\n",
    "import os\n",
    "os._exit(00)\n",
    "\n",
    "# NOTE: Don't run the next cell until you see this session crash."
   ]
  },
  {
   "cell_type": "code",
   "execution_count": null,
   "metadata": {
    "colab": {
     "base_uri": "https://localhost:8080/"
    },
    "id": "LHhOv_nH2lOL",
    "outputId": "84870bc3-00df-435a-984b-7321550cf651"
   },
   "outputs": [],
   "source": [
    "# This will install CondaColab.  This will restart your kernel one last time.\n",
    "!pip install -q condacolab\n",
    "import condacolab\n",
    "condacolab.install()\n",
    "# condacolab.install_miniconda()\n",
    "\n",
    "# NOTE: Don't run the next cell until you see this session crash."
   ]
  },
  {
   "cell_type": "code",
   "execution_count": null,
   "metadata": {
    "colab": {
     "base_uri": "https://localhost:8080/"
    },
    "id": "34Fyyc-42mMm",
    "outputId": "0733ca7d-f9e9-4937-8562-cf9887f076d8"
   },
   "outputs": [],
   "source": [
    "# You can now run the rest of the cells as normal\n",
    "import condacolab\n",
    "condacolab.check()"
   ]
  },
  {
   "cell_type": "code",
   "execution_count": null,
   "metadata": {
    "colab": {
     "base_uri": "https://localhost:8080/",
     "height": 330
    },
    "id": "U3yZUqK02nTR",
    "outputId": "e3f5bac5-5f26-40cc-be8a-30101433d4be"
   },
   "outputs": [],
   "source": [
    "# Run CFFI Colab Pip Fix\n",
    "!pip uninstall --yes cffi\n",
    "!pip uninstall --yes cryptography\n",
    "!pip install cffi==1.15.0"
   ]
  },
  {
   "cell_type": "code",
   "execution_count": null,
   "metadata": {
    "colab": {
     "base_uri": "https://localhost:8080/"
    },
    "id": "Pi1_CjzE2o7i",
    "outputId": "df585d10-cbff-47cb-9e37-21ff658bf722"
   },
   "outputs": [],
   "source": [
    "# Est time: 15 minutes\n",
    "# Install CUDA 11.2, along with a specific version of cuGraph\n",
    "!conda install -c rapidsai -c nvidia -c numba -c conda-forge cugraph=21.12 cudatoolkit=11.2"
   ]
  },
  {
   "cell_type": "code",
   "execution_count": null,
   "metadata": {
    "colab": {
     "base_uri": "https://localhost:8080/"
    },
    "id": "8rAMRUSf23Sj",
    "outputId": "a09849b9-e33c-4c07-eeda-c436fb016356"
   },
   "outputs": [],
   "source": [
    "# Update Colab's libraries\n",
    "import sys, os, shutil\n",
    "sys.path.append('/usr/local/lib/python3.7/site-packages/')\n",
    "os.environ['NUMBAPRO_NVVM'] = '/usr/local/cuda/nvvm/lib64/libnvvm.so'\n",
    "os.environ['NUMBAPRO_LIBDEVICE'] = '/usr/local/cuda/nvvm/libdevice/'\n",
    "os.environ[\"CONDA_PREFIX\"] = \"/usr/local\"\n",
    "for so in ['cudf', 'rmm', 'nccl', 'cuml', 'cugraph', 'xgboost', 'cuspatial', 'cupy', 'geos','geos_c']:\n",
    "  fn = 'lib'+so+'.so'\n",
    "  source_fn = '/usr/local/lib/'+fn\n",
    "  dest_fn = '/usr/lib/'+fn\n",
    "  if os.path.exists(source_fn):\n",
    "    print(f'Copying {source_fn} to {dest_fn}')\n",
    "    shutil.copyfile(source_fn, dest_fn)"
   ]
  },
  {
   "cell_type": "code",
   "execution_count": null,
   "metadata": {
    "colab": {
     "base_uri": "https://localhost:8080/"
    },
    "id": "32t5ZOx-27bD",
    "outputId": "6ff8eb1f-e1a0-4ec8-a370-49b674e35318"
   },
   "outputs": [],
   "source": [
    "# Finally! Last step\n",
    "!pip install git+https://github.com/arangoml/cugraph-adapter.git\n",
    "!pip install adb-cloud-connector\n",
    "!git clone -b master --single-branch https://github.com/arangoml/cugraph-adapter.git\n",
    "\n",
    "# Unfortunately the following does not work in colab (hence the steps above):\n",
    "# !conda install -c arangodb adbcug_adapter"
   ]
  },
  {
   "cell_type": "code",
   "execution_count": null,
   "metadata": {
    "id": "J3eGVQLRhulA"
   },
   "outputs": [],
   "source": [
    "# All imports\n",
    "\n",
    "import cudf\n",
    "import cugraph\n",
    "\n",
    "from adbcug_adapter import ADBCUG_Adapter, ADBCUG_Controller\n",
    "from adbcug_adapter.typings import CUGId, Json\n",
    "\n",
    "from arango import ArangoClient\n",
    "from adb_cloud_connector import get_temp_credentials\n",
    "\n",
    "import json\n",
    "import logging\n",
    "import io, requests\n",
    "from typing import List"
   ]
  },
  {
   "cell_type": "markdown",
   "metadata": {
    "id": "lRmEM5eaQxJ5"
   },
   "source": [
    "# Understanding cuGraph & cuDF\n",
    "\n",
    "(referenced from [docs.rapids.ai](https://docs.rapids.ai/))"
   ]
  },
  {
   "cell_type": "markdown",
   "metadata": {
    "id": "42wigq2hYu1w"
   },
   "source": [
    "RAPIDS cuGraph is a library of graph algorithms that seamlessly integrates into the RAPIDS data science ecosystem and allows the data scientist to easily call graph algorithms using data stored in GPU DataFrames, NetworkX Graphs, or even CuPy or SciPy sparse Matrices.\n",
    "\n",
    "\n",
    "Here is an example of creating a simple weighted graph:"
   ]
  },
  {
   "cell_type": "code",
   "execution_count": null,
   "metadata": {
    "colab": {
     "base_uri": "https://localhost:8080/"
    },
    "id": "6TlQ9oerV_kj",
    "outputId": "25b1636a-a175-4a84-ed55-2f04745953f4"
   },
   "outputs": [],
   "source": [
    "cug_graph = cugraph.Graph()\n",
    "\n",
    "df = cudf.DataFrame(\n",
    "  [('a', 'b', 5), ('a', 'c', 1), ('a', 'd', 4), ('b', 'c', 3), ('c', 'd', 2)],\n",
    "  columns=['src', 'dst', 'weight']\n",
    ")\n",
    "\n",
    "cug_graph.from_cudf_edgelist(\n",
    "    df,\n",
    "    source='src',\n",
    "    destination='dst',\n",
    "    edge_attr='weight'\n",
    ")\n",
    "\n",
    "print('\\n--------------------')\n",
    "print(cug_graph.nodes())\n",
    "print('\\n--------------------')\n",
    "print(cug_graph.edges())"
   ]
  },
  {
   "cell_type": "markdown",
   "metadata": {
    "id": "MZvrkW4v35mq"
   },
   "source": [
    "RAPIDS cuDF is a GPU DataFrame library for loading, joining, aggregating, filtering, and otherwise manipulating data. It provides a pandas-like API that will be familiar to data engineers & data scientists, so they can use it to easily accelerate their workflows without going into the details of CUDA programming.\n",
    "\n",
    "For example, the following snippet downloads a CSV, then uses the GPU to parse it into rows and columns and run calculations:"
   ]
  },
  {
   "cell_type": "code",
   "execution_count": null,
   "metadata": {
    "colab": {
     "base_uri": "https://localhost:8080/"
    },
    "id": "zMpjZ7vDTATD",
    "outputId": "041a3c13-6bed-409c-dc47-40e35d8bbaa8"
   },
   "outputs": [],
   "source": [
    "# Load a dataset into a GPU memory resident DataFrame and perform a basic calculation.\n",
    "# Everything from CSV parsing to calculating tip percentage and computing a grouped average is done on the GPU.\n",
    "\n",
    "# download CSV file from GitHub\n",
    "url=\"https://github.com/plotly/datasets/raw/master/tips.csv\"\n",
    "content = requests.get(url).content.decode('utf-8')\n",
    "\n",
    "# read CSV from memory\n",
    "tips_df = cudf.read_csv(io.StringIO(content))\n",
    "tips_df['tip_percentage'] = tips_df['tip']/tips_df['total_bill']*100\n",
    "\n",
    "# display average tip by dining party size\n",
    "print(tips_df.groupby('size').tip_percentage.mean())"
   ]
  },
  {
   "cell_type": "markdown",
   "metadata": {
    "id": "JEjYyQi-4i6c"
   },
   "source": [
    "The following snippet loads data into a cuGraph graph and computes PageRank:"
   ]
  },
  {
   "cell_type": "code",
   "execution_count": null,
   "metadata": {
    "colab": {
     "base_uri": "https://localhost:8080/"
    },
    "id": "MQ3TfRSg4m_H",
    "outputId": "f5d25c17-0fd6-49b9-fded-ba6baf154664"
   },
   "outputs": [],
   "source": [
    "# read data into a cuDF DataFrame using read_csv\n",
    "gdf = cudf.read_csv(io.StringIO(content), names=[\"src\", \"dst\"], dtype=[\"int32\", \"int32\"])\n",
    "\n",
    "# We now have data as edge pairs\n",
    "# create a Graph using the source (src) and destination (dst) vertex pairs\n",
    "G = cugraph.Graph()\n",
    "G.from_cudf_edgelist(gdf, source='src', destination='dst')\n",
    "\n",
    "# Let's now get the PageRank score of each vertex by calling cugraph.pagerank\n",
    "df_page = cugraph.pagerank(G)\n",
    "\n",
    "# Let's look at the PageRank Score (only do this on small graphs)\n",
    "for i in range(len(df_page)):\n",
    "\tprint(\"vertex \" + str(df_page['vertex'].iloc[i]) +\n",
    "\t\t\" PageRank is \" + str(df_page['pagerank'].iloc[i]))"
   ]
  },
  {
   "cell_type": "markdown",
   "metadata": {
    "id": "Oc__NAd1eG8-"
   },
   "source": [
    "# Create a Temporary ArangoDB Cloud Instance"
   ]
  },
  {
   "cell_type": "code",
   "execution_count": null,
   "metadata": {
    "colab": {
     "base_uri": "https://localhost:8080/"
    },
    "id": "2ekGwnJDeG8-",
    "outputId": "258d7bb4-8391-4c29-827e-f0b680e3a557"
   },
   "outputs": [],
   "source": [
    "# Request temporary instance from the managed ArangoDB Cloud Service.\n",
    "con = get_temp_credentials()\n",
    "print(json.dumps(con, indent=2))\n",
    "\n",
    "# Connect to the instance via the python-arango driver\n",
    "db = ArangoClient(hosts=con[\"url\"]).db(con[\"dbName\"], con[\"username\"], con[\"password\"], verify=True)"
   ]
  },
  {
   "cell_type": "markdown",
   "metadata": {
    "id": "e4QfL37neG8_"
   },
   "source": [
    "Feel free to use the above URL to check out the UI!"
   ]
  },
  {
   "cell_type": "markdown",
   "metadata": {
    "id": "7y81WHO8eG8_"
   },
   "source": [
    "# Import Sample Data"
   ]
  },
  {
   "cell_type": "markdown",
   "metadata": {
    "id": "BM0iRYPDeG8_"
   },
   "source": [
    "For demo purposes, we will be using the [ArangoDB Fraud Detection example graph](https://colab.research.google.com/github/joerg84/Graph_Powered_ML_Workshop/blob/master/Fraud_Detection.ipynb), and the [ArangoDB IMDB Dataset](https://github.com/arangodb/example-datasets/tree/master/Graphs/IMDB)."
   ]
  },
  {
   "cell_type": "code",
   "execution_count": null,
   "metadata": {
    "colab": {
     "base_uri": "https://localhost:8080/"
    },
    "id": "7bgGJ3QkeG8_",
    "outputId": "3c85a1c4-5103-47d4-edbd-e9a99a06fecc"
   },
   "outputs": [],
   "source": [
    "!chmod -R 755 cugraph-adapter/\n",
    "!./cugraph-adapter/tests/assets/arangorestore -c none --server.endpoint http+ssl://{con[\"hostname\"]}:{con[\"port\"]} --server.username {con[\"username\"]} --server.database {con[\"dbName\"]} --server.password {con[\"password\"]} --replication-factor 3  --input-directory \"cugraph-adapter/examples/data/fraud_dump\" --include-system-collections true\n",
    "!./cugraph-adapter/tests/assets/arangorestore -c none --server.endpoint http+ssl://{con[\"hostname\"]}:{con[\"port\"]} --server.username {con[\"username\"]} --server.database {con[\"dbName\"]} --server.password {con[\"password\"]} --replication-factor 3  --input-directory \"cugraph-adapter/examples/data/imdb_dump\" --include-system-collections true"
   ]
  },
  {
   "cell_type": "markdown",
   "metadata": {
    "id": "QfE_tKxneG9A"
   },
   "source": [
    "# Instantiate the Adapter"
   ]
  },
  {
   "cell_type": "markdown",
   "metadata": {
    "id": "kGfhzPT9eG9A"
   },
   "source": [
    "Connect the ArangoDB-cuGraph Adapter to our database client:"
   ]
  },
  {
   "cell_type": "code",
   "execution_count": null,
   "metadata": {
    "colab": {
     "base_uri": "https://localhost:8080/"
    },
    "id": "oG496kBeeG9A",
    "outputId": "c747878b-f121-405a-ede4-57227c233de2"
   },
   "outputs": [],
   "source": [
    "adbcug_adapter = ADBCUG_Adapter(db)"
   ]
  },
  {
   "cell_type": "markdown",
   "metadata": {
    "id": "uByvwf9feG9A"
   },
   "source": [
    "# <u>ArangoDB to cuGraph</u>\n",
    "\n"
   ]
  },
  {
   "cell_type": "markdown",
   "metadata": {
    "id": "ZrEDmtqCVD0W"
   },
   "source": [
    "#### Via ArangoDB Graph Name"
   ]
  },
  {
   "cell_type": "markdown",
   "metadata": {
    "id": "oIJE69k8XERE"
   },
   "source": [
    "Data source\n",
    "* ArangoDB Fraud-Detection Graph\n",
    "\n",
    "Package methods used\n",
    "* [`adbcug_adapter.adapter.arangodb_graph_to_cugraph()`](https://github.com/arangoml/cugraph-adapter/blob/master/adbcug_adapter/adapter.py)\n",
    "\n",
    "Important notes\n",
    "* The graph `name` must point to an existing ArangoDB graph\n",
    "* cuGraph does not support node or edge attributes (apart from edge weight)\n",
    "* If an ArangoDB edge has an attribute named `weight`, its value will be transferred over to the cuGraph graph. Otherwise, the cuGraph edge weight will default to `0`."
   ]
  },
  {
   "cell_type": "code",
   "execution_count": null,
   "metadata": {
    "colab": {
     "base_uri": "https://localhost:8080/"
    },
    "id": "zZ-Hu3lLVHgd",
    "outputId": "e7e72df0-8928-4be5-d002-ed41d5fe168b"
   },
   "outputs": [],
   "source": [
    "# Define graph name\n",
    "graph_name = \"fraud-detection\"\n",
    "\n",
    "# Create cuGraph graph from ArangoDB graph name\n",
    "cug_graph = adbcug_adapter.arangodb_graph_to_cugraph(graph_name)\n",
    "\n",
    "# You can also provide valid Python-Arango AQL query options to the command above, like such:\n",
    "# cug_graph = adbcug_adapter.arangodb_graph_to_cugraph(graph_name, ttl=1000, stream=True)\n",
    "# See more here: https://docs.python-arango.com/en/main/specs.html#arango.aql.AQL.execute\n",
    "\n",
    "# Show graph data\n",
    "print('\\n--------------------')\n",
    "print(cug_graph.nodes())\n",
    "print('\\n--------------------')\n",
    "print(cug_graph.edges())"
   ]
  },
  {
   "cell_type": "markdown",
   "metadata": {
    "id": "RQ4CknYfUEuz"
   },
   "source": [
    "#### Via ArangoDB Collection Names"
   ]
  },
  {
   "cell_type": "markdown",
   "metadata": {
    "id": "wVCEdRB8YdLW"
   },
   "source": [
    "Data source\n",
    "* ArangoDB Fraud-Detection Collections\n",
    "\n",
    "Package methods used\n",
    "* [`adbcug_adapter.adapter.arangodb_collections_to_cugraph()`](https://github.com/arangoml/cugraph-adapter/blob/master/adbcug_adapter/adapter.py)\n",
    "\n",
    "Important notes\n",
    "* The `vertex_collections` & `edge_collections` parameters must point to existing ArangoDB collections within your ArangoDB instance.\n",
    "* cuGraph does not support node or edge attributes (apart from edge weight)\n",
    "* If an ArangoDB edge has an attribute named `weight`, its value will be transferred over to the cuGraph graph. Otherwise, the cuGraph edge weight will default to `0`."
   ]
  },
  {
   "cell_type": "code",
   "execution_count": null,
   "metadata": {
    "colab": {
     "base_uri": "https://localhost:8080/"
    },
    "id": "i4XOpdRLUNlJ",
    "outputId": "e6a3c4ea-664e-4d1a-dacd-c8d45aa120fd"
   },
   "outputs": [],
   "source": [
    "# Define collection\n",
    "vertex_collections = {\"account\", \"bank\", \"branch\", \"Class\", \"customer\"}\n",
    "edge_collections = {\"accountHolder\", \"Relationship\", \"transaction\"}\n",
    "\n",
    "# Create NetworkX graph from ArangoDB collections\n",
    "cug_graph = adbcug_adapter.arangodb_collections_to_cugraph(\"fraud-detection\", vertex_collections, edge_collections)\n",
    "\n",
    "# You can also provide valid Python-Arango AQL query options to the command above, like such:\n",
    "# cug_graph = adbcug_adapter.arangodb_collections_to_cugraph, ttl=1000, stream=True)\n",
    "# See more here: https://docs.python-arango.com/en/main/specs.html#arango.aql.AQL.execute\n",
    "\n",
    "# Show graph data\n",
    "print('\\n--------------------')\n",
    "print(cug_graph.nodes())\n",
    "print('\\n--------------------')\n",
    "print(cug_graph.edges())"
   ]
  },
  {
   "cell_type": "markdown",
   "metadata": {
    "id": "tWU1YW9AViTA"
   },
   "source": [
    "#### Via ArangoDB Graph Name with a custom ADBCUG_Controller & verbose logging"
   ]
  },
  {
   "cell_type": "markdown",
   "metadata": {
    "id": "sjtWpTDbZpLq"
   },
   "source": [
    "Data source\n",
    "* ArangoDB Fraud-Detection Collections\n",
    "\n",
    "Package methods used\n",
    "* [`adbcug_adapter.adapter.arangodb_graph_to_cugraph()`](https://github.com/arangoml/cugraph-adapter/blob/master/adbcug_adapter/adapter.py)\n",
    "* [`adbcug_adapter.controller._prepare_arangodb_vertex()`](https://github.com/arangoml/cugraph-adapter/blob/master/adbcug_adapter/controller.py)\n",
    "\n",
    "Important notes\n",
    "* We are creating a custom `ADBCUG_Controller` to specify *how* to convert our ArangoDB vertex IDs into cuGraph node IDs. View the default `ADBCUG_Controller` [here](https://github.com/arangoml/cugraph-adapter/blob/master/adbcug_adapter/controller.py).\n",
    "* Using a custom ADBCUG Controller for `ArangoDB --> cuGraph` is optional. However, a custom ADBCUG Controller for `cuGraph --> ArangoDB` functionality is almost always needed, at the exception of Homogeneous graphs, and graphs where the node IDs are already formatted to the ArangoDB vertex ID standard (i.e `collection/_key`)"
   ]
  },
  {
   "cell_type": "code",
   "execution_count": null,
   "metadata": {
    "colab": {
     "base_uri": "https://localhost:8080/"
    },
    "id": "QqGgOe51Vr85",
    "outputId": "d245f424-8608-4197-908a-57728d4e77f0"
   },
   "outputs": [],
   "source": [
    "# Define metagraph\n",
    "graph_name = \"fraud-detection\"\n",
    "\n",
    "class Custom_ADBCUG_Controller(ADBCUG_Controller):\n",
    "    \"\"\"ArangoDB-cuGraph controller.\n",
    "\n",
    "    Responsible for controlling how nodes & edges are handled when\n",
    "    transitioning from ArangoDB to cuGraph.\n",
    "\n",
    "    You can derive your own custom ADBCUG_Controller.\n",
    "    \"\"\"\n",
    "\n",
    "    def _prepare_arangodb_vertex(self, adb_vertex: Json, col: str) -> None:\n",
    "        \"\"\"Prepare an ArangoDB vertex before it gets inserted into the cuGraph\n",
    "        graph.\n",
    "\n",
    "        Given an ArangoDB vertex, you can modify it before it gets inserted\n",
    "        into the cuGraph graph, and/or derive a custom node id for cuGraph\n",
    "        to use by updating the \"_id\" attribute of the vertex (otherwise the\n",
    "        vertex's current \"_id\" value will be used)\n",
    "\n",
    "        :param adb_vertex: The ArangoDB vertex object to (optionally) modify.\n",
    "        :type adb_vertex: adbcug_adapter.typings.Json\n",
    "        :param col: The ArangoDB collection the vertex belongs to.\n",
    "        :type col: str\n",
    "        \"\"\"\n",
    "        # Custom behaviour: Add a \"_new\" prefix to every vertex ID\n",
    "        adb_vertex[\"_id\"] = \"new_\" + adb_vertex[\"_id\"]\n",
    "\n",
    "# Instantiate a new adapter with the custom controller\n",
    "custom_adbcug_adapter = ADBCUG_Adapter(db, controller=Custom_ADBCUG_Controller())\n",
    "\n",
    "# You can also change the adapter's logging level for access to \n",
    "# silent, regular, or verbose logging (logging.WARNING, logging.INFO, logging.DEBUG)\n",
    "custom_adbcug_adapter.set_logging(logging.DEBUG) # verbose logging\n",
    "\n",
    "# Create cuGraph Graph an ArangoDB graph using the custom adapter\n",
    "cug_graph = custom_adbcug_adapter.arangodb_graph_to_cugraph(\"fraud-detection\")\n",
    "\n",
    "# Show graph data\n",
    "print('\\n--------------------')\n",
    "print(cug_graph.nodes())\n",
    "print('\\n--------------------')\n",
    "print(cug_graph.edges())"
   ]
  },
  {
   "cell_type": "markdown",
   "metadata": {
    "id": "XnUEQgPU3_eQ"
   },
   "source": [
    "# <u>cuGraph to ArangoDB</u>"
   ]
  },
  {
   "cell_type": "markdown",
   "metadata": {
    "id": "OX6ksyYJwFiG"
   },
   "source": [
    "#### Karate Graph"
   ]
  },
  {
   "cell_type": "markdown",
   "metadata": {
    "id": "ONgfFnXhwFiO"
   },
   "source": [
    "Data source\n",
    "* [cuGraph 22.06 Datasets](https://github.com/rapidsai/cugraph/blob/branch-22.06/datasets/karate.csv)\n",
    "\n",
    "Package methods used\n",
    "* [`adbcug_adapter.adapter.cugraph_to_arangodb()`](https://github.com/arangoml/cugraph-adapter/blob/master/adbcug_adapter/adapter.py)\n",
    "\n",
    "Important notes\n",
    "* A custom `ADBCUG Controller` is **not** required here. This is because the karate graph only has 1 vertex collection (`karateka`), and 1 edge collection (`knows`). See the edge definitions below "
   ]
  },
  {
   "cell_type": "code",
   "execution_count": null,
   "metadata": {
    "colab": {
     "base_uri": "https://localhost:8080/"
    },
    "id": "Jn9vgpeFwFiO",
    "outputId": "3b19b7a4-7822-4f53-9028-c82e32b457bf"
   },
   "outputs": [],
   "source": [
    "# Fetch Karate Club data\n",
    "!wget https://raw.githubusercontent.com/rapidsai/cugraph/branch-22.06/datasets/karate.csv\n",
    "dataframe = cudf.read_csv(\"karate-data.csv\", delimiter=' ', names=['src', 'dst'], dtype=['int32', 'int32'] )\n",
    "\n",
    "# Create the cuGraph graph\n",
    "cug_graph = cugraph.Graph()\n",
    "cug_graph.from_cudf_edgelist(dataframe, source='src', destination='dst')\n",
    "\n",
    "# Specify ArangoDB edge definitions\n",
    "edge_definitions = [\n",
    "    {\n",
    "        \"edge_collection\": \"knows\",\n",
    "        \"from_vertex_collections\": [\"karateka\"],\n",
    "        \"to_vertex_collections\": [\"karateka\"],\n",
    "    }\n",
    "]\n",
    "\n",
    "# Create ArangoDB graph from cuGraph\n",
    "name = \"KarateClubGraph\"\n",
    "db.delete_graph(name, drop_collections=True, ignore_missing=True)\n",
    "adb_graph = adbcug_adapter.cugraph_to_arangodb(name, cug_graph, edge_definitions)\n",
    "\n",
    "print('\\n--------------------')\n",
    "print(\"URL: \" + con[\"url\"])\n",
    "print(\"Username: \" + con[\"username\"])\n",
    "print(\"Password: \" + con[\"password\"])\n",
    "print(\"Database: \" + con[\"dbName\"])\n",
    "print('--------------------\\n')\n",
    "print(f\"View the created graph here: {con['url']}/_db/{con['dbName']}/_admin/aardvark/index.html#graph/{name}\")"
   ]
  },
  {
   "cell_type": "markdown",
   "metadata": {
    "id": "KLUw5iarn7eh"
   },
   "source": [
    "#### Divisibility Graph"
   ]
  },
  {
   "cell_type": "markdown",
   "metadata": {
    "id": "b3I3uHQtoFbt"
   },
   "source": [
    "Data source\n",
    "* No source\n",
    "\n",
    "Package methods used\n",
    "* [`adbcug_adapter.adapter.cugraph_to_arangodb()`](https://github.com/arangoml/cugraph-adapter/blob/master/adbcug_adapter/adapter.py)\n",
    "\n",
    "Important notes\n",
    "* Even if this graph has more than 1 vertex collection, a custom `ADBCUG Controller` is still **not** required here. This is because the cuGraph Node IDs are already formatted to ArangoDB standard, so the default ADBCUG Controller will take care of node identification (see [`_identify_cugraph_node()`](https://github.com/arangoml/cugraph-adapter/blob/master/adbcug_adapter/controller.py))"
   ]
  },
  {
   "cell_type": "code",
   "execution_count": null,
   "metadata": {
    "colab": {
     "base_uri": "https://localhost:8080/"
    },
    "id": "Pdx2r_AtoSWF",
    "outputId": "ee0c48ed-b507-48d0-b2cc-d0b0ca2d293c"
   },
   "outputs": [],
   "source": [
    "# Create the cuGraph graph\n",
    "cug_graph = cugraph.MultiGraph(directed=True)\n",
    "cug_graph.from_cudf_edgelist(\n",
    "    cudf.DataFrame(\n",
    "        [\n",
    "            (f\"numbers_j/{j}\", f\"numbers_i/{i}\", j / i)\n",
    "            for i in range(1, 101)\n",
    "            for j in range(1, 101)\n",
    "            if j % i == 0\n",
    "        ],\n",
    "        columns=[\"src\", \"dst\", \"weight\"],\n",
    "    ),\n",
    "    source=\"src\",\n",
    "    destination=\"dst\",\n",
    "    edge_attr=\"weight\",\n",
    "    renumber=False,\n",
    ")\n",
    "\n",
    "# Specify ArangoDB edge definitions\n",
    "edge_definitions = [\n",
    "    {\n",
    "        \"edge_collection\": \"is_divisible_by\",\n",
    "        \"from_vertex_collections\": [\"numbers_j\"],\n",
    "        \"to_vertex_collections\": [\"numbers_i\"],\n",
    "    }\n",
    "]\n",
    "\n",
    "# Create ArangoDB graph from cuGraph\n",
    "name = \"DivisibilityGraph\"\n",
    "db.delete_graph(name, drop_collections=True, ignore_missing=True)\n",
    "adb_graph = adbcug_adapter.cugraph_to_arangodb(name, cug_graph, edge_definitions, keyify_nodes=True)\n",
    "\n",
    "\n",
    "print('\\n--------------------')\n",
    "print(\"URL: \" + con[\"url\"])\n",
    "print(\"Username: \" + con[\"username\"])\n",
    "print(\"Password: \" + con[\"password\"])\n",
    "print(\"Database: \" + con[\"dbName\"])\n",
    "print('--------------------\\n')\n",
    "print(f\"View the created graph here: {con['url']}/_db/{con['dbName']}/_admin/aardvark/index.html#graph/{name}\")"
   ]
  },
  {
   "cell_type": "markdown",
   "metadata": {
    "id": "nuVoCZQv6oyi"
   },
   "source": [
    "#### School Graph with a custom ADBCUG_Controller"
   ]
  },
  {
   "cell_type": "markdown",
   "metadata": {
    "id": "zPv3BgWt6wEd"
   },
   "source": [
    "Data source\n",
    "* No source, the graph data is arbitrary\n",
    "\n",
    "Package methods used\n",
    "* [`adbcug_adapter.adapter.cugraph_to_arangodb()`](https://github.com/arangoml/cugraph-adapter/blob/master/adbcug_adapter/adapter.py)\n",
    "\n",
    "Important notes\n",
    "* Here we demonstrate the functionality of having a custom `ADBCUG_Controller`, that overrides the [default ADBCUG_Controller](https://github.com/arangoml/cugraph-adapter/blob/master/adbcug_adapter/controller.py).\n",
    "* Recall that a custom ADBCUG Controller for `cuGraph --> ArangoDB` functionality is almost always needed, at the exception of Homogeneous graphs, and graphs where the node IDs are already formatted to the ArangoDB vertex ID standard (i.e `collection/_key`)"
   ]
  },
  {
   "cell_type": "code",
   "execution_count": null,
   "metadata": {
    "colab": {
     "base_uri": "https://localhost:8080/"
    },
    "id": "oiToiEJ19ZVx",
    "outputId": "229916ac-b888-4d41-ab47-399b9565a68c"
   },
   "outputs": [],
   "source": [
    "# Load some arbitary data\n",
    "df = cudf.DataFrame(\n",
    "  [\n",
    "   ('student:101', 'lecture:101'), \n",
    "   ('student:102', 'lecture:102'), \n",
    "   ('student:103', 'lecture:103'), \n",
    "   ('student:103', 'student:101'), \n",
    "   ('student:103', 'student:102'),\n",
    "   ('teacher:101', 'lecture:101'),\n",
    "   ('teacher:102', 'lecture:102'),\n",
    "   ('teacher:103', 'lecture:103'),\n",
    "   ('teacher:101', 'teacher:102'),\n",
    "   ('teacher:102', 'teacher:103')\n",
    "  ],\n",
    "  columns=['src', 'dst']\n",
    ")\n",
    "\n",
    "# Create the cuGraph graph\n",
    "cug_graph = cugraph.MultiGraph(directed=True)\n",
    "cug_graph.from_cudf_edgelist(df, source='src', destination='dst')\n",
    "\n",
    "# Specify ArangoDB edge definitions\n",
    "edge_definitions = [\n",
    "    {\n",
    "        \"edge_collection\": \"attends\",\n",
    "        \"from_vertex_collections\": [\"student\"],\n",
    "        \"to_vertex_collections\": [\"lecture\"],\n",
    "    },\n",
    "    {\n",
    "        \"edge_collection\": \"classmate\",\n",
    "        \"from_vertex_collections\": [\"student\"],\n",
    "        \"to_vertex_collections\": [\"student\"],\n",
    "    },\n",
    "    {\n",
    "        \"edge_collection\": \"teaches\",\n",
    "        \"from_vertex_collections\": [\"teacher\"],\n",
    "        \"to_vertex_collections\": [\"lecture\"],\n",
    "    },\n",
    "    {\n",
    "        \"edge_collection\": \"colleague\",\n",
    "        \"from_vertex_collections\": [\"teacher\"],\n",
    "        \"to_vertex_collections\": [\"teacher\"],\n",
    "    }\n",
    "]\n",
    "\n",
    "\n",
    "# Given our graph is heterogeneous, and has a non-ArangoDB way of\n",
    "# formatting its Node IDs, we must derive a custom ABCCUG Controller\n",
    "# to handle this behavior.\n",
    "class Custom_ADBCUG_Controller(ADBCUG_Controller):\n",
    "  \"\"\"ArangoDB-cuGraph controller.\n",
    "\n",
    "  Responsible for controlling how nodes & edges are handled when\n",
    "  transitioning from ArangoDB to cuGraph.\n",
    "\n",
    "  You can derive your own custom ADBCUG_Controller.\n",
    "  \"\"\"\n",
    "\n",
    "  def _identify_cugraph_node(self, cug_node_id: CUGId, adb_v_cols: List[str]) -> str:\n",
    "    \"\"\"Given a cuGraph node, and a list of ArangoDB vertex collections defined,\n",
    "    identify which ArangoDB vertex collection it should belong to.\n",
    "\n",
    "    NOTE: You must override this function if len(**adb_v_cols**) > 1\n",
    "    OR **cug_node_id* does NOT comply to ArangoDB standards\n",
    "    (i.e \"{collection}/{key}\").\n",
    "\n",
    "    :param cug_node_id: The cuGraph ID of the vertex.\n",
    "    :type cug_node_id: adbcug_adapter.typings.CUGId\n",
    "    :param adb_v_cols: All ArangoDB vertex collections specified\n",
    "        by the **edge_definitions** parameter of cugraph_to_arangodb()\n",
    "    :type adb_v_cols: List[str]\n",
    "    :return: The ArangoDB collection name\n",
    "    :rtype: str\n",
    "    \"\"\"\n",
    "    return str(cug_node_id).split(\":\")[0] # Identify node based on ':' split\n",
    "\n",
    "  def _identify_cugraph_edge(\n",
    "      self,\n",
    "      from_cug_node: Json,\n",
    "      to_cug_node: Json,\n",
    "      adb_e_cols: List[str],\n",
    "  ) -> str:\n",
    "    \"\"\"Given a pair of connected cuGraph nodes, and a list of ArangoDB\n",
    "    edge collections defined, identify which ArangoDB edge collection it\n",
    "    should belong to.\n",
    "\n",
    "    NOTE: You must override this function if len(**adb_e_cols**) > 1.\n",
    "\n",
    "    NOTE #2: The pair of associated cuGraph nodes can be accessed\n",
    "    by the **from_cug_node** & **to_cug_node** parameters, and are guaranteed\n",
    "    to have the following attributes: `{\"cug_id\", \"adb_id\", \"adb_col\", \"adb_key\"}`\n",
    "\n",
    "    :param from_cug_node: The cuGraph node representing the edge source.\n",
    "    :type from_cug_node: adbcug_adapter.typings.Json\n",
    "    :param to_cug_node: The cuGraph node representing the edge destination.\n",
    "    :type to_cug_node: adbcug_adapter.typings.Json\n",
    "    :param adb_e_cols: All ArangoDB edge collections specified\n",
    "        by the **edge_definitions** parameter of\n",
    "        ADBCUG_Adapter.cugraph_to_arangodb()\n",
    "    :type adb_e_cols: List[str]\n",
    "    :return: The ArangoDB collection name\n",
    "    :rtype: str\n",
    "    \"\"\"\n",
    "    from_col = from_cug_node[\"adb_col\"] # From node collection\n",
    "    to_col = to_cug_node[\"adb_col\"] # To node collection\n",
    "\n",
    "    if from_col == \"student\" and to_col == \"lecture\":\n",
    "      return \"attends\"\n",
    "    elif from_col == to_col == \"student\":\n",
    "      return \"classmate\"\n",
    "    elif from_col == \"teacher\" and to_col == \"lecture\":\n",
    "      return \"teaches\"\n",
    "    elif from_col == to_col == \"teacher\":\n",
    "      return \"colleague\"\n",
    "    else:\n",
    "      raise ValueError(f\"Unknown edge relationship between {from_cug_node} and {to_cug_node}\")\n",
    "\n",
    "  def _keyify_cugraph_node(self, cug_node_id: CUGId, col: str) -> str:\n",
    "    \"\"\"Given a cuGraph node, derive its valid ArangoDB key.\n",
    "\n",
    "    NOTE: You can override this function if you want to create custom ArangoDB _key\n",
    "    values from your cuGraph nodes. To enable the use of this method, enable the\n",
    "    **keyify_nodes** parameter in ADBCUG_Adapter.cugraph_to_arangodb().\n",
    "\n",
    "    :param cug_node_id: The cuGraph node id.\n",
    "    :type cug_node_id: adbcug_adapter.typings.CUGId\n",
    "    :param col: The ArangoDB collection the vertex belongs to.\n",
    "    :type col: str\n",
    "    :return: A valid ArangoDB _key value.\n",
    "    :rtype: str\n",
    "    \"\"\"\n",
    "    return str(cug_node_id).split(\":\")[1] # Keyify node based on ':' split\n",
    "\n",
    "\n",
    "# Instantiate the adapter\n",
    "custom_adbcug_adapter = ADBCUG_Adapter(db, Custom_ADBCUG_Controller())\n",
    "custom_adbcug_adapter.set_logging(logging.DEBUG) # Update logging to verbose\n",
    "\n",
    "# Create the ArangoDB graph\n",
    "name = \"SchoolGraph\"\n",
    "db.delete_graph(name, drop_collections=True, ignore_missing=True)\n",
    "adb_g = custom_adbcug_adapter.cugraph_to_arangodb(name, cug_graph, edge_definitions, keyify_nodes=True)\n",
    "\n",
    "print('\\n--------------------')\n",
    "print(\"URL: \" + con[\"url\"])\n",
    "print(\"Username: \" + con[\"username\"])\n",
    "print(\"Password: \" + con[\"password\"])\n",
    "print(\"Database: \" + con[\"dbName\"])\n",
    "print('--------------------\\n')\n",
    "print(f\"View the created graph here: {con['url']}/_db/{con['dbName']}/_admin/aardvark/index.html#graph/{name}\")\n"
   ]
  }
 ],
 "metadata": {
  "accelerator": "GPU",
  "colab": {
   "collapsed_sections": [
    "1rmQxwWC1_VR",
    "KS9c-vE5eG89",
    "lRmEM5eaQxJ5",
    "Oc__NAd1eG8-",
    "7y81WHO8eG8_",
    "QfE_tKxneG9A",
    "uByvwf9feG9A",
    "ZrEDmtqCVD0W",
    "RQ4CknYfUEuz",
    "tWU1YW9AViTA",
    "XnUEQgPU3_eQ",
    "OX6ksyYJwFiG",
    "KLUw5iarn7eh"
   ],
   "name": "ArangoDB_cuGraph_Adapter_v1.ipynb",
   "provenance": []
  },
  "kernelspec": {
   "display_name": "Python 3",
   "language": "python",
   "name": "python3"
  },
  "language_info": {
   "codemirror_mode": {
    "name": "ipython",
    "version": 3
   },
   "file_extension": ".py",
   "mimetype": "text/x-python",
   "name": "python",
   "nbconvert_exporter": "python",
   "pygments_lexer": "ipython3",
   "version": "3.7.6"
  }
 },
 "nbformat": 4,
 "nbformat_minor": 0
}
